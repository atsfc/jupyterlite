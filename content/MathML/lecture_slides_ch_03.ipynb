{
  "nbformat": 4,
  "nbformat_minor": 0,
  "metadata": {
    "colab": {
      "provenance": []
    },
    "kernelspec": {
      "name": "python3",
      "display_name": "Python 3"
    },
    "language_info": {
      "name": "python"
    }
  },
  "cells": [
    {
      "cell_type": "markdown",
      "source": [
        "## Norm and distance\n",
        "\n",
        "#### Norm\n",
        "\n",
        "The *Euclidean norm* of an $n$-vector $x$ (named after the Greek mathematician Euclid), denoted $\\|x\\|$, is the squareroot of the sum of the squares of its elements,\n",
        "$$\n",
        "\\|x\\|=\\sqrt{x_1^2+x_2^2+\\cdots+x_n^2} .\n",
        "$$\n",
        "The Euclidean norm can also be expressed as the squareroot of the inner product of the vector with itself, i.e., $\\|x\\|=\\sqrt{x^T x}$.\n",
        "\n",
        "#### Properties of norm.\n",
        "\n",
        "Some important properties of the Euclidean norm are given below. Here $x$ and $y$ are vectors of the same size, and $\\beta$ is a scalar.\n",
        "\n",
        "- Nonnegative homogeneity. $\\|\\beta x\\|=|\\beta|\\|x\\|$. Multiplying a vector by a scalar multiplies the norm by the absolute value of the scalar.\n",
        "- Triangle inequality. $\\|x+y\\| \\leq\\|x\\|+\\|y\\|$. The Euclidean norm of a sum of two vectors is no more than the sum of their norms. (The name of this property will be explained later.) Another name for this inequality is subadditivity.\n",
        "- Nonnegativity. $\\|x\\| \\geq 0$.\n",
        "- Definiteness. $\\|x\\|=0$ only if $x=0$."
      ],
      "metadata": {
        "id": "1TOMVZuVR2Yh"
      }
    },
    {
      "cell_type": "code",
      "source": [
        "import numpy as np\n",
        "import numpy.linalg as npl\n",
        "\n",
        "x = np.array([2, -1, 2])\n",
        "print(npl.norm(x), np.sqrt(np.inner(x,x)), np.sqrt(sum(np.array(x)**2)))\n",
        "\n",
        "x,y = np.random.randn(10), np.random.randn(10)\n",
        "print(x)\n",
        "print(npl.norm(x+y) <= npl.norm(x) + npl.norm(y))\n",
        "print(npl.norm(x+y))\n",
        "print(npl.norm(x) + npl.norm(y))"
      ],
      "metadata": {
        "colab": {
          "base_uri": "https://localhost:8080/"
        },
        "id": "3iivmvDBSXCJ",
        "outputId": "d87746f5-d820-4ede-b395-f4369d98a899"
      },
      "execution_count": null,
      "outputs": [
        {
          "output_type": "stream",
          "name": "stdout",
          "text": [
            "3.0 3.0 3.0\n",
            "[ 0.70550726 -0.62490446 -0.47629894 -0.84193625  0.20505382 -0.99761176\n",
            " -0.97762532 -0.33762024 -0.37718673  0.76033673]\n",
            "True\n",
            "3.698362812244354\n",
            "5.375570432025827\n"
          ]
        }
      ]
    },
    {
      "cell_type": "markdown",
      "source": [
        "#### Root-mean-square value.\n",
        "\n",
        "The norm is related to the *root-mean-square* (RMS) value of an $n$-vector $x$, defined as\n",
        "$$\n",
        "\\operatorname{rms}(x)=\\sqrt{\\frac{x_1^2+\\cdots+x_n^2}{n}}=\\frac{\\|x\\|}{\\sqrt{n}} .\n",
        "$$\n",
        "The argument of the squareroot in the middle expression is called the mean square value of $x$, denoted $\\mathbf{m s}(x)$, and the RMS value is the squareroot of the mean square value. The RMS value of a vector $x$ is useful when comparing norms of vectors with different dimensions; the RMS value tells us what a 'typical' value of $\\left|x_i\\right|$ is. For example, the norm of $\\mathbf{1}$, the $n$-vector of all ones, is $\\sqrt{n}$, but its RMS value is 1 , independent of $n$. More generally, if all the entries of a vector are the same, say, $\\alpha$, then the RMS value of the vector is $|\\alpha|$."
      ],
      "metadata": {
        "id": "cBev4ccoTruD"
      }
    },
    {
      "cell_type": "code",
      "source": [
        "rms = lambda x: npl.norm(x) / np.sqrt(len(x))\n",
        "t = np.linspace(0,1,101) #t = 0:.01:1\n",
        "x = np.cos(8 * t) - 2 * np.sin(11 * t)\n",
        "\n",
        "print('average:', np.average(x))\n",
        "print('root mean square:', rms(x))\n",
        "print('x:', x)"
      ],
      "metadata": {
        "colab": {
          "base_uri": "https://localhost:8080/"
        },
        "id": "EeX8pBznS-cE",
        "outputId": "80972dd5-135c-4c20-ce5c-7cedc4085f23"
      },
      "execution_count": null,
      "outputs": [
        {
          "output_type": "stream",
          "name": "stdout",
          "text": [
            "average: -0.042529437832386816\n",
            "root mean square: 1.0837556422598\n",
            "x: [ 1.          0.7772451   0.55076804  0.32325192  0.09735649 -0.12431346\n",
            " -0.33923878 -0.54501537 -0.739382   -0.92024623 -1.08570801 -1.23408086\n",
            " -1.36391021 -1.47398886 -1.56336921 -1.6313723  -1.67759342 -1.70190437\n",
            " -1.7044522  -1.68565468 -1.64619233 -1.58699731 -1.50923924 -1.41430817\n",
            " -1.30379488 -1.17946882 -1.04325395 -0.8972028  -0.74346905 -0.58427899\n",
            " -0.42190233 -0.25862246 -0.09670686  0.06162219  0.21421621  0.35902793\n",
            "  0.49413741  0.61777625  0.7283499   0.82445752  0.90490937  0.96874134\n",
            "  1.01522657  1.04388392  1.05448331  1.04704772  1.02185198  0.97941823\n",
            "  0.92050825  0.84611263  0.75743703  0.65588565  0.54304213  0.42064812\n",
            "  0.2905798   0.15482271  0.01544505 -0.12543001 -0.26565282 -0.40307609\n",
            " -0.53558374 -0.66111939 -0.7777141  -0.88351311 -0.97680105 -1.05602551\n",
            " -1.11981852 -1.16701567 -1.19667275 -1.20807953 -1.20077059 -1.17453306\n",
            " -1.12941109 -1.06570712 -0.98397969 -0.88503813 -0.76993387 -0.63994866\n",
            " -0.49657978 -0.34152243 -0.17664947 -0.00398877  0.17430149  0.35595938\n",
            "  0.53864726  0.71998091  0.8975595   1.06899594  1.23194728  1.38414475\n",
            "  1.5234231   1.64774887  1.7552472   1.84422684  1.91320317  1.9609187\n",
            "  1.986361    1.98877774  1.9676886   1.922894    1.85448038]\n"
          ]
        }
      ]
    },
    {
      "cell_type": "code",
      "source": [
        "import matplotlib.pyplot as plt\n",
        "fig, _ = plt.subplots()\n",
        "\n",
        "plt.plot(t,x) # some signal\n",
        "plt.plot(t, np.average(x) * np.ones(len(x))) # average of the signal:yellow\n",
        "plt.plot(t, (np.average(x) + rms(x)) * np.ones(len(x))) # average + rms:green\n",
        "plt.plot(t, (np.average(x) - rms(x)) * np.ones(len(x))) # average - rms:red\n",
        "plt.legend(('signal','signal avg', 'avg + rms', 'avg - rms'), loc=0)\n"
      ],
      "metadata": {
        "colab": {
          "base_uri": "https://localhost:8080/",
          "height": 447
        },
        "id": "12bv50TaUekB",
        "outputId": "f78df1ea-1967-4901-c059-c679c1933f81"
      },
      "execution_count": null,
      "outputs": [
        {
          "output_type": "execute_result",
          "data": {
            "text/plain": [
              "<matplotlib.legend.Legend at 0x7c93a2e65480>"
            ]
          },
          "metadata": {},
          "execution_count": 5
        },
        {
          "output_type": "display_data",
          "data": {
            "text/plain": [
              "<Figure size 640x480 with 1 Axes>"
            ],
            "image/png": "[encoded data removed]"
          },
          "metadata": {}
        }
      ]
    },
    {
      "cell_type": "code",
      "source": [
        "plt.close(fig)"
      ],
      "metadata": {
        "id": "5Oevdm1DVge2"
      },
      "execution_count": null,
      "outputs": []
    },
    {
      "cell_type": "markdown",
      "source": [
        "#### Norm of a sum.\n",
        "\n",
        "A useful formula for the norm of the sum of two vectors $x$ and $y$ is\n",
        "$$\n",
        "\\|x+y\\|=\\sqrt{\\|x\\|^2+2 x^T y+\\|y\\|^2}.\n",
        "$$\n",
        "\n",
        "\n",
        "#### Chebyshev inequality.\n",
        "\n",
        "Suppose that $x$ is an $n$-vector, and that $k$ of its entries satisfy $\\left|x_i\\right| \\geq a$, where $a>0$. Then $k$ of its entries satisfy $x_i^2 \\geq a^2$. It follows that\n",
        "$$\n",
        "\\|x\\|^2=x_1^2+\\cdots+x_n^2 \\geq k a^2\n",
        "$$\n",
        "since $k$ of the numbers in the sum are at least $a^2$, and the other $n-k$ numbers are nonnegative. We can conclude that $k \\leq\\|x\\|^2 / a^2$, which is called the *Chebyshev inequality*, after the mathematician Pafnuty Chebyshev. When $\\|x\\|^2 / a^2 \\geq n$, the inequality tells us nothing, since we always have $k \\leq n$. In other cases it limits the number of entries in a vector that can be large. For $a>\\|x\\|$, the inequality is $k \\leq\\|x\\|^2 / a^2<1$, so we conclude that $k=0$ (since $k$ is an integer). In other words, no entry of a vector can be larger in magnitude than the norm of the vector.\n",
        "\n",
        "The Chebyshev inequality is easier to interpret in terms of the RMS value of a vector. We can write it as\n",
        "$$\n",
        "\\frac{k}{n} \\leq\\left(\\frac{\\operatorname{rms}(x)}{a}\\right)^2,\n",
        "$$\n",
        "where $k$ is, as above, the number of entries of $x$ with absolute value at least $a$. The left-hand side is the fraction of entries of the vector that are at least $a$ in absolute value. The right-hand side is the inverse square of the ratio of $a$ to $\\mathbf{r m s}(x)$."
      ],
      "metadata": {
        "id": "h_yKLalXUdRu"
      }
    },
    {
      "cell_type": "code",
      "source": [
        "cheb_bound = lambda x, a: npl.norm(x) ** 2 // a\n",
        "a = 1.5\n",
        "\n",
        "cheb_bound(x, a), len(x), len([i for i in x if np.abs(i) >= a])\n",
        "# This says there can be *at most*:\n",
        "# 79 of the 101 values in x, with an absolute value of at least 1.5\n",
        "# in fact, there are 20"
      ],
      "metadata": {
        "colab": {
          "base_uri": "https://localhost:8080/"
        },
        "id": "T4EZpP56W0CG",
        "outputId": "2fa1f56d-d25e-484b-9213-33d073405d79"
      },
      "execution_count": null,
      "outputs": [
        {
          "output_type": "execute_result",
          "data": {
            "text/plain": [
              "(79.0, 101, 20)"
            ]
          },
          "metadata": {},
          "execution_count": 5
        }
      ]
    },
    {
      "cell_type": "markdown",
      "source": [
        "## Distance\n",
        "\n",
        "#### Euclidean distance.\n",
        "\n",
        "We can use the norm to define the Euclidean distance between two vectors $a$ and $b$ as the norm of their difference:\n",
        "$$\n",
        "\\operatorname{dist}(a, b)=\\|a-b\\|.\n",
        "$$\n",
        "For one, two, and three dimensions, this distance is exactly the usual distance between points with coordinates $a$ and $b$. But the Euclidean distance is defined for vectors of any dimension; we can refer to the distance between two vectors of dimension 100. Since we only use the Euclidean norm in this book, we will refer to the Euclidean distance between vectors as, simply, the distance between the vectors. If $a$ and $b$ are $n$-vectors, we refer to the RMS value of the difference, $\\|a-b\\| / \\sqrt{n}$, as the $R M S$ deviation between the two vectors."
      ],
      "metadata": {
        "id": "Yx8Hc3amlhId"
      }
    },
    {
      "cell_type": "markdown",
      "source": [
        "#### Examples\n",
        "\n",
        "> ##### Feature distance\n",
        ">\n",
        "> If $x$ and $y$ represent vectors of $n$ features of two objects, the quantity $\\|x-y\\|$ is called the feature distance, and gives a measure of how different the objects are (in terms of their feature values). Suppose for example the feature vectors are associated with patients in a hospital, with entries such as weight, age, presence of chest pain, difficulty breathing, and the results of tests. We can use feature vector distance to say that one patient case is near another one (at least in terms of their feature vectors).\n",
        "\n",
        "> ##### RMS prediction error\n",
        ">\n",
        "> Suppose that the $n$-vector $y$ represents a time series of some quantity, for example, hourly temperature at some location, and $\\hat{y}$ is another $n$-vector that represents an estimate or prediction of the time series $y$, based on other information. The difference $y-\\hat{y}$ is called the prediction error, and its RMS value $\\mathbf{r m s}(y-\\hat{y})$ is called the _$R M S$ prediction error_. If this value is small (say, compared to rms $(y)$ ) the prediction is good.\n",
        "\n",
        "> ##### Document dissimilarity\n",
        ">\n",
        "> Suppose $n$-vectors $x$ and $y$ represent the histograms of word occurrences for two documents. Then $\\|x-y\\|$ represents a measure of the dissimilarity of the two documents. We might expect the dissimilarity to be smaller when the two documents have the same genre, topic, or author; we would expect it to be larger when they are on different topics, or have different authors. As an example we form the word count histograms for the 5 Wikipedia articles with titles 'Veterans Day', 'Memorial Day', 'Academy Awards', 'Golden Globe Awards', and 'Super Bowl', using a dictionary of 4423 words.\n",
        ">\n",
        "> |  | Veterans <br> Day | Memorial <br> Day | Academy <br> Awards | Golden Globe <br> Awards | Super Bowl |\n",
        "> | :--- | :---: | :---: | :---: | :---: | :---: |\n",
        "> | Veterans Day | 0 | 0.095 | 0.130 | 0.153 | 0.170 |\n",
        "> | Memorial Day | 0.095 | 0 | 0.122 | 0.147 | 0.164 |\n",
        "> | Academy A. | 0.130 | 0.122 | 0 | 0.108 | 0.164 |\n",
        "> | Golden Globe A. | 0.153 | 0.147 | 0.108 | 0 | 0.181 |\n",
        "> | Super Bowl | 0.170 | 0.164 | 0.164 | 0.181 | 0 |\n",
        "\n",
        "##### Nearest neighbor\n",
        "\n",
        "> Suppose $z_1, \\ldots, z_m$ is a collection of $m n$-vectors, and that $x$ is another $n$-vector. We say that $z_j$ is the nearest neighbor of $x$ (among $\\left.z_1, \\ldots, z_m\\right)$ if\n",
        "$$\n",
        "\\left\\|x-z_j\\right\\| \\leq\\left\\|x-z_i\\right\\|, \\quad i=1, \\ldots, m .\n",
        "$$\n",
        "**In words:** $z_j$ is the closest vector to $x$ among the vectors $z_1, \\ldots, z_m$. The idea of nearest neighbor, and generalizations such as the $k$-nearest neighbors, are used in many applications.\n"
      ],
      "metadata": {
        "id": "MsRm4qYYqt1V"
      }
    },
    {
      "cell_type": "code",
      "source": [
        "u,v,w = np.array([1.8,2.0,-3.7,4.7]),np.array([.6,2.1,1.9,-1.4]),np.array([2.0,1.9,-4,4.6])\n",
        "\n",
        "print('distance between u and v:', npl.norm(u-v))\n",
        "print('distance between u and w:', npl.norm(u-w))\n",
        "print('distance between v and w:', npl.norm(v-w))"
      ],
      "metadata": {
        "id": "V_TWknjPXIdJ",
        "colab": {
          "base_uri": "https://localhost:8080/"
        },
        "outputId": "df49b681-9b25-4b5d-c4bf-20f6936fa651"
      },
      "execution_count": null,
      "outputs": [
        {
          "output_type": "stream",
          "name": "stdout",
          "text": [
            "distance between u and v: 8.36779540858881\n",
            "distance between u and w: 0.3872983346207417\n",
            "distance between v and w: 8.532877591996735\n"
          ]
        }
      ]
    },
    {
      "cell_type": "code",
      "source": [
        "# You can use this notion of distance to create a \"nearest neighbor\" function:\n",
        "nearest_neighbor = lambda x, z: z[np.argmin([npl.norm(x-y) for y in z])]\n",
        "\n",
        "z = ([2,1], [7,2], [5.5,4], [4,8], [1,5], [9,6])\n",
        "\n",
        "pointa, pointb = [5,6], [3,3]\n",
        "\n",
        "print('nearest neighbours of z to the point a: ', nearest_neighbor(np.array(pointa), z))\n",
        "print('nearest neighbours of z to the point b: ', nearest_neighbor(np.array(pointb), z))"
      ],
      "metadata": {
        "colab": {
          "base_uri": "https://localhost:8080/"
        },
        "id": "XUHEpLNOo33-",
        "outputId": "16392363-d808-4b3c-83d3-85f086a8a337"
      },
      "execution_count": null,
      "outputs": [
        {
          "output_type": "stream",
          "name": "stdout",
          "text": [
            "nearest neighbours of z to the point a:  [5.5, 4]\n",
            "nearest neighbours of z to the point b:  [2, 1]\n"
          ]
        }
      ]
    },
    {
      "cell_type": "code",
      "source": [
        "fig, _ = plt.subplots()\n",
        "\n",
        "plt.scatter(*zip(*z))\n",
        "# print(*zip(*z))\n",
        "n = [str(i) for i in z]\n",
        "\n",
        "for i, txt in enumerate(n):\n",
        "    plt.annotate(txt, (z[i][0], z[i][1]))\n",
        "\n",
        "plt.annotate('point a', pointa)\n",
        "plt.annotate('point b', pointb)\n",
        "\n",
        "plt.scatter(pointa[0],pointa[1])\n",
        "plt.scatter(pointb[0],pointb[1])"
      ],
      "metadata": {
        "colab": {
          "base_uri": "https://localhost:8080/",
          "height": 447
        },
        "id": "PZHx7MUSpe9E",
        "outputId": "338b2894-5b97-48fd-9d10-d8407ab287ad"
      },
      "execution_count": null,
      "outputs": [
        {
          "output_type": "execute_result",
          "data": {
            "text/plain": [
              "<matplotlib.collections.PathCollection at 0x7c938449a7a0>"
            ]
          },
          "metadata": {},
          "execution_count": 8
        },
        {
          "output_type": "display_data",
          "data": {
            "text/plain": [
              "<Figure size 640x480 with 1 Axes>"
            ],
            "image/png": "[encoded data removed]"
          },
          "metadata": {}
        }
      ]
    },
    {
      "cell_type": "code",
      "source": [
        "plt.close(fig)"
      ],
      "metadata": {
        "id": "yE0kPW8qqh6C"
      },
      "execution_count": null,
      "outputs": []
    },
    {
      "cell_type": "markdown",
      "source": [
        "## Standard deviation\n",
        "\n",
        "For any vector $x$, the vector $\\tilde{x}=x-\\operatorname{avg}(x) \\mathbf{1}$ is called the associated _de-meaned_ vector, obtained by subtracting from each entry of $x$ the mean value of the entries. (This is not standard notation; i.e., $\\tilde{x}$ is not generally used to denote the de-meaned vector.) The mean value of the entries of $\\tilde{x}$ is zero, i.e., $\\operatorname{avg}(\\tilde{x})=0$. This explains why $\\tilde{x}$ is called the de-meaned version of $x$; it is $x$ with its mean removed. The de-meaned vector is useful for understanding how the entries of a vector deviate from their mean value. It is zero if all the entries in the original vector $x$ are the same.\n",
        "\n",
        "The standard deviation of an $n$-vector $x$ is defined as the RMS value of the de-meaned vector $x-\\operatorname{avg}(x) \\mathbf{1}$, i.e.,\n",
        "$$\n",
        "\\operatorname{std}(x)=\\sqrt{\\frac{\\left(x_1-\\operatorname{avg}(x)\\right)^2+\\cdots+\\left(x_n-\\operatorname{avg}(x)\\right)^2}{n}}.\n",
        "$$\n",
        "This is the same as the RMS deviation between a vector $x$ and the vector all of whose entries are $\\operatorname{avg}(x)$. It can be written using the inner product and norm as\n",
        "$$\n",
        "\\operatorname{std}(x)=\\frac{\\left\\|x-\\left(\\mathbf{1}^T x / n\\right) \\mathbf{1}\\right\\|}{\\sqrt{n}}.\n",
        "$$\n",
        "The standard deviation of a vector $x$ tells us the typical amount by which its entries deviate from their average value. The standard deviation of a vector is zero only when all its entries are equal. The standard deviation of a vector is small when the entries of the vector are nearly the same."
      ],
      "metadata": {
        "id": "W7NkL08OrP-8"
      }
    },
    {
      "cell_type": "code",
      "source": [
        "# De-meaning is useful for understanding how entries of a vector deviate\n",
        "# from the mean also gives us SD in terms of norm\n",
        "de_mean = lambda x: x - np.average(x)\n",
        "x = np.array([1,-2.2,3])\n",
        "\n",
        "print(f'the average of x: {np.average(x)}')\n",
        "print(f'the de-mean of x: {de_mean(x)}')\n",
        "print(f'the average of the de-mean of x: {np.average(de_mean(x)).round()}')"
      ],
      "metadata": {
        "colab": {
          "base_uri": "https://localhost:8080/"
        },
        "id": "x9Hr3Jp6sZ7V",
        "outputId": "c2548bdf-ff16-47ac-c187-6668054e2a42"
      },
      "execution_count": null,
      "outputs": [
        {
          "output_type": "stream",
          "name": "stdout",
          "text": [
            "the average of x: 0.6\n",
            "the de-mean of x: [ 0.4 -2.8  2.4]\n",
            "the average of the de-mean of x: -0.0\n"
          ]
        }
      ]
    },
    {
      "cell_type": "code",
      "source": [
        "# Standard deviation is RMS of a de-meaned vector\n",
        "# gives the typical amount that vector values deviate from mean\n",
        "x = np.random.rand(100)\n",
        "stdev = lambda x: npl.norm(x - np.average(x))/np.sqrt(len(x))\n",
        "\n",
        "\n",
        "print(f'the standard deviation of x: {stdev(x)}')\n",
        "print(f'the standard deviation of x: {np.std(x)}')"
      ],
      "metadata": {
        "colab": {
          "base_uri": "https://localhost:8080/"
        },
        "id": "QmrhaU751qew",
        "outputId": "4c455c25-d2ba-48e3-f180-05959515281b"
      },
      "execution_count": null,
      "outputs": [
        {
          "output_type": "stream",
          "name": "stdout",
          "text": [
            "the standard deviation of x: 0.27610002512269355\n",
            "the standard deviation of x: 0.27610002512269355\n"
          ]
        }
      ]
    },
    {
      "cell_type": "markdown",
      "source": [
        "##### Average, RMS value, and standard deviation\n",
        "\n",
        "The average, RMS value, and standard deviation of a vector are related by the formula\n",
        "$$\n",
        "\\operatorname{rms}(x)^2=\\operatorname{avg}(x)^2+\\operatorname{std}(x)^2.\n",
        "$$"
      ],
      "metadata": {
        "id": "OgrIIj2br8gh"
      }
    },
    {
      "cell_type": "code",
      "source": [
        "import numpy as np\n",
        "import numpy.linalg as npl\n",
        "\n",
        "rms = lambda x: npl.norm(x) / np.sqrt(len(x))\n",
        "LHS = rms(x) ** 2\n",
        "RHS = np.average(x) ** 2 + np.std(x) ** 2\n",
        "print(LHS)\n",
        "print(RHS)"
      ],
      "metadata": {
        "colab": {
          "base_uri": "https://localhost:8080/",
          "height": 211
        },
        "id": "SJPJxGxqrcbo",
        "outputId": "e3e47eec-eeca-4d5b-f4b9-a45a0605bf48"
      },
      "execution_count": null,
      "outputs": [
        {
          "output_type": "error",
          "ename": "NameError",
          "evalue": "name 'x' is not defined",
          "traceback": [
            "\u001b[0;31m---------------------------------------------------------------------------\u001b[0m",
            "\u001b[0;31mNameError\u001b[0m                                 Traceback (most recent call last)",
            "\u001b[0;32m<ipython-input-1-3123dd3ac202>\u001b[0m in \u001b[0;36m<cell line: 5>\u001b[0;34m()\u001b[0m\n\u001b[1;32m      3\u001b[0m \u001b[0;34m\u001b[0m\u001b[0m\n\u001b[1;32m      4\u001b[0m \u001b[0mrms\u001b[0m \u001b[0;34m=\u001b[0m \u001b[0;32mlambda\u001b[0m \u001b[0mx\u001b[0m\u001b[0;34m:\u001b[0m \u001b[0mnpl\u001b[0m\u001b[0;34m.\u001b[0m\u001b[0mnorm\u001b[0m\u001b[0;34m(\u001b[0m\u001b[0mx\u001b[0m\u001b[0;34m)\u001b[0m \u001b[0;34m/\u001b[0m \u001b[0mnp\u001b[0m\u001b[0;34m.\u001b[0m\u001b[0msqrt\u001b[0m\u001b[0;34m(\u001b[0m\u001b[0mlen\u001b[0m\u001b[0;34m(\u001b[0m\u001b[0mx\u001b[0m\u001b[0;34m)\u001b[0m\u001b[0;34m)\u001b[0m\u001b[0;34m\u001b[0m\u001b[0;34m\u001b[0m\u001b[0m\n\u001b[0;32m----> 5\u001b[0;31m \u001b[0mLHS\u001b[0m \u001b[0;34m=\u001b[0m \u001b[0mrms\u001b[0m\u001b[0;34m(\u001b[0m\u001b[0mx\u001b[0m\u001b[0;34m)\u001b[0m \u001b[0;34m**\u001b[0m \u001b[0;36m2\u001b[0m\u001b[0;34m\u001b[0m\u001b[0;34m\u001b[0m\u001b[0m\n\u001b[0m\u001b[1;32m      6\u001b[0m \u001b[0mRHS\u001b[0m \u001b[0;34m=\u001b[0m \u001b[0mnp\u001b[0m\u001b[0;34m.\u001b[0m\u001b[0maverage\u001b[0m\u001b[0;34m(\u001b[0m\u001b[0mx\u001b[0m\u001b[0;34m)\u001b[0m \u001b[0;34m**\u001b[0m \u001b[0;36m2\u001b[0m \u001b[0;34m+\u001b[0m \u001b[0mnp\u001b[0m\u001b[0;34m.\u001b[0m\u001b[0mstd\u001b[0m\u001b[0;34m(\u001b[0m\u001b[0mx\u001b[0m\u001b[0;34m)\u001b[0m \u001b[0;34m**\u001b[0m \u001b[0;36m2\u001b[0m\u001b[0;34m\u001b[0m\u001b[0;34m\u001b[0m\u001b[0m\n\u001b[1;32m      7\u001b[0m \u001b[0mprint\u001b[0m\u001b[0;34m(\u001b[0m\u001b[0mLHS\u001b[0m\u001b[0;34m)\u001b[0m\u001b[0;34m\u001b[0m\u001b[0;34m\u001b[0m\u001b[0m\n",
            "\u001b[0;31mNameError\u001b[0m: name 'x' is not defined"
          ]
        }
      ]
    },
    {
      "cell_type": "markdown",
      "source": [
        "#### Example\n",
        "\n",
        "> ##### Mean return and risk\n",
        ">\n",
        "> Suppose that an $n$-vector represents a time series of return on an investment, expressed as a percentage, in $n$ time periods over some interval of time. Its average gives the mean return over the whole interval, often shortened to its return. Its standard deviation is a measure of how variable the return is, from period to period, over the time interval, i.e., how much it typically varies from its mean, and is often called the (per period) risk of the investment. Multiple investments can be compared by plotting them on a risk-return plot, which gives the mean and standard deviation of the returns of each of the investments over some interval. A desirable return history vector has high mean return and low risk; this means that the returns in the different periods are consistently high."
      ],
      "metadata": {
        "id": "NVKOVG4cs8_L"
      }
    },
    {
      "cell_type": "code",
      "source": [
        "a = np.ones(10)\n",
        "print(f'the return of a is: {np.mean(a)},\\nthe risk of a is: {np.std(a)}')\n",
        "\n",
        "b = np.array([ 5, 1, -2, 3, 6, 3, -1, 3, 4, 1 ])\n",
        "print(f'the return of b is: {np.mean(b)},\\nthe risk of b is: {np.std(b)}')\n",
        "\n",
        "c = np.array([ 5, 7, -2, 2, -3, 1, -1, 2, 7, 8 ])\n",
        "print(f'the return of c is: {np.mean(c)},\\nthe risk of c is: {np.std(c)}')\n",
        "\n",
        "d = np.array([ -1, -3, -4, -3, 7, -1, 0, 3, 9, 5 ])\n",
        "print(f'the return of d is: {np.mean(d)},\\nthe risk of d is: {np.std(d)}')\n",
        "\n",
        "investments = [a, b, c, d]\n",
        "returns = []\n",
        "risks = []\n",
        "for item in investments:\n",
        "  returns.append(np.mean(item))\n",
        "  risks.append(np.std(item))\n",
        "\n",
        "fig, _ = plt.subplots()\n",
        "# plt.plot(a, 'o-', label='a')\n",
        "# plt.plot(b, 'o-', label='b')\n",
        "# plt.plot(c, 'o-', label='c')\n",
        "# plt.plot(d, 'o-', label='d')\n",
        "plt.plot(risks, returns,  'o', label='risk and return')\n",
        "plt.legend(loc=0)"
      ],
      "metadata": {
        "colab": {
          "base_uri": "https://localhost:8080/",
          "height": 586
        },
        "id": "nwXmZ3c2tSaj",
        "outputId": "745fa71b-35cd-4a45-9c1e-110a9396ec48"
      },
      "execution_count": null,
      "outputs": [
        {
          "output_type": "stream",
          "name": "stdout",
          "text": [
            "the return of a is: 1.0,\n",
            "the risk of a is: 0.0\n",
            "the return of b is: 2.3,\n",
            "the risk of b is: 2.4103941586387903\n",
            "the return of c is: 2.6,\n",
            "the risk of c is: 3.7735924528226414\n",
            "the return of d is: 1.2,\n",
            "the risk of d is: 4.308131845707604\n"
          ]
        },
        {
          "output_type": "execute_result",
          "data": {
            "text/plain": [
              "<matplotlib.legend.Legend at 0x78ddbcc256f0>"
            ]
          },
          "metadata": {},
          "execution_count": 25
        },
        {
          "output_type": "display_data",
          "data": {
            "text/plain": [
              "<Figure size 640x480 with 1 Axes>"
            ],
            "image/png": "[encoded data removed]"
          },
          "metadata": {}
        }
      ]
    },
    {
      "cell_type": "code",
      "source": [
        "plt.close(fig)"
      ],
      "metadata": {
        "id": "hOXxXZMMxFyp"
      },
      "execution_count": null,
      "outputs": []
    },
    {
      "cell_type": "markdown",
      "source": [
        "#### Standardization.\n",
        "\n",
        "For any vector $x$, we refer to $\\tilde{x}=x-\\mathbf{a v g}(x) \\mathbf{1}$ as the de-meaned version of $x$, since it has average or mean value zero. If we then divide by the RMS value of $\\tilde{x}$ (which is the standard deviation of $x$ ), we obtain the vector\n",
        "$$\n",
        "z=\\frac{1}{\\operatorname{std}(x)}(x-\\operatorname{avg}(x) \\mathbf{1})\n",
        "$$\n",
        "\n",
        "This vector is called the standardized version of $x$. It has mean zero, and standard deviation one. Its entries are sometimes called the $z$-scores associated with the original entries of $x$. For example, $z_4=1.4$ means that $x_4$ is 1.4 standard deviations above the mean of the entries of $x$.\n",
        "\n",
        "> The standardized values for a vector give a simple way to interpret the original values in the vectors. For example, if an $n$-vector $x$ gives the values of some medical test of $n$ patients admitted to a hospital, the standardized values or $z$ scores tell us how high or low, compared to the population, that patient's value is. A value $ z_6=-3.2 $, for example, means that patient 6 has a very low value of the measurement; whereas $z_{22}=0.3$ says that patient 22's value is quite close to the average value."
      ],
      "metadata": {
        "id": "kDkstuqHyukg"
      }
    },
    {
      "cell_type": "code",
      "source": [
        "standardize = lambda x: (x - np.average(x)) / rms(x - np.average(x))\n",
        "x = np.random.rand(100)\n",
        "# print(x)\n",
        "z = standardize(x)\n",
        "\n",
        "print(f'average: {np.mean(x)}\\n'\n",
        "      f'mean {np.std(x)}\\n'\n",
        "      f'standardized average: {np.mean(z).round()}\\n'\n",
        "      f'standardized mean: {np.std(z)}')\n",
        "\n",
        "print(x, z)"
      ],
      "metadata": {
        "colab": {
          "base_uri": "https://localhost:8080/"
        },
        "id": "rQUyMTBry3vP",
        "outputId": "2768f7dc-4d4c-4615-fb99-300731327b58"
      },
      "execution_count": null,
      "outputs": [
        {
          "output_type": "stream",
          "name": "stdout",
          "text": [
            "average: 0.4671278255900632\n",
            "mean 0.291693680614224\n",
            "standardized average: 0.0\n",
            "standardized mean: 0.9999999999999999\n",
            "[4.36616492e-02 5.77863895e-01 9.95565720e-01 2.25821916e-01\n",
            " 9.45795515e-01 1.54850641e-02 7.17547360e-01 3.42766039e-01\n",
            " 1.19686509e-01 4.96692599e-01 1.27901574e-01 6.40276804e-01\n",
            " 1.06952732e-01 1.73071131e-01 5.22094175e-01 1.01717340e-01\n",
            " 1.39752701e-02 3.38975178e-01 4.62833363e-01 2.30765377e-01\n",
            " 9.20339135e-01 5.77479688e-02 1.12788027e-01 7.75284886e-01\n",
            " 9.11894873e-01 3.24285479e-01 7.24464737e-01 8.11817409e-01\n",
            " 3.00438245e-01 8.18685325e-01 3.57183846e-01 5.50298814e-02\n",
            " 5.61048938e-01 9.69439010e-02 8.16108256e-01 6.14606509e-01\n",
            " 9.27776992e-04 4.23220919e-01 4.31215122e-01 2.16070020e-02\n",
            " 6.87893006e-01 5.11745180e-01 3.37766476e-01 4.60566093e-01\n",
            " 1.49682332e-01 7.50561399e-01 1.91918450e-01 6.14456385e-01\n",
            " 6.44376807e-01 9.10955623e-01 6.73594975e-01 8.24934743e-01\n",
            " 9.21423268e-01 2.07478089e-01 2.78546897e-01 1.74901366e-01\n",
            " 6.10819451e-01 6.45907991e-01 8.64305894e-01 4.13632851e-01\n",
            " 3.22648933e-01 1.65039531e-02 5.80012325e-02 3.23477715e-01\n",
            " 3.00520371e-01 2.93567440e-01 8.59174511e-01 9.56740760e-01\n",
            " 6.16978848e-03 7.62725829e-01 3.91823243e-01 7.62177519e-01\n",
            " 4.46183535e-01 3.29417607e-01 9.16308873e-01 4.81157978e-01\n",
            " 8.57310359e-01 3.81530130e-01 3.58241362e-01 4.97631872e-01\n",
            " 3.00991660e-02 6.76208256e-01 6.03384399e-01 2.77062743e-01\n",
            " 2.15842415e-04 1.52908631e-01 6.79626820e-01 4.67926112e-01\n",
            " 8.93257381e-01 6.54561955e-01 7.27951153e-01 8.80660238e-01\n",
            " 4.06008188e-01 3.92487627e-01 7.00029706e-01 4.19032280e-01\n",
            " 8.93747073e-01 3.42512807e-01 7.72981713e-01 2.10252736e-01] [-1.45174957  0.37963136  1.81161928 -0.82725793  1.64099438 -1.54834606\n",
            "  0.85850175 -0.42634378 -1.19111705  0.10135555 -1.16295372  0.59359866\n",
            " -1.23477167 -1.00810101  0.1884386  -1.25271992 -1.55352202 -0.43933982\n",
            " -0.01472251 -0.81031049  1.55372344 -1.40345809 -1.2147668   1.05644065\n",
            "  1.52477437 -0.48969983  0.88221627  1.18168341 -0.5714542   1.20522837\n",
            " -0.37691588 -1.41277639  0.32198542 -1.26908449  1.19639352  0.50559437\n",
            " -1.59825214 -0.15052402 -0.12311787 -1.5273585   0.75683909  0.15295962\n",
            " -0.44348355 -0.02249529 -1.08828375  0.97168225 -0.94348762  0.50507971\n",
            "  0.60765451  1.52155438  0.70782181  1.22665296  1.55744013 -0.89014523\n",
            " -0.64650331 -1.0018265   0.49261138  0.6129038   1.36162727 -0.18339435\n",
            " -0.49531033 -1.54485305 -1.40258984 -0.49246905 -0.57117266 -0.59500907\n",
            "  1.34403558  1.67851745 -1.58028119  1.01338501 -0.25816323  1.01150526\n",
            " -0.07180235 -0.4721056   1.53990668  0.04809893  1.33764479 -0.29345063\n",
            " -0.37329044  0.10457562 -1.49824521  0.7167808   0.46712213 -0.65159136\n",
            " -1.60069283 -1.07722318  0.72850051  0.00273673  1.46088031  0.64257179\n",
            "  0.89416859  1.41769411 -0.20953364 -0.25588555  0.79844678 -0.16488374\n",
            "  1.4625591  -0.42721192  1.04854478 -0.88063303]\n"
          ]
        }
      ]
    },
    {
      "cell_type": "markdown",
      "source": [
        "## Angle\n",
        "\n",
        "#####Angle between vectors.\n",
        "\n",
        "The angle between two nonzero vectors $a, b$ is defined as\n",
        "$$\n",
        "\\theta=\\arccos \\left(\\frac{a^T b}{\\|a\\|\\|b\\|}\\right)\n",
        "$$\n",
        "where arccos denotes the inverse cosine, normalized to lie in the interval $[0, \\pi]$. In other words, we define $\\theta$ as the unique number between 0 and $\\pi$ that satisfies\n",
        "$$\n",
        "a^T b=\\|a\\|\\|b\\| \\cos \\theta .\n",
        "$$"
      ],
      "metadata": {
        "id": "RC25bGpa7ZWb"
      }
    },
    {
      "cell_type": "code",
      "source": [
        "# angle\n",
        "ang = lambda x,y: np.arccos(np.inner(x,y)/(npl.norm(x)*npl.norm(y)))\n",
        "a,b = [1,2,-1],[2,0,-3]\n",
        "print(ang(a,b), ang(a,b)*(360/(2*np.pi)))"
      ],
      "metadata": {
        "colab": {
          "base_uri": "https://localhost:8080/"
        },
        "id": "JG0Y0qSF8b3z",
        "outputId": "a183eff9-6adf-46b7-bf2e-224ea8b6958c"
      },
      "execution_count": null,
      "outputs": [
        {
          "output_type": "stream",
          "name": "stdout",
          "text": [
            "0.9689825515916383 55.51861062801842\n"
          ]
        }
      ]
    },
    {
      "cell_type": "markdown",
      "source": [
        "#### Examples\n",
        "\n",
        "> ##### Spherical distance.\n",
        ">\n",
        "> Suppose $a$ and $b$ are 3-vectors that represent two points that lie on a sphere of radius $R$ (for example, locations on earth). The spherical distance between them, measured along the sphere, is given by $R \\angle(a, b)$.\n",
        "\n",
        "> Document similarity via angles.\n",
        ">\n",
        "> If $n$-vectors $x$ and $y$ represent the word counts for two documents, their angle $L(x, y)$ can be used as a measure of document dissimilarity. (When using angle to measure document dissimilarity, either word counts or histograms can be used; they produce the same result.)"
      ],
      "metadata": {
        "id": "uNQef2Y6CJ7n"
      }
    },
    {
      "cell_type": "markdown",
      "source": [
        "#### Correlation coefficient.\n",
        "\n",
        "Suppose $a$ and $b$ are $n$-vectors, with associated de-meaned vectors\n",
        "$$\n",
        "\\tilde{a}=a-\\operatorname{avg}(a) \\mathbf{1}, \\quad \\tilde{b}=b-\\operatorname{avg}(b) \\mathbf{1}.\n",
        "$$\n",
        "\n",
        "Assuming these de-meaned vectors are not zero (which occurs when the original vectors have all equal entries), we define their correlation coefficient as\n",
        "$$\n",
        "\\rho=\\frac{\\tilde{a}^T \\tilde{b}}{\\|\\tilde{a}\\|\\|\\tilde{b}\\|} .\n",
        "$$\n",
        "\n",
        "Thus, $\\rho=\\cos \\theta$, where $\\theta=\\angle(\\tilde{a}, \\tilde{b})$. We can also express the correlation coefficient in terms of the vectors $u$ and $v$ obtained by standardizing $a$ and $b$. With $u=\\tilde{a} / \\operatorname{std}(a)$ and $v=\\tilde{b} / \\operatorname{std}(b)$, we have\n",
        "$$\n",
        "\\rho=u^T v / n .\n",
        "$$\n",
        "(We use $\\|u\\|=\\|v\\|=\\sqrt{n}$.)\n",
        "\n",
        "This is a symmetric function of the vectors: The correlation coefficient between $a$ and $b$ is the same as the correlation coefficient between $b$ and $a$. The CauchySchwarz inequality tells us that the correlation coefficient ranges between -1 and +1 . For this reason, the correlation coefficient is sometimes expressed as a percentage. For example, $\\rho=30 \\%$ means $\\rho=0.3$. When $\\rho=0$, we say the vectors are uncorrelated. (By convention, we say that a vector with all entries equal is uncorrelated with any vector.)"
      ],
      "metadata": {
        "id": "NZSFv5gXEAcq"
      }
    },
    {
      "cell_type": "code",
      "source": [
        "import matplotlib.pyplot as plt\n",
        "\n",
        "\n",
        "def correl_coef(a,b):\n",
        "    a_tilde = a - np.average(a)\n",
        "    b_tilde = b - np.average(b)\n",
        "    return ((np.inner(a_tilde, b_tilde))/\n",
        "            (npl.norm(a_tilde)*npl.norm(b_tilde)))\n",
        "\n",
        "# a = np.array([4.4, 9.4, 15.4, 12.4, 10.4, 1.4, -4.6, -5.6, -.6, 7.4])\n",
        "# b = np.array([6.2, 11.2, 14.2, 14.2, 8.2, 2.2, -3.8, -4.8, -1.8, 4.2])\n",
        "\n",
        "# a = np.array([4.1, 10.1, 15.1, 13.1, 7.1, 2.1, -2.9, -5.9, 0.1, 7.1])\n",
        "# b = np.array([5.5, -0.5, -4.5, -3.5, 1.5, 7.5, 13.5, 14.5, 11.5, 4.5])\n",
        "\n",
        "a = np.array([-5.0, 0.0, 5.0, 8.0, 13.0, 11.0, 1.0, 6.0, 4.0, 7.0])\n",
        "b = np.array([5.8, 0.8, 7.8, 9.8, 0.8, 11.8, 10.8, 5.8, -0.2, -3.2])\n",
        "print(correl_coef(a,b))\n",
        "\n",
        "fig, _ = plt.subplots()\n",
        "plt.plot(a, 'o-', label='a')\n",
        "plt.plot(b, 'o-', label='b')\n",
        "plt.legend(loc=0)\n",
        "plt.show()\n",
        "plt.close(fig)"
      ],
      "metadata": {
        "colab": {
          "base_uri": "https://localhost:8080/",
          "height": 447
        },
        "id": "sPF5dSn6ELJl",
        "outputId": "449fa37b-4d4f-4fae-d66a-839a6804dbcb"
      },
      "execution_count": null,
      "outputs": [
        {
          "output_type": "stream",
          "name": "stdout",
          "text": [
            "0.0040209766613670496\n"
          ]
        },
        {
          "output_type": "display_data",
          "data": {
            "text/plain": [
              "<Figure size 640x480 with 1 Axes>"
            ],
            "image/png": "[encoded data removed]"
          },
          "metadata": {}
        }
      ]
    },
    {
      "cell_type": "markdown",
      "source": [
        "## Complexity\n",
        "\n",
        "* Computing the norm of an $n$-vector requires $n$ multiplications (to square each entry), $n-1$ additions (to add the squares), and one squareroot. Even though computing the squareroot typically takes more time than computing the product or sum of two numbers, it is counted as just one flop. So computing the norm takes $2 n$ flops.\n",
        "\n",
        "* The cost of computing the RMS value of an $n$-vector is the same, since we can ignore the two flops involved in division by $\\sqrt{n}$.\n",
        "\n",
        "* Computing the distance between two vectors costs $3 n$ flops, and computing the angle between them costs $6 n$ flops.\n",
        "\n",
        "All of these operations have order $n$.\n",
        "\n",
        "* De-meaning an $n$-vector requires $2 n$ flops ( $n$ for forming the average and another $n$ flops for subtracting the average from each entry).\n",
        "\n",
        "* The standard deviation is the RMS value of the de-meaned vector, and this calculation takes $4 n$ flops ( $2 n$ for computing the de-meaned vector and $2 n$ for computing its RMS value).\n",
        "\n",
        "* We can suggests a slightly more efficient method with a complexity of $3 n$ flops: first compute the average ( $n$ flops) and RMS value ( $2 n$ flops), and then find the standard deviation as $\\operatorname{std}(x)=\\left(\\mathbf{r m s}(x)^2-\\mathbf{a v g}(x)^2\\right)^{1 / 2}$.\n",
        "* Standardizing an $n$-vector costs $5 n$ flops.\n",
        "* The correlation coefficient between two vectors costs $10 n$ flops to compute.\n",
        "\n",
        "These operations also have order $n$.\n",
        "\n",
        "* As a slightly more involved computation, suppose that we wish to determine the nearest neighbor among a collection of $k$ $n$-vectors $z_1, \\ldots, z_k$ to another $n$-vector $x$. (This will come up in the next chapter.) The simple approach is to compute the distances $\\left\\|x-z_i\\right\\|$ for $i=1, \\ldots, k$, and then find the minimum of these. (Sometimes a comparison of two numbers is also counted as a flop.) The cost of this is $3 \\mathrm{kn}$ flops to compute the distances, and $k-1$ comparisons to find the minimum. The latter term can be ignored, so the flop count is $3 \\mathrm{kn}$. The order of finding the nearest neighbor in a collection of $k$ $n$-vectors is $k n$."
      ],
      "metadata": {
        "id": "8UIzh-bEG8Fg"
      }
    }
  ]
}
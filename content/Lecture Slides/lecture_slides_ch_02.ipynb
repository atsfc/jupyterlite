{
  "nbformat": 4,
  "nbformat_minor": 0,
  "metadata": {
    "colab": {
      "provenance": []
    },
    "kernelspec": {
      "name": "python3",
      "display_name": "Python 3"
    },
    "language_info": {
      "name": "python"
    }
  },
  "cells": [
    {
      "cell_type": "markdown",
      "source": [
        "## Linear functions\n",
        "\n",
        "#### Function notation\n",
        "\n",
        "The notation $ f: R^n → R $ means that $ f $ is a **function** that maps real $ n $-vectors to real numbers, i.e., it is a scalar-valued function of $ n $-vectors.\n",
        "\n",
        "If $ x $ is an $ n $-vector, then $ f(x) $, which is a scalar, denotes the value of the function $ f $ at $ x $.\n",
        "\n",
        "We can also interpret $ f $ as a function of n scalar arguments, the entries of the vector argument, in which case we write $ f(x) $ as\n",
        "$$\n",
        "f(x) = f(x_1, \\ldots, x_n).\n",
        "$$\n",
        "\n",
        "> For example, we can define a function $ f: R^4 → R $ by\n",
        "$$\n",
        "f(x) = x_1 + x_2 - x_4^2\n",
        "$$\n",
        "for any $ 4 $-vector $ x $."
      ],
      "metadata": {
        "id": "YGkrZyM2QX-a"
      }
    },
    {
      "cell_type": "code",
      "execution_count": null,
      "metadata": {
        "colab": {
          "base_uri": "https://localhost:8080/"
        },
        "id": "qLh2vA1XQTGs",
        "outputId": "5f2a1326-d059-4593-aca0-aa7b4d801ab1"
      },
      "outputs": [
        {
          "output_type": "execute_result",
          "data": {
            "text/plain": [
              "-5"
            ]
          },
          "metadata": {},
          "execution_count": 7
        }
      ],
      "source": [
        "import numpy as np\n",
        "f = lambda x: x[0] + x[1] - x[3]**2\n",
        "v = np.array([-1, 0, 1, 2])\n",
        "f(v)"
      ]
    },
    {
      "cell_type": "markdown",
      "source": [
        "#### The inner product function\n",
        "\n",
        "Suppose $ a $ is an $ n $-vector. We can define a scalar-valued function $ f $ of $ n $-vectors, given by\n",
        "\n",
        "$$\n",
        "f(x) = a^T x = a_1 x_1 + \\cdots + a_n x_n\n",
        "$$\n",
        "for any $ n $-vector $ x $.\n",
        "\n",
        "We can also think of $ f $ as forming a _weighted sum_ of the elements of $ x $; the elements of $ a $ give the weights used in forming the weighted sum."
      ],
      "metadata": {
        "id": "ZMUw5qCrUvxS"
      }
    },
    {
      "cell_type": "markdown",
      "source": [
        "#### Superposition and linearity\n",
        "\n",
        "Suppose $ x $ and $ y $ are $ n $-vectors and $ \\alpha $ and $ \\beta $ are scalars. For a function $ f $,\n",
        "\n",
        "$$\n",
        "f(\\alpha x + \\beta y) = \\alpha f(x) + \\beta f(y)\n",
        "$$\n",
        "\n",
        "equation is called the **superposition** property.\n",
        "\n",
        "A function that satisfies the superposition property is called **linear**.\n",
        "\n",
        "> The inner product function $ f $ satisfies the property\n",
        "$$\n",
        "\\begin{split}\n",
        "f(\\alpha x + \\beta y) &= a^T (\\alpha x + \\beta y) \\\\\n",
        "&= a^T (\\alpha x) + a^T (\\beta y) \\\\\n",
        "&= \\alpha (a^T x) + \\beta (a^T y) \\\\\n",
        "&= \\alpha f(x) + \\beta f(y).\n",
        "\\end{split}\n",
        "$$\n",
        "\n",
        "If a function $ f $ is linear, superposition extends to linear combinations of any number of vectors, and not just linear combinations of two vectors: We have\n",
        "\n",
        "$$\n",
        "f(\\alpha_1 x_1 + \\cdots + \\alpha_k x_k) = \\alpha_1 f(x_1) + \\cdots + \\alpha_k f(x_k),\n",
        "$$\n",
        "\n",
        "for any $ n $ vectors $ x_1, \\ldots, x_k $, and any scalars $ \\alpha_1, \\ldots, \\alpha_k $."
      ],
      "metadata": {
        "id": "lh0A0jxjbRrZ"
      }
    },
    {
      "cell_type": "code",
      "source": [
        "a = np.array([-2,0,1,-3])\n",
        "\n",
        "x = np.array([2,2,-1,1])\n",
        "y = np.array([0,1,-1,0])\n",
        "\n",
        "alpha = 1.5\n",
        "beta = -3.7\n",
        "\n",
        "LHS = np.inner(alpha * x + beta * y, a)\n",
        "RHS = alpha * np.inner(x, a) + beta * np.inner(y, a)\n",
        "\n",
        "print(LHS == RHS)"
      ],
      "metadata": {
        "colab": {
          "base_uri": "https://localhost:8080/"
        },
        "id": "UavV4MATUeKL",
        "outputId": "ac5d8adf-c6eb-49c8-f99f-e834504e04cb"
      },
      "execution_count": null,
      "outputs": [
        {
          "output_type": "stream",
          "name": "stdout",
          "text": [
            "True\n"
          ]
        }
      ]
    },
    {
      "cell_type": "markdown",
      "source": [
        "#### Inner product representation of a linear function\n",
        "\n",
        "Suppose $ f $ is a scalar-valued function of $ n $-vectors, and is linear. Then there is a _unique_ $ n $-vector a such that $ f(x) = a^T x $ for all $ x $. We call $ a^T x $ the _inner product representation_ of $ f $."
      ],
      "metadata": {
        "id": "zLubmp-kf0gh"
      }
    },
    {
      "cell_type": "markdown",
      "source": [
        "##### Examples\n",
        "\n",
        "- The **mean** or **average** value of an $ n $-vector is defined as\n",
        "$$\n",
        "f(x) = (x_1 + \\cdots x_n) / n,\n",
        "$$\n",
        "and is denoted $ \\textbf{avg}(x) $."
      ],
      "metadata": {
        "id": "iBxLibYlmB0Y"
      }
    },
    {
      "cell_type": "code",
      "source": [
        "avg = lambda x: sum(x)/len(x)\n",
        "\n",
        "x = np.array([1, -3, 2, -1])\n",
        "\n",
        "a = np.ones(len(x)) / len(x)\n",
        "\n",
        "print(avg(x) == np.dot(a, x))\n",
        "print(avg(x))\n",
        "np.mean(x)"
      ],
      "metadata": {
        "colab": {
          "base_uri": "https://localhost:8080/"
        },
        "id": "oJkKUZETd_yU",
        "outputId": "cfca168b-12ad-4b9a-fb30-3f32f823806c"
      },
      "execution_count": null,
      "outputs": [
        {
          "output_type": "stream",
          "name": "stdout",
          "text": [
            "True\n",
            "-0.25\n"
          ]
        },
        {
          "output_type": "execute_result",
          "data": {
            "text/plain": [
              "-0.25"
            ]
          },
          "metadata": {},
          "execution_count": 11
        }
      ]
    },
    {
      "cell_type": "markdown",
      "source": [
        "- The maximum element of an $ n $-vector $ x $,\n",
        "$$\n",
        "f(x) = \\max \\{x_1, \\ldots, x_n \\}\n",
        "$$\n",
        "is not a linear function (except when $ n = 1$).\n",
        "We can show this by a counterexample for $ n = 2 $. Take $ x = (1, -1) $, $ y = (-1, 1) $, $ \\alpha = 1 / 2 $, $ \\beta = 1/2 $. Then\n",
        "$$\n",
        "f(\\alpha x + \\beta y) = 0 \\ne \\alpha f(x) + \\beta f(y) = 1.\n",
        "$$"
      ],
      "metadata": {
        "id": "qFC8VtLWTYF6"
      }
    },
    {
      "cell_type": "code",
      "source": [
        "f = lambda x: np.max(x)\n",
        "\n",
        "x = np.array([1, -1])\n",
        "y = np.array([-1, 1])\n",
        "alpha = beta = 1/2\n",
        "print(f(alpha * x + beta * y) == alpha * f(x) + beta * f(y))\n",
        "print(f(alpha * x + beta * y))\n",
        "print(alpha * f(x) + beta * f(y))"
      ],
      "metadata": {
        "colab": {
          "base_uri": "https://localhost:8080/"
        },
        "id": "PrpvVb1kVUHT",
        "outputId": "c35e28d1-7c98-40ab-bec6-4c33a36c2ff7"
      },
      "execution_count": null,
      "outputs": [
        {
          "output_type": "stream",
          "name": "stdout",
          "text": [
            "False\n",
            "0.0\n",
            "1.0\n"
          ]
        }
      ]
    },
    {
      "cell_type": "markdown",
      "source": [
        "#### Affine functions\n",
        "\n",
        "A linear function plus a constant is called an affine function.\n",
        "\n",
        "A function $ f: R^n → R $ is affine if and only if it can be expressed as $ f(x) = a^T x + b $ for some $ n $-vector $ a $ and scalar $ b $, which is sometimes called the **offset** (or **bias**).\n",
        "\n",
        "> For example, the function on $ 3 $-vectors defined by\n",
        "$$\n",
        "f(x) = 2.3 - 2 x_1 + 1.3 x_2 - x_3,\n",
        "$$\n",
        "is affine, with $ b = 2.3 $, $ a = (-2, 1.3, -1) $.\n",
        "\n",
        "Any affine scalar-valued function satisfies the following variation on the super-position property:\n",
        "$$\n",
        "f(\\alpha x + \\beta y) = \\alpha f(x) + \\beta f(y)\n",
        "$$\n",
        "for all $ n $-vectors $ x $, $ y $, and all scalars $ \\alpha $, $ \\beta $ that satisfy $ \\alpha + \\beta = 1 $.\n",
        "\n",
        "For linear functions, superposition holds for any coefficients $ \\alpha $ and $ \\beta $; for affine functions, it holds when the coefficients sum to one (i.e., when the argument is an affine combination).\n",
        "\n",
        "> To see that the restricted superposition property holds for an affine function $ f = a^T x + b $, we note that, for any vectors $ x $, $ y $ and scalars $ \\alpha $ and $ \\beta $ that satisfy $ \\alpha + \\beta = 1 $,\n",
        "$$\n",
        "\\begin{split}\n",
        "f(\\alpha x + \\beta y) &= a^T (\\alpha x + \\beta y) + b \\\\\n",
        "&= \\alpha a^T x + \\beta a^T y + (\\alpha + \\beta) b \\\\\n",
        "&= \\alpha (a^T x + b) + \\beta (a^T y + b) \\\\\n",
        "&= \\alpha f(x) + \\beta f(x).\n",
        "\\end{split}\n",
        "$$"
      ],
      "metadata": {
        "id": "PNXZiQMUrDU1"
      }
    },
    {
      "cell_type": "code",
      "source": [
        "f = lambda x: (1 / 4) * x\n",
        "g = lambda x: 1 - (1 / 4) * x\n",
        "\n",
        "import matplotlib.pyplot as plt\n",
        "\n",
        "x = np.arange(-0.1, 1, 0.05)\n",
        "\n",
        "fig, ax = plt.subplots()\n",
        "\n",
        "ax.plot(x, f(x), label='linear')\n",
        "ax.plot(x, g(x), label='affine')\n",
        "ax.legend(loc='best')\n",
        "\n",
        "ax.spines['left'].set_position('zero')\n",
        "\n",
        "ax.spines['right'].set_color('none')\n",
        "ax.yaxis.tick_left()\n",
        "\n",
        "ax.spines['bottom'].set_position('zero')\n",
        "\n",
        "ax.spines['top'].set_color('none')\n",
        "ax.xaxis.tick_bottom()\n",
        "\n",
        "plt.show()"
      ],
      "metadata": {
        "id": "KLJo3DzTnO3_",
        "colab": {
          "base_uri": "https://localhost:8080/",
          "height": 406
        },
        "outputId": "c277d4fa-e98a-462b-fc2e-fef13bbed11e"
      },
      "execution_count": null,
      "outputs": [
        {
          "output_type": "display_data",
          "data": {
            "text/plain": [
              "<Figure size 640x480 with 1 Axes>"
            ],
            "image/png": "[encoded data removed]"
          },
          "metadata": {}
        }
      ]
    },
    {
      "cell_type": "code",
      "source": [
        "plt.close(fig)"
      ],
      "metadata": {
        "id": "0KYG3TfFfzOb"
      },
      "execution_count": null,
      "outputs": []
    },
    {
      "cell_type": "markdown",
      "source": [
        "###### A civil engineering example\n",
        "\n",
        "Consider a steel structure like a bridge, and let $ w $ be an $ n $-vector that gives the weight of the load on the bridge in $ n $ specific locations, in metric tons. These loads will cause the bridge to deform (move and change shape) slightly. Let $ s $ denote the distance that a specific point on the bridge sags, in millimeters, due to the load $ w $.\n",
        "\n",
        "<p align=\"center\">\n",
        "<img src=\"https://drive.google.com/uc?id=1VEEfuU6TbTs8C_ZbOyJQm4NeacCg1ECE\" width=\"400\">\n",
        "</p>\n",
        "\n",
        "For weights the bridge is designed to handle, the sag is very well approximated as a linear function $ s = f (x) $. This function can be expressed as an inner product, $ s = c^T w $, for some $ n $-vector $ c $. From the equation $ s = c_1 w_1 + \\cdots + c_n w_n $, we see that $ c_1 w_1 $ is the amount of the sag that is due to the weight $ w_1 $, and similarly for the other weights. The coefficients $ c_i $, which have units of mm/ton, are called compliances, and give the sensitivity of the sag with respect to loads applied at the $ n $ locations.\n",
        "\n",
        "> For example the following table shows the results of the experiments when building such bridge. With the first three rows, we could get the values of the coefficient vector $ c $.\n",
        "\n",
        "| $ w_1 $ | $ w_2 $ | $ w_3 $ | Measured sag | Predicted sag |\n",
        "|:-------:|:-------:|:-------:|:------------:|:-------------:|\n",
        "| 1       | 0       | 0       | 0.12         | ---           |\n",
        "| 0       | 1       | 0       | 0.31         | ---           |\n",
        "| 0       | 0       | 1       | 0.26         | ---           |\n",
        "| 0.5     | 1.1     | 0.3     | 0.481        | 0.479         |\n",
        "| 1.5     | 0.8     | 1.2     | 0.736        | 0.740         |"
      ],
      "metadata": {
        "id": "tp4qR8rdiBzW"
      }
    },
    {
      "cell_type": "code",
      "source": [
        "W = np.eye(3)\n",
        "s = np.array([0.12, 0.31, 0.26])\n",
        "\n",
        "c = np.linalg.solve(W, s)\n",
        "print(c)\n",
        "W1 = np.array([0.5, 1.1, 0.3])\n",
        "print('predicted sag:', np.dot(c, W1))\n",
        "\n",
        "W2 = np.array([1.5, 0.8, 1.2])\n",
        "print('predicted sag:', np.dot(c, W2))"
      ],
      "metadata": {
        "colab": {
          "base_uri": "https://localhost:8080/"
        },
        "id": "cX5BMYBvjPmG",
        "outputId": "a4b764ef-abe2-45f0-98e8-450faccdaee1"
      },
      "execution_count": null,
      "outputs": [
        {
          "output_type": "stream",
          "name": "stdout",
          "text": [
            "[0.12 0.31 0.26]\n",
            "predicted sag: 0.47900000000000004\n",
            "predicted sag: 0.74\n"
          ]
        }
      ]
    },
    {
      "cell_type": "markdown",
      "source": [
        "## Taylor approximation\n",
        "\n",
        "In many applications, scalar-valued functions of $ n $ variables, or relations between $ n $ variables and a scalar one, can be _approximated_ as linear or affine functions. In these cases we sometimes refer to the linear or affine function relating the variables and the scalar variable as a _model_, to remind us that the relation is only an approximation, and not exact.\n",
        "\n",
        "Suppose that $ f:\\mathbb{R}^n → \\mathbb{R} $ is differentiable, which means that its partial derivatives exist. Let $ z $ be an $ n $-vector. The (first-order) Taylor approximation of $ f $ near (or at) the point $ z $ is the function $ \\hat{f}(x) $ of $ x $ defined as\n",
        "$$\n",
        "\\hat{f}(x) = f(z) + \\frac{\\partial f}{\\partial x_1}(z)(x_1 - z_1) + \\cdots + \\frac{\\partial f}{\\partial x_n}(z)(x_n - z_n)\n",
        "$$\n",
        "where $ \\frac{\\partial f}{\\partial x_i}(z) $ denotes the partial derivative of $ f $ with respect to its $ i $th argument, evaluated at the $ n $-vector $ z $.\n",
        "\n",
        "Evidently $ \\hat{f} $ is an affine function of $ x $. (It is sometimes called the _linear approximation_ of $ f $ near $ z $, even though it is in general affine, and not linear.) It can be written compactly using inner product notation as\n",
        "$$\n",
        "\\hat{f}(x) = f(z) + \\nabla f(z)^T (x - z),\n",
        "$$\n",
        "where $ \\nabla f(z) $ is an $ n $-vector, the gradient of $ f $ (at the point $ z $),\n",
        "$$\n",
        "\\nabla f(z) = \\begin{bmatrix}\n",
        "\\frac{\\partial f}{\\partial x_1}(z)\\\\\n",
        "\\vdots \\\\\n",
        "\\frac{\\partial f}{\\partial x_n}(z)\n",
        "\\end{bmatrix}.\n",
        "$$"
      ],
      "metadata": {
        "id": "ohGQF_8s8f6F"
      }
    },
    {
      "cell_type": "code",
      "source": [
        "f = lambda x: x[0] + np.exp(x[1] - x[0])\n",
        "grad_f = lambda z: np.array([1 - np.exp(z[1] - z[0]), np.exp(z[1]- z[0])])\n",
        "z = np.array([1,2])\n",
        "\n",
        "# Taylor approximation\n",
        "f_hat = lambda x: f(z) + grad_f(z) @ (x - z)\n",
        "f([1,2]), f_hat([1,2])"
      ],
      "metadata": {
        "id": "hgK3hJoy-O6Z",
        "colab": {
          "base_uri": "https://localhost:8080/"
        },
        "outputId": "0bf37395-847c-4d4a-aa83-3bf592bdeccb"
      },
      "execution_count": null,
      "outputs": [
        {
          "output_type": "execute_result",
          "data": {
            "text/plain": [
              "(3.718281828459045, 3.718281828459045)"
            ]
          },
          "metadata": {},
          "execution_count": 5
        }
      ]
    },
    {
      "cell_type": "markdown",
      "source": [
        "- [ ] **Code Excersise:** Write the code for $ n $-dimesional version of linear Taylor approximation."
      ],
      "metadata": {
        "id": "Mbw5WdVd5rSb"
      }
    },
    {
      "cell_type": "markdown",
      "source": [
        "## Regression model\n",
        "\n",
        "In this section we describe a very commonly used affine function, especially when the $n$-vector $x$ represents a feature vector. The affine function of $x$ given by\n",
        "$$\n",
        "\\hat{y}=x^T \\beta+v,\n",
        "$$\n",
        "where $\\beta$ is an $n$-vector and $v$ is a scalar, is called a *regression model*. In this context, the entries of $x$ are called the *regressors*, and $\\hat{y}$ is called the *prediction*, since the regression model is typically an approximation or prediction of some true value $y$, which is called the *dependent variable*, *outcome*, or *label*.\n",
        "\n",
        "The vector $\\beta$ is called the *weight vector* or *coefficient vector*, and the scalar $v$ is called the *offset* or *intercept* in the regression model. Together, $\\beta$ and $v$ are called the *parameters* in the regression model. (We will see in chapter 13 how the parameters in a regression model can be estimated or guessed, based on some past or known observations of the feature vector $x$ and the associated outcome $y$.) The symbol $\\hat{y}$ is used in the regression model to emphasize that it is an *estimate* or *prediction* of some outcome $y$."
      ],
      "metadata": {
        "id": "QWMCOa-VhDoh"
      }
    },
    {
      "cell_type": "markdown",
      "source": [
        "#### Simplified regression model notation\n",
        "\n",
        "Vector stacking can be used to lump the weights and offset in the regression model into a single parameter vector, which simplifies the regression model notation a bit. We create a new regressor vector $\\tilde{x}$, with $n+1$ entries, as $\\tilde{x}=(1, x)$. We can think of $\\tilde{x}$ as a new feature vector, consisting of all $n$ original features, and one new feature added $\\left(\\tilde{x}_1\\right)$ at the beginning, which always has the value one. We define the parameter vector $\\tilde{\\beta}=(v, \\beta)$, so the regression model $(2.7)$ has the simple inner product form\n",
        "$$\n",
        "\\hat{y}=x^T \\beta+v=\\left[\\begin{array}{l}\n",
        "1 \\\\\n",
        "x\n",
        "\\end{array}\\right]^T\\left[\\begin{array}{l}\n",
        "v \\\\\n",
        "\\beta\n",
        "\\end{array}\\right]=\\tilde{x}^T \\tilde{\\beta}.\n",
        "$$\n",
        "\n",
        "Often we omit the tildes, and simply write this as $\\hat{y}=x^T \\beta$, where we assume that the first feature in $x$ is the constant $1$. A feature that always has the value $1$ is not particularly informative or interesting, but it does simplify the notation in a regression model."
      ],
      "metadata": {
        "id": "0vFrFgRnipDB"
      }
    },
    {
      "cell_type": "markdown",
      "source": [
        "#### House price regression model.\n",
        "> As a simple example of a regression model, suppose that $y$ is the selling price of a house in some neighborhood, over some time period, and the 2-vector $x$ contains attributes of the house:\n",
        "- $x_1$ is the house area (in 1000 square feet),\n",
        "- $x_2$ is the number of bedrooms.\n",
        "If $y$ represents the selling price of the house, in thousands of dollars, the regression model\n",
        "$$\n",
        "\\hat{y}=x^T \\beta+v=\\beta_1 x_1+\\beta_2 x_2+v\n",
        "$$\n",
        "predicts the price in terms of the attributes or features. This regression model is not meant to describe an exact relationship between the house attributes and its selling price; it is a model or approximation. Indeed, we would expect such a model to give, at best, only a crude approximation of selling price.\n",
        "As a specific numerical example, consider the regression model parameters\n",
        "$$\n",
        "\\beta=(148.73,-18.85), \\quad v=54.40 .\n",
        "$$\n",
        "These parameter values were found using the methods we will see in chapter 13 , based on records of sales for 774 houses in the Sacramento area. Table 2.3 shows the feature vectors $x$ for five houses that sold during the period, the actual sale price $y$, and the predicted price $\\hat{y}$ from the regression model above. Figure 2.4 shows the predicted and actual sale prices for 774 houses, including the five houses in the table, on a scatter plot, with actual price on the horizontal axis and predicted price on the vertical axis."
      ],
      "metadata": {
        "id": "8ZS_2GbY-Uyh"
      }
    },
    {
      "cell_type": "code",
      "source": [
        "import pickle\n",
        "import os\n",
        "\n",
        "path = '/content/drive/MyDrive/Colab Notebooks/house_prices.pkl'\n",
        "\n",
        "with open(path, 'rb') as f:\n",
        "    loaded_dict = pickle.load(f)\n",
        "\n",
        "# print(loaded_dict)\n",
        "# print(loaded_dict.keys())/\n",
        "\n",
        "price = loaded_dict[\"price\"]\n",
        "area = loaded_dict[\"area\"]\n",
        "beds = loaded_dict[\"beds\"]\n",
        "\n",
        "v = 54.4017\n",
        "beta = [147.7251, -18.8534]\n",
        "\n",
        "y_hat = np.array([beta[0] * area + beta[1] * beds]) + v\n",
        "y_hat"
      ],
      "metadata": {
        "colab": {
          "base_uri": "https://localhost:8080/"
        },
        "id": "31qBuIdxhUTe",
        "outputId": "51513ae9-4fcd-47f3-bc3f-520228d6c2af"
      },
      "execution_count": null,
      "outputs": [
        {
          "output_type": "execute_result",
          "data": {
            "text/plain": [
              "array([[155.7042191, 167.1344646, 132.1236159, 188.2591539, 148.521102 ,\n",
              "        167.6699522, 184.2151634, 141.3748844, 134.1363545, 103.5572588,\n",
              "        198.1567356, 162.9981618, 175.3147579, 162.167224 , 234.3493851,\n",
              "        130.9418151, 158.5664088, 140.1007713, 163.1458869, 182.848738 ,\n",
              "        182.2024248, 170.1812789, 168.0208152, 201.702138 , 162.7027116,\n",
              "        170.1812789, 207.3156918, 157.6800582, 196.4394472, 148.2810646,\n",
              "        147.819376 , 209.3284304, 176.1456957, 153.8392056, 170.7721793,\n",
              "        213.4278337, 144.440212 , 212.393758 , 267.7906705, 223.6208656,\n",
              "        216.0314727, 173.3389188, 213.871009 , 213.9633213, 232.1889214,\n",
              "        172.8957435, 205.5429906, 170.9753172, 168.0208152, 252.4272601,\n",
              "        177.3274965, 164.770863 , 215.7914353, 216.3269229, 207.611142 ,\n",
              "        186.929628 , 232.1335086, 199.0430862, 184.8614766, 232.3366465,\n",
              "        266.701182 , 136.1121936, 221.0541261, 213.871009 , 214.7573596,\n",
              "        214.7942591, 275.6755136, 217.7118616, 216.1791978, 187.9637037,\n",
              "        167.6330527, 192.8940448, 309.1536985, 307.0301343, 174.0775443,\n",
              "        317.3708913, 185.3046519, 139.3621458, 330.6292508, 190.6227555,\n",
              "        214.0187341, 212.5783826, 270.0988593, 262.7680171, 372.287729 ,\n",
              "        225.4858791, 148.2256518, 244.8378672, 141.8734725, 329.3920372,\n",
              "        211.4519946, 423.4929259, 282.7109056, 273.4042243, 272.1670107,\n",
              "        183.0333626, 328.5610994, 270.0988593, 241.237052 , 373.76498  ,\n",
              "        320.0853559, 309.8000117, 479.5361516, 261.7339414, 266.350319 ,\n",
              "        400.3923975, 326.7329854, 320.6208435, 245.0410051, 287.5304211,\n",
              "        441.9585634, 261.8816665, 382.8685234, 309.541461 , 427.5369164,\n",
              "        491.7973349, 282.4154554, 249.325033 , 238.1902377, 487.162444 ,\n",
              "        418.2671346, 327.4716109, 300.9734052, 467.2749683, 494.1609365,\n",
              "        357.0720437, 381.3912724, 487.162444 , 478.3543508, 342.6872962,\n",
              "        341.3023575, 134.1363545, 141.3379849, 140.783984 , 134.87498  ,\n",
              "        126.8978246, 155.4641817, 173.3943316, 195.3499587, 144.9202868,\n",
              "        134.3394924, 106.807211 , 196.919522 , 142.2058222, 240.5538393,\n",
              "        142.2058222, 157.384608 , 151.3278789, 153.1005801, 159.5450717,\n",
              "        160.0436598, 152.952855 , 161.816361 , 129.0213888, 163.293612 ,\n",
              "        157.384608 , 139.2144207, 157.3291952, 176.7365961, 184.5660264,\n",
              "        157.384608 , 184.8614766, 163.5336494, 175.4070702, 123.3524222,\n",
              "        192.8940448, 173.3389188, 153.7468933, 192.838632 , 162.8504367,\n",
              "        199.3385364, 172.507981 , 165.3063506, 160.9300104, 136.352231 ,\n",
              "        182.5901873, 150.2383904, 168.6117156, 211.8397571, 203.4748392,\n",
              "        210.4179189, 169.0548909, 244.6901421, 254.883174 , 184.7137515,\n",
              "        165.4540757, 251.3377716, 227.9048935, 249.1773079, 227.5540305,\n",
              "        144.440212 , 165.8049387, 171.2707674, 203.6225643, 188.2591539,\n",
              "        244.7455549, 267.4952203, 123.5001473, 212.0983078, 192.3954567,\n",
              "        198.747636 , 222.6791022, 237.6547501, 214.2587715, 216.0868855,\n",
              "        196.8826225, 177.4752216, 210.9534065, 229.3267317, 260.2012776,\n",
              "        320.9162937, 188.5546041, 219.8723253, 346.9713241, 204.1580519,\n",
              "        171.5662176, 194.0758456, 219.1336998, 230.3608074, 318.404967 ,\n",
              "        214.6096345, 229.3267317, 164.0876503, 240.1660768, 278.870053 ,\n",
              "        224.0086281, 223.1776903, 282.7109056, 347.4144994, 212.042895 ,\n",
              "        299.4038419, 210.565644 , 223.4177277, 204.8043651, 206.2816161,\n",
              "        187.5205284, 319.7899057, 261.143041 , 290.4849231, 304.7219455,\n",
              "        230.7485699, 183.6796758, 378.2336325,  96.3187289, 305.1651208,\n",
              "        161.5209108, 214.6096345, 297.9265909, 269.3602338, 259.66579  ,\n",
              "        232.7798218, 460.7750639, 441.718526 , 295.6553016, 364.1074357,\n",
              "        381.3912724, 513.5129246, 450.5266192, 200.9080997, 360.2665831,\n",
              "        303.3370068, 568.7066992, 480.8102647, 533.4558131, 252.7596098,\n",
              "        432.504157 , 548.6714984, 307.2332722, 545.9570338, 380.5603346,\n",
              "        327.0838484, 141.134847 , 108.7276373, 154.3746932, 134.2840796,\n",
              "        139.8976334, 139.8976334, 153.1928924, 134.1363545, 182.497875 ,\n",
              "        162.0563984, 147.4870263, 147.3393012, 134.1363545, 152.3065418,\n",
              "        157.6800582, 159.1018964, 127.8764875, 147.8747888, 144.440212 ,\n",
              "        194.4636081, 147.6347514, 192.8940448, 140.5439466, 131.7727529,\n",
              "        140.1930836, 179.19251  , 171.2707674, 176.1456957, 135.4658804,\n",
              "        158.2155458, 199.6339866, 149.7952151, 100.6581696, 157.384608 ,\n",
              "        160.9300104, 160.2836972, 184.325989 , 179.0078854, 134.1363545,\n",
              "        131.920478 , 213.4278337, 176.4411459, 184.9537889, 266.350319 ,\n",
              "        181.7592495, 207.0202416, 189.88413  , 163.293612 , 213.871009 ,\n",
              "        205.6907157, 184.0859516, 240.9970146, 245.4287676, 200.224887 ,\n",
              "        200.224887 , 178.5647101, 168.0208152, 212.3383452, 162.942749 ,\n",
              "        188.3514662, 172.4525682, 180.9652112, 160.33911  , 168.076228 ,\n",
              "        168.076228 , 151.3278789, 169.0548909, 262.1771167, 222.383652 ,\n",
              "        175.7025204, 163.293612 , 209.9747436, 212.1906201, 220.9618138,\n",
              "        164.42     , 168.0208152, 168.3162654, 197.7135603, 194.1681579,\n",
              "        198.1567356, 220.1677755, 146.8961259, 166.8390144, 154.079243 ,\n",
              "        239.8706266, 265.574794 , 241.3478776, 183.6796758, 255.5294872,\n",
              "        180.9652112, 253.1658856, 265.4270689, 145.2711498, 257.5422258,\n",
              "        314.2686642, 157.033745 , 235.8820489, 221.7927516, 143.7938988,\n",
              "        208.7006305, 176.8843212, 255.3817621, 190.1795802, 128.3750756,\n",
              "        278.2791526, 200.9635125, 201.351275 , 154.1346558, 173.1911937,\n",
              "        212.2829324, 264.9838936, 208.6452177, 245.7242178, 244.5978298,\n",
              "        370.7550652, 247.2568816, 414.5371076, 251.3931844, 190.7704806,\n",
              "        340.4714197, 152.7128176, 153.5991682, 169.202616 , 208.2020424,\n",
              "        211.5074074, 268.178433 , 233.6661724, 202.0899005, 300.2901925,\n",
              "        260.2566904, 246.0750808, 379.4708461, 250.8945963, 213.0769707,\n",
              "        381.3912724, 214.7019468, 355.687105 , 263.8020928, 281.7691422,\n",
              "        196.2363093, 220.906401 , 209.2915309, 402.1281992, 290.5403359,\n",
              "        204.1211524, 182.2024248, 256.1203876, 252.4272601, 306.6423718,\n",
              "        203.7702894, 206.133891 , 472.4453468, 306.6977846, 306.8455097,\n",
              "        224.0640409, 358.5861942, 297.3356905, 265.223931 , 390.9934039,\n",
              "        216.2346106, 298.9606666, 255.3817621, 263.74668  , 246.4628433,\n",
              "        252.4641596, 172.0093929, 239.9629389, 444.8207531, 248.5309947,\n",
              "        286.9949335, 265.4270689, 280.8273788, 247.6446441, 274.7337502,\n",
              "        614.6492053, 587.3754746, 333.7683774, 430.4360056, 367.5974253,\n",
              "        279.2578155, 192.838632 , 427.6292287, 512.7742991, 371.936866 ,\n",
              "        474.9012607, 387.9465896, 519.7173788, 140.4885338, 150.2383904,\n",
              "        169.1472032, 150.2383904, 176.238008 , 162.942749 , 149.64749  ,\n",
              "        143.8862111, 150.5338406, 166.0449761, 158.7141339, 139.6021832,\n",
              "        134.87498  , 169.8489292, 136.352231 , 136.1676064, 151.2724661,\n",
              "        160.5237346, 192.838632 , 206.133891 , 162.5549865, 170.5321419,\n",
              "        169.7935164, 177.0874591, 177.9183969, 145.4742877, 185.7478272,\n",
              "        164.0876503, 163.293612 , 181.8515618, 258.188539 , 183.975126 ,\n",
              "        204.65664  , 184.5660264, 154.430106 , 183.9197132, 214.4064966,\n",
              "        159.1573092, 219.4845628, 139.657596 , 156.6459825, 208.7929428,\n",
              "        179.5987858, 206.133891 , 250.5991461, 198.0644233, 166.248114 ,\n",
              "        207.8142799, 206.133891 , 181.020624 , 213.0400712, 212.393758 ,\n",
              "        244.3946919, 149.8506279, 160.7822853, 317.0754411, 241.587915 ,\n",
              "        175.11162  , 170.679867 , 174.9638949, 229.3821445, 168.7594407,\n",
              "        206.133891 , 171.2707674, 233.1675843, 159.3050343, 259.314927 ,\n",
              "        191.1213436, 163.8845124, 147.2469889, 239.8152138, 194.0204328,\n",
              "        185.8955523, 157.6800582, 212.0983078, 134.2840796, 202.5884886,\n",
              "        212.3383452, 221.3495763, 212.0983078, 235.4388736, 215.4405723,\n",
              "        167.725365 , 164.3276877, 166.8390144, 141.4302972, 319.6421806,\n",
              "        216.3269229, 209.088393 , 244.89328  , 267.4952203, 163.293612 ,\n",
              "        179.8388232, 180.9097984, 323.0398579, 197.4181101, 182.2578376,\n",
              "        210.3256066, 181.4083865, 169.1472032, 188.6100169, 184.1228511,\n",
              "        258.5208887, 195.4976838, 293.1070754, 210.7133691, 273.1087741,\n",
              "        293.0516626, 159.4527594, 213.8155962, 293.6979758, 156.4982574,\n",
              "        290.8357861, 246.9060186, 261.8816665, 328.6534117, 287.6781462,\n",
              "        224.3963906, 262.1217039, 256.1203876, 180.2819985, 348.8917504,\n",
              "        245.4287676, 199.7817117, 259.5180649, 239.5197636, 267.8829828,\n",
              "        191.4167938, 212.1906201, 222.383652 , 220.3155006, 363.8119855,\n",
              "        174.5207196, 237.3038871, 265.3716561, 225.338154 , 225.7813293,\n",
              "        328.5610994, 241.587915 , 306.0514714, 296.947928 , 211.0088193,\n",
              "        212.6892082, 272.1670107, 254.1445485, 288.6199096, 251.928672 ,\n",
              "        298.074316 , 183.1441882, 233.2229971, 175.1670328, 271.7792482,\n",
              "        185.6924144, 256.4527373, 213.0769707, 318.7189305, 230.8039827,\n",
              "        343.0381592, 204.8043651, 219.7246002, 193.8727077, 244.89328  ,\n",
              "        299.4038419, 323.0952707, 275.0292004, 305.7560212, 423.1051634,\n",
              "        198.747636 , 186.3387276, 416.5498462, 257.8930888, 226.5199548,\n",
              "        290.5403359, 345.9372484, 312.5513758, 324.6094212, 236.5652616,\n",
              "        329.3920372, 345.1063106, 385.1398127, 435.107796 , 318.7004172,\n",
              "        308.06421  , 263.0080545, 318.0172045, 359.6756827, 252.9627477,\n",
              "        217.2132735, 242.3265405, 300.5302299, 384.8443625, 303.8355949,\n",
              "        209.3284304, 342.6318834, 315.5058778, 218.3950743, 371.8445537,\n",
              "        377.3103824, 460.7196511, 282.2677303, 330.4261129, 466.5732423,\n",
              "        196.9749348, 201.6467252, 455.9924479, 530.7967613, 327.0284356,\n",
              "        488.8428329, 202.3484512, 125.8083361, 146.1020876, 154.5224183,\n",
              "        144.3293864, 166.0449761, 150.0537658, 159.1573092, 157.9200956,\n",
              "        184.9537889, 154.1346558, 151.475604 , 197.8612854, 153.1005801,\n",
              "        136.2968182, 169.3503411, 146.1575004, 179.3956479, 182.3501499,\n",
              "        169.3503411, 147.043851 , 194.9621962, 185.3046519, 192.1923188,\n",
              "        210.916507 , 159.3050343, 139.9530462, 158.7141339, 164.3276877,\n",
              "        172.3602559, 159.988247 , 166.8390144, 145.5666   , 175.9979706,\n",
              "        187.6682535, 225.7813293, 147.2838884, 148.3733769, 184.6214392,\n",
              "        153.1928924, 177.6229467, 244.542417 , 190.1795802, 217.6564488,\n",
              "        200.6680623, 182.9964631, 184.7137515, 146.8407131, 216.5300608,\n",
              "        196.3840344, 175.4070702, 160.9300104, 179.8388232, 239.8152138,\n",
              "        190.5673427, 231.5426082, 150.2383904, 195.793134 , 175.7025204,\n",
              "        197.1780727, 200.1325747, 139.657596 , 208.7929428, 151.3278789,\n",
              "        223.7131779, 258.4839892, 257.7453637, 188.9977794, 239.8152138,\n",
              "        245.5764927, 156.3505323, 179.6910981, 171.4184925, 207.0202416,\n",
              "        198.4521858, 216.6777859, 269.7110968, 177.5675339, 189.2932296,\n",
              "        192.3400439, 134.1363545, 200.3726121, 191.361381 , 184.2705762,\n",
              "        236.029774 , 221.9404767, 212.042895 , 207.0202416, 129.0213888,\n",
              "        275.8601382, 190.1795802, 207.3156918, 173.8375069, 240.461527 ,\n",
              "        219.3368377, 151.475604 , 139.657596 , 212.9292456, 212.042895 ,\n",
              "        198.4521858, 175.3147579, 232.3366465, 184.2705762, 315.801328 ,\n",
              "        216.0314727, 177.4752216, 227.9048935, 199.0430862]])"
            ]
          },
          "metadata": {},
          "execution_count": 18
        }
      ]
    },
    {
      "cell_type": "code",
      "source": [
        "import matplotlib.pyplot as plt\n",
        "fig, _ = plt.subplots()\n",
        "plt.scatter(price, y_hat)\n",
        "plt.plot([0, 800], [0, 800], linestyle='dashed', color='red')\n",
        "plt.xlabel(\"actual\")\n",
        "plt.xlim(0, 800)\n",
        "plt.ylabel(\"predicted\")\n",
        "plt.ylim(0, 800)\n",
        "plt.grid(True)"
      ],
      "metadata": {
        "id": "-sDKYue9oAG7",
        "colab": {
          "base_uri": "https://localhost:8080/",
          "height": 455
        },
        "outputId": "5e558ced-979e-4713-9d53-77f66073009d"
      },
      "execution_count": null,
      "outputs": [
        {
          "output_type": "display_data",
          "data": {
            "text/plain": [
              "<Figure size 640x480 with 1 Axes>"
            ],
            "image/png": "[encoded data removed]"
          },
          "metadata": {}
        }
      ]
    },
    {
      "cell_type": "code",
      "source": [
        "plt.close(fig)"
      ],
      "metadata": {
        "id": "iRy8gqj2Apnd"
      },
      "execution_count": null,
      "outputs": []
    }
  ]
}
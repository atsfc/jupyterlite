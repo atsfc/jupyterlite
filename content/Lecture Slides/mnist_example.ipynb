{
  "cells": [
    {
      "cell_type": "code",
      "execution_count": null,
      "metadata": {
        "id": "HADu8FSPGeSp"
      },
      "outputs": [],
      "source": [
        "import torch\n",
        "import torchvision\n",
        "import matplotlib.pyplot as plt\n",
        "from sklearn.metrics import confusion_matrix\n",
        "from sklearn.metrics import classification_report\n",
        "\n",
        "device = torch.device(\"cuda\" if torch.cuda.is_available() else \"cpu\")"
      ]
    },
    {
      "cell_type": "code",
      "execution_count": null,
      "metadata": {
        "colab": {
          "base_uri": "https://localhost:8080/"
        },
        "id": "rGmWkwDtGeSt",
        "outputId": "fdfe2726-40b7-4616-a174-3b820b9fbe8d"
      },
      "outputs": [
        {
          "output_type": "stream",
          "name": "stdout",
          "text": [
            "Downloading http://yann.lecun.com/exdb/mnist/train-images-idx3-ubyte.gz\n",
            "Failed to download (trying next):\n",
            "HTTP Error 403: Forbidden\n",
            "\n",
            "Downloading https://ossci-datasets.s3.amazonaws.com/mnist/train-images-idx3-ubyte.gz\n",
            "Downloading https://ossci-datasets.s3.amazonaws.com/mnist/train-images-idx3-ubyte.gz to ./mnistdata/MNIST/raw/train-images-idx3-ubyte.gz\n"
          ]
        },
        {
          "output_type": "stream",
          "name": "stderr",
          "text": [
            "100%|██████████| 9912422/9912422 [00:03<00:00, 2996142.54it/s]\n"
          ]
        },
        {
          "output_type": "stream",
          "name": "stdout",
          "text": [
            "Extracting ./mnistdata/MNIST/raw/train-images-idx3-ubyte.gz to ./mnistdata/MNIST/raw\n",
            "\n",
            "Downloading http://yann.lecun.com/exdb/mnist/train-labels-idx1-ubyte.gz\n",
            "Failed to download (trying next):\n",
            "HTTP Error 403: Forbidden\n",
            "\n",
            "Downloading https://ossci-datasets.s3.amazonaws.com/mnist/train-labels-idx1-ubyte.gz\n",
            "Downloading https://ossci-datasets.s3.amazonaws.com/mnist/train-labels-idx1-ubyte.gz to ./mnistdata/MNIST/raw/train-labels-idx1-ubyte.gz\n"
          ]
        },
        {
          "output_type": "stream",
          "name": "stderr",
          "text": [
            "100%|██████████| 28881/28881 [00:00<00:00, 1742458.20it/s]"
          ]
        },
        {
          "output_type": "stream",
          "name": "stdout",
          "text": [
            "Extracting ./mnistdata/MNIST/raw/train-labels-idx1-ubyte.gz to ./mnistdata/MNIST/raw\n",
            "\n",
            "Downloading http://yann.lecun.com/exdb/mnist/t10k-images-idx3-ubyte.gz\n"
          ]
        },
        {
          "output_type": "stream",
          "name": "stderr",
          "text": [
            "\n"
          ]
        },
        {
          "output_type": "stream",
          "name": "stdout",
          "text": [
            "Failed to download (trying next):\n",
            "HTTP Error 403: Forbidden\n",
            "\n",
            "Downloading https://ossci-datasets.s3.amazonaws.com/mnist/t10k-images-idx3-ubyte.gz\n",
            "Downloading https://ossci-datasets.s3.amazonaws.com/mnist/t10k-images-idx3-ubyte.gz to ./mnistdata/MNIST/raw/t10k-images-idx3-ubyte.gz\n"
          ]
        },
        {
          "output_type": "stream",
          "name": "stderr",
          "text": [
            "100%|██████████| 1648877/1648877 [00:00<00:00, 9328918.88it/s]\n"
          ]
        },
        {
          "output_type": "stream",
          "name": "stdout",
          "text": [
            "Extracting ./mnistdata/MNIST/raw/t10k-images-idx3-ubyte.gz to ./mnistdata/MNIST/raw\n",
            "\n",
            "Downloading http://yann.lecun.com/exdb/mnist/t10k-labels-idx1-ubyte.gz\n",
            "Failed to download (trying next):\n",
            "HTTP Error 403: Forbidden\n",
            "\n",
            "Downloading https://ossci-datasets.s3.amazonaws.com/mnist/t10k-labels-idx1-ubyte.gz\n",
            "Downloading https://ossci-datasets.s3.amazonaws.com/mnist/t10k-labels-idx1-ubyte.gz to ./mnistdata/MNIST/raw/t10k-labels-idx1-ubyte.gz\n"
          ]
        },
        {
          "output_type": "stream",
          "name": "stderr",
          "text": [
            "100%|██████████| 4542/4542 [00:00<00:00, 9709749.63it/s]"
          ]
        },
        {
          "output_type": "stream",
          "name": "stdout",
          "text": [
            "Extracting ./mnistdata/MNIST/raw/t10k-labels-idx1-ubyte.gz to ./mnistdata/MNIST/raw\n",
            "\n"
          ]
        },
        {
          "output_type": "stream",
          "name": "stderr",
          "text": [
            "\n"
          ]
        }
      ],
      "source": [
        "transform = torchvision.transforms.Compose(\n",
        "    [\n",
        "        torchvision.transforms.ToTensor(),\n",
        "        torchvision.transforms.Normalize((0.5,), (0.5,)),\n",
        "    ]\n",
        ")\n",
        "train_dataset = torchvision.datasets.MNIST(\n",
        "    root=\"./mnistdata\", train=True, transform=transform, download=True\n",
        ")\n",
        "train_loader = torch.utils.data.DataLoader(train_dataset, batch_size=64, shuffle=True)\n",
        "\n",
        "test_dataset = torchvision.datasets.MNIST(\n",
        "    root=\"./mnistdata\", train=False, transform=transform, download=True\n",
        ")\n",
        "test_loader = torch.utils.data.DataLoader(test_dataset, batch_size=64, shuffle=False)"
      ]
    },
    {
      "cell_type": "code",
      "execution_count": null,
      "metadata": {
        "colab": {
          "base_uri": "https://localhost:8080/"
        },
        "id": "4b8S8X3sGeSu",
        "outputId": "b8e1b282-9b0c-4946-debd-17fe8dc7ec27"
      },
      "outputs": [
        {
          "output_type": "execute_result",
          "data": {
            "text/plain": [
              "torch.Size([1, 28, 28])"
            ]
          },
          "metadata": {},
          "execution_count": 4
        }
      ],
      "source": [
        "train_dataset[1000][0].shape"
      ]
    },
    {
      "cell_type": "code",
      "execution_count": null,
      "metadata": {
        "colab": {
          "base_uri": "https://localhost:8080/"
        },
        "id": "Vx5V7AKIGeSv",
        "outputId": "f3b89e14-82a1-434e-8e0a-cabbaddfbd8e"
      },
      "outputs": [
        {
          "output_type": "execute_result",
          "data": {
            "text/plain": [
              "7"
            ]
          },
          "metadata": {},
          "execution_count": 6
        }
      ],
      "source": [
        "train_dataset[5000][1]"
      ]
    },
    {
      "cell_type": "code",
      "execution_count": null,
      "metadata": {
        "colab": {
          "base_uri": "https://localhost:8080/",
          "height": 430
        },
        "id": "z7N4kEnGGeSw",
        "outputId": "eb2b8f50-c9de-4992-f6b1-2755cf7b8bb4"
      },
      "outputs": [
        {
          "output_type": "display_data",
          "data": {
            "text/plain": [
              "<Figure size 640x480 with 1 Axes>"
            ],
            "image/png": "[encoded data removed]"
          },
          "metadata": {}
        }
      ],
      "source": [
        "fig = plt.figure()\n",
        "plt.imshow(train_dataset[5000][0][0].numpy(), cmap=\"binary\", aspect=\"auto\")\n",
        "plt.show()\n",
        "plt.close(fig)"
      ]
    },
    {
      "cell_type": "code",
      "execution_count": null,
      "metadata": {
        "id": "cEQi2_Q5GeSx"
      },
      "outputs": [],
      "source": [
        "class FCN(torch.nn.Module):\n",
        "    def __init__(self, layers):\n",
        "        super().__init__()\n",
        "\n",
        "        self.layers = layers\n",
        "\n",
        "        self.activation = torch.nn.ReLU()\n",
        "        # self.activation = torch.nn.Tanh()\n",
        "        self.last_layer_activation = torch.nn.Sigmoid()\n",
        "        # self.last_layer_activation = torch.nn.Softmax()\n",
        "        # self.loss_function = torch.nn.MSELoss(reduction=\"mean\")\n",
        "        self.loss_function = torch.nn.CrossEntropyLoss()\n",
        "\n",
        "        self.linears = torch.nn.ModuleList(\n",
        "            [\n",
        "                torch.nn.Linear(self.layers[i], self.layers[i + 1])\n",
        "                for i in range(len(self.layers) - 1)\n",
        "            ]\n",
        "        )\n",
        "        for linear in self.linears:\n",
        "            torch.nn.init.xavier_normal_(linear.weight.data)\n",
        "            torch.nn.init.zeros_(linear.bias.data)\n",
        "\n",
        "    def forward(self, x):\n",
        "        h = torch.nn.Flatten()(x)\n",
        "        for layer in self.linears[:-1]:\n",
        "            z = layer(h)\n",
        "            h = self.activation(z)\n",
        "        y = self.last_layer_activation(self.linears[-1](h))\n",
        "        return y"
      ]
    },
    {
      "cell_type": "code",
      "execution_count": null,
      "metadata": {
        "id": "xip097rSGeSy"
      },
      "outputs": [],
      "source": [
        "model = FCN([28 * 28, 128, 64, 10]).to(device)"
      ]
    },
    {
      "cell_type": "code",
      "execution_count": null,
      "metadata": {
        "id": "ZitjuPgVGeSy"
      },
      "outputs": [],
      "source": [
        "optimizer = torch.optim.Adam(model.parameters(), lr=0.001)"
      ]
    },
    {
      "cell_type": "code",
      "execution_count": null,
      "metadata": {
        "colab": {
          "base_uri": "https://localhost:8080/"
        },
        "id": "pz3HnAaVGeSz",
        "outputId": "0525c8ae-100b-45b7-b9e0-5446e59024da"
      },
      "outputs": [
        {
          "output_type": "stream",
          "name": "stdout",
          "text": [
            "Epoch 1, Batch   0, Loss 2.331\n",
            "Epoch 1, Batch 100, Loss 1.606\n",
            "Epoch 1, Batch 200, Loss 1.576\n",
            "Epoch 1, Batch 300, Loss 1.571\n",
            "Epoch 1, Batch 400, Loss 1.544\n",
            "Epoch 1, Batch 500, Loss 1.603\n",
            "Epoch 1, Batch 600, Loss 1.541\n",
            "Epoch 1, Batch 700, Loss 1.508\n",
            "Epoch 1, Batch 800, Loss 1.569\n",
            "Epoch 1, Batch 900, Loss 1.521\n",
            "------------------------------\n",
            "Epoch 1, Epoch Loss 1.588\n",
            "------------------------------\n",
            "Epoch 2, Batch   0, Loss 1.539\n",
            "Epoch 2, Batch 100, Loss 1.508\n",
            "Epoch 2, Batch 200, Loss 1.520\n",
            "Epoch 2, Batch 300, Loss 1.554\n",
            "Epoch 2, Batch 400, Loss 1.499\n",
            "Epoch 2, Batch 500, Loss 1.535\n",
            "Epoch 2, Batch 600, Loss 1.534\n",
            "Epoch 2, Batch 700, Loss 1.546\n",
            "Epoch 2, Batch 800, Loss 1.546\n",
            "Epoch 2, Batch 900, Loss 1.537\n",
            "------------------------------\n",
            "Epoch 2, Epoch Loss 1.524\n",
            "------------------------------\n",
            "Epoch 3, Batch   0, Loss 1.508\n",
            "Epoch 3, Batch 100, Loss 1.520\n",
            "Epoch 3, Batch 200, Loss 1.519\n",
            "Epoch 3, Batch 300, Loss 1.519\n",
            "Epoch 3, Batch 400, Loss 1.518\n",
            "Epoch 3, Batch 500, Loss 1.502\n",
            "Epoch 3, Batch 600, Loss 1.537\n",
            "Epoch 3, Batch 700, Loss 1.501\n",
            "Epoch 3, Batch 800, Loss 1.515\n",
            "Epoch 3, Batch 900, Loss 1.493\n",
            "------------------------------\n",
            "Epoch 3, Epoch Loss 1.508\n",
            "------------------------------\n",
            "Epoch 4, Batch   0, Loss 1.527\n",
            "Epoch 4, Batch 100, Loss 1.502\n",
            "Epoch 4, Batch 200, Loss 1.496\n",
            "Epoch 4, Batch 300, Loss 1.471\n",
            "Epoch 4, Batch 400, Loss 1.488\n",
            "Epoch 4, Batch 500, Loss 1.505\n",
            "Epoch 4, Batch 600, Loss 1.496\n",
            "Epoch 4, Batch 700, Loss 1.488\n",
            "Epoch 4, Batch 800, Loss 1.506\n",
            "Epoch 4, Batch 900, Loss 1.480\n",
            "------------------------------\n",
            "Epoch 4, Epoch Loss 1.501\n",
            "------------------------------\n",
            "Epoch 5, Batch   0, Loss 1.484\n",
            "Epoch 5, Batch 100, Loss 1.498\n",
            "Epoch 5, Batch 200, Loss 1.471\n",
            "Epoch 5, Batch 300, Loss 1.498\n",
            "Epoch 5, Batch 400, Loss 1.473\n",
            "Epoch 5, Batch 500, Loss 1.494\n",
            "Epoch 5, Batch 600, Loss 1.500\n",
            "Epoch 5, Batch 700, Loss 1.496\n",
            "Epoch 5, Batch 800, Loss 1.478\n",
            "Epoch 5, Batch 900, Loss 1.469\n",
            "------------------------------\n",
            "Epoch 5, Epoch Loss 1.495\n",
            "------------------------------\n"
          ]
        }
      ],
      "source": [
        "num_epochs = 5\n",
        "\n",
        "losses = []\n",
        "for epoch in range(num_epochs):\n",
        "    epoch_loss = 0\n",
        "    for i, (images, labels) in enumerate(train_loader):\n",
        "        images = images.to(device)\n",
        "        labels = labels.to(device)\n",
        "        # print(labels)\n",
        "        optimizer.zero_grad()\n",
        "        outputs = model(images)\n",
        "        # print(outputs)\n",
        "        loss = model.loss_function(outputs, labels)\n",
        "        loss.backward()\n",
        "        optimizer.step()\n",
        "        epoch_loss += loss.item()\n",
        "        if i % 100 == 0:\n",
        "            print(f\"Epoch {epoch + 1}, Batch {i:3d}, Loss {loss.item():.3f}\")\n",
        "    losses.append(epoch_loss / len(train_loader))\n",
        "    print(f\"{'-' * 30}\")\n",
        "    print(f\"Epoch {epoch + 1}, Epoch Loss {losses[-1]:.3f}\")\n",
        "    print(f\"{'-' * 30}\")"
      ]
    },
    {
      "cell_type": "code",
      "execution_count": null,
      "metadata": {
        "colab": {
          "base_uri": "https://localhost:8080/",
          "height": 449
        },
        "id": "yo-VnTP_GeS1",
        "outputId": "b134afa1-96d3-4c94-adf9-b328b283b64a"
      },
      "outputs": [
        {
          "output_type": "display_data",
          "data": {
            "text/plain": [
              "<Figure size 640x480 with 1 Axes>"
            ],
            "image/png": "[encoded data removed]"
          },
          "metadata": {}
        }
      ],
      "source": [
        "fig = plt.figure()\n",
        "plt.plot(range(1, num_epochs + 1), losses, label=\"Training Loss\")\n",
        "plt.legend(\"best\")\n",
        "plt.xlabel(\"Epoch\")\n",
        "plt.ylabel(\"Loss\")\n",
        "plt.yscale(\"log\")\n",
        "plt.show()\n",
        "plt.close(fig)"
      ]
    },
    {
      "cell_type": "code",
      "execution_count": null,
      "metadata": {
        "colab": {
          "base_uri": "https://localhost:8080/"
        },
        "id": "8fyNCmeeGeS1",
        "outputId": "5eac12ff-8b2d-4470-fef2-e2765e0c986b"
      },
      "outputs": [
        {
          "output_type": "stream",
          "name": "stdout",
          "text": [
            "Accuracy of the model on the test images: 95.84%\n"
          ]
        }
      ],
      "source": [
        "with torch.inference_mode():\n",
        "    correct = 0\n",
        "    total = 0\n",
        "    for images, labels in test_loader:\n",
        "        images = images.to(device)\n",
        "        labels = labels.to(device)\n",
        "        outputs = model(images)\n",
        "        predicted = outputs.argmax(1)\n",
        "        total += labels.size(0)\n",
        "        correct += (predicted == labels).sum().item()\n",
        "print(f\"Accuracy of the model on the test images: {100 * correct / total:.2f}%\")"
      ]
    },
    {
      "cell_type": "code",
      "execution_count": null,
      "metadata": {
        "id": "gxvD-F8uGeS2"
      },
      "outputs": [],
      "source": [
        "nb_classes = 10\n",
        "\n",
        "pred_list = torch.empty(0)\n",
        "label_list = torch.empty(0)\n",
        "\n",
        "with torch.inference_mode():\n",
        "    for i, (inputs, classes) in enumerate(test_loader):\n",
        "        inputs = inputs.to(device)\n",
        "\n",
        "        outputs = model(inputs).cpu()\n",
        "\n",
        "        _, preds = torch.max(outputs, 1)\n",
        "\n",
        "        pred_list = torch.cat([pred_list, preds.view(-1)])\n",
        "        label_list = torch.cat([label_list, classes.view(-1)])"
      ]
    },
    {
      "cell_type": "code",
      "execution_count": null,
      "metadata": {
        "colab": {
          "base_uri": "https://localhost:8080/",
          "height": 449
        },
        "id": "EOTCMezWGeS2",
        "outputId": "62c8d08e-bcca-4c5f-c1da-c8e3273e3cbb"
      },
      "outputs": [
        {
          "output_type": "display_data",
          "data": {
            "text/plain": [
              "<Figure size 640x480 with 2 Axes>"
            ],
            "image/png": "[encoded data removed]"
          },
          "metadata": {}
        }
      ],
      "source": [
        "conf_mat = confusion_matrix(label_list.numpy(), pred_list.numpy())\n",
        "fig, _ = plt.subplots()\n",
        "plt.imshow(conf_mat)\n",
        "plt.colorbar()\n",
        "plt.xlabel(\"Predicted\")\n",
        "plt.ylabel(\"Actual\")\n",
        "plt.show()\n",
        "plt.close(fig)"
      ]
    },
    {
      "cell_type": "code",
      "execution_count": null,
      "metadata": {
        "colab": {
          "base_uri": "https://localhost:8080/"
        },
        "id": "tHY2bQStGeS2",
        "outputId": "5e8c9f34-af97-4277-91d2-afcf891be459"
      },
      "outputs": [
        {
          "output_type": "stream",
          "name": "stdout",
          "text": [
            "0.98\n",
            "0.98\n",
            "0.93\n",
            "0.95\n",
            "0.98\n",
            "0.96\n",
            "0.96\n",
            "0.98\n",
            "0.95\n",
            "0.92\n"
          ]
        }
      ],
      "source": [
        "class_accuracy = conf_mat.diagonal() / conf_mat.sum(1)\n",
        "for i in range(10):\n",
        "    print(f\"{class_accuracy[i]:.2f}\")"
      ]
    },
    {
      "cell_type": "code",
      "execution_count": null,
      "metadata": {
        "colab": {
          "base_uri": "https://localhost:8080/"
        },
        "id": "nkjCJ3L6GeS2",
        "outputId": "fbb1ce8b-19c9-497d-cf63-5f296791a5a6"
      },
      "outputs": [
        {
          "output_type": "stream",
          "name": "stdout",
          "text": [
            "              precision    recall  f1-score   support\n",
            "\n",
            "         0.0       0.98      0.97      0.98       989\n",
            "         1.0       0.98      0.98      0.98      1135\n",
            "         2.0       0.93      0.98      0.96       983\n",
            "         3.0       0.95      0.97      0.96       987\n",
            "         4.0       0.98      0.94      0.96      1023\n",
            "         5.0       0.96      0.94      0.95       911\n",
            "         6.0       0.96      0.96      0.96       962\n",
            "         7.0       0.98      0.93      0.96      1075\n",
            "         8.0       0.95      0.93      0.94       992\n",
            "         9.0       0.92      0.98      0.95       943\n",
            "\n",
            "    accuracy                           0.96     10000\n",
            "   macro avg       0.96      0.96      0.96     10000\n",
            "weighted avg       0.96      0.96      0.96     10000\n",
            "\n"
          ]
        }
      ],
      "source": [
        "class_report = classification_report(pred_list.numpy(), label_list.numpy())\n",
        "print(class_report)"
      ]
    }
  ],
  "metadata": {
    "kernelspec": {
      "display_name": "Python 3",
      "name": "python3"
    },
    "language_info": {
      "codemirror_mode": {
        "name": "ipython",
        "version": 3
      },
      "file_extension": ".py",
      "mimetype": "text/x-python",
      "name": "python",
      "nbconvert_exporter": "python",
      "pygments_lexer": "ipython3",
      "version": "3.11.9"
    },
    "colab": {
      "provenance": [],
      "gpuType": "T4"
    },
    "accelerator": "GPU"
  },
  "nbformat": 4,
  "nbformat_minor": 0
}
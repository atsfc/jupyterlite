{
 "cells": [
  {
   "cell_type": "markdown",
   "metadata": {},
   "source": [
    "## Python Classes/Objects\n",
    "\n",
    "Python is an object oriented programming language.\n",
    "\n",
    "Almost everything in Python is an object, with its properties and methods.\n",
    "\n",
    "A Class is like an object constructor, or a \"blueprint\" for creating objects."
   ]
  },
  {
   "cell_type": "code",
   "execution_count": 1,
   "metadata": {},
   "outputs": [],
   "source": [
    "# sample class example\n",
    "class Dog:\n",
    "    def __init__(self, name, age):\n",
    "        self.name = name\n",
    "        self.age = age\n",
    "\n",
    "    def sit(self):\n",
    "        print(f\"{self.name} is now sitting.\")\n",
    "\n",
    "    def roll_over(self):\n",
    "        print(f\"{self.name} rolled over!\")"
   ]
  },
  {
   "cell_type": "code",
   "execution_count": null,
   "metadata": {},
   "outputs": [],
   "source": [
    "type(\"a\")"
   ]
  },
  {
   "cell_type": "code",
   "execution_count": null,
   "metadata": {},
   "outputs": [],
   "source": [
    "dir(\"a\")"
   ]
  },
  {
   "cell_type": "code",
   "execution_count": null,
   "metadata": {},
   "outputs": [],
   "source": [
    "\"a\".__class__"
   ]
  },
  {
   "cell_type": "code",
   "execution_count": 9,
   "metadata": {},
   "outputs": [],
   "source": [
    "# to create a class, use the `class` keyword\n",
    "# class names should be capitalized\n",
    "\n",
    "\n",
    "class MyClass:\n",
    "    x = 5"
   ]
  },
  {
   "cell_type": "code",
   "execution_count": null,
   "metadata": {},
   "outputs": [],
   "source": [
    "# now we can use the class to create objects\n",
    "# objects are instances of a class\n",
    "p1 = MyClass()\n",
    "print(p1.x)\n"
   ]
  },
  {
   "cell_type": "markdown",
   "metadata": {},
   "source": [
    "### The `__init__()` Function\n",
    "\n",
    "The examples above are classes and objects in their simplest form, and are not really useful in real life applications.\n",
    "\n",
    "All classes have a function called `__init__()`, which is always executed when the class is being initiated.\n",
    "\n",
    "Use the `__init__()` function to assign values to object properties, or other operations that are necessary to do when the object is being created:"
   ]
  },
  {
   "cell_type": "code",
   "execution_count": null,
   "metadata": {},
   "outputs": [],
   "source": [
    "class Person:\n",
    "    def __init__(self, name, age):\n",
    "        self.name = name\n",
    "        self.age = age\n",
    "\n",
    "\n",
    "p1 = Person(\"John\", 36)\n",
    "p2 = Person(\"Jane\", 25)\n",
    "\n",
    "print(p1.name)\n",
    "print(p1.age)\n",
    "print(p2.name)\n",
    "print(p2.age)"
   ]
  },
  {
   "cell_type": "code",
   "execution_count": null,
   "metadata": {},
   "outputs": [],
   "source": [
    "id(\"a\")"
   ]
  },
  {
   "cell_type": "code",
   "execution_count": 12,
   "metadata": {},
   "outputs": [],
   "source": [
    "# classess can have common attributes\n",
    "\n",
    "\n",
    "class Employee:\n",
    "    retirement_age = 50\n",
    "\n",
    "    def __init__(self, employee_name, employee_id):\n",
    "        self.name = employee_name\n",
    "        self.id = employee_id\n",
    "        self.salary = None\n",
    "        self.remaining_years = None\n"
   ]
  },
  {
   "cell_type": "markdown",
   "metadata": {},
   "source": [
    "### Object Methods\n",
    "\n",
    "Objects can also contain methods. Methods in objects are functions that belong to the object."
   ]
  },
  {
   "cell_type": "code",
   "execution_count": null,
   "metadata": {},
   "outputs": [],
   "source": [
    "class Person:\n",
    "    def __init__(self, name, age):\n",
    "        self.name = name\n",
    "        self.age = age\n",
    "\n",
    "    def myfunc(self):\n",
    "        print(\"Hello my name is \" + self.name)\n",
    "\n",
    "\n",
    "p1 = Person(\"John\", 36)\n",
    "p1.myfunc()\n"
   ]
  },
  {
   "cell_type": "code",
   "execution_count": null,
   "metadata": {},
   "outputs": [],
   "source": [
    "# the self parameter is a reference to the current instance of the class\n",
    "\n",
    "\n",
    "class Person:\n",
    "    def __init__(myobject, name, age):\n",
    "        myobject.name = name\n",
    "        myobject.age = age\n",
    "\n",
    "    def myfunc(abc):\n",
    "        print(\"Hello my name is \" + abc.name)\n",
    "\n",
    "\n",
    "p1 = Person(\"John\", 36)\n",
    "p1.myfunc()\n"
   ]
  },
  {
   "cell_type": "code",
   "execution_count": null,
   "metadata": {},
   "outputs": [],
   "source": [
    "# modify object properties\n",
    "p1.name = \"James\"\n",
    "p1.myfunc()"
   ]
  },
  {
   "cell_type": "code",
   "execution_count": null,
   "metadata": {},
   "outputs": [],
   "source": [
    "# delete object properties\n",
    "del p1.name\n",
    "p1.myfunc()\n"
   ]
  },
  {
   "cell_type": "code",
   "execution_count": null,
   "metadata": {},
   "outputs": [],
   "source": [
    "# delete objects\n",
    "del p1"
   ]
  },
  {
   "cell_type": "markdown",
   "metadata": {},
   "source": [
    "## Python Inheritance\n",
    "\n",
    "Inheritance allows us to define a class that inherits all the methods and properties from another class.\n",
    "\n",
    "Parent class is the class being inherited from, also called base class.\n",
    "\n",
    "Child class is the class that inherits from another class, also called derived class."
   ]
  },
  {
   "cell_type": "code",
   "execution_count": null,
   "metadata": {},
   "outputs": [],
   "source": [
    "# example parent class\n",
    "class Person:\n",
    "    def __init__(self, fname, lname):\n",
    "        self.firstname = fname\n",
    "        self.lastname = lname\n",
    "\n",
    "    def printname(self):\n",
    "        print(self.firstname, self.lastname)\n",
    "\n",
    "\n",
    "p = Person(\"John\", \"Doe\")\n",
    "p.printname()\n"
   ]
  },
  {
   "cell_type": "code",
   "execution_count": 9,
   "metadata": {},
   "outputs": [],
   "source": [
    "# example child class\n",
    "\n",
    "\n",
    "class Student(Person):\n",
    "    pass\n"
   ]
  },
  {
   "cell_type": "code",
   "execution_count": null,
   "metadata": {},
   "outputs": [],
   "source": [
    "s = Student(\"Mike\", \"Olsen\")\n",
    "s.printname()"
   ]
  },
  {
   "cell_type": "code",
   "execution_count": null,
   "metadata": {},
   "outputs": [],
   "source": [
    "# add the __init__() function to the child class\n",
    "\n",
    "\n",
    "class Student(Person):\n",
    "    def __init__(self, fname, lname):\n",
    "        pass\n"
   ]
  },
  {
   "cell_type": "markdown",
   "metadata": {},
   "source": [
    "When you add the `__init__()` function, the child class will no longer inherit the parent's `__init__()` function. To keep the inheritance of the parent's `__init__()` function, add a call to the parent's `__init__()` function:"
   ]
  },
  {
   "cell_type": "code",
   "execution_count": null,
   "metadata": {},
   "outputs": [],
   "source": [
    "class Student(Person):\n",
    "    def __init__(self, fname, lname):\n",
    "        Person.__init__(self, fname, lname)\n"
   ]
  },
  {
   "cell_type": "code",
   "execution_count": null,
   "metadata": {},
   "outputs": [],
   "source": [
    "# use the super() function\n",
    "# super() function will make the child class inherit all the methods and properties from its parent\n",
    "class Student(Person):\n",
    "    def __init__(self, fname, lname):\n",
    "        super().__init__(fname, lname)"
   ]
  },
  {
   "cell_type": "code",
   "execution_count": 11,
   "metadata": {},
   "outputs": [],
   "source": [
    "# add properties\n",
    "class Student(Person):\n",
    "    def __init__(self, fname, lname, year):\n",
    "        super().__init__(fname, lname)\n",
    "        self.graduationyear = year\n",
    "\n",
    "    def welcome(self):\n",
    "        print(\n",
    "            \"Welcome\",\n",
    "            self.firstname,\n",
    "            self.lastname,\n",
    "            \"to the class of\",\n",
    "            self.graduationyear,\n",
    "        )\n"
   ]
  },
  {
   "cell_type": "code",
   "execution_count": null,
   "metadata": {},
   "outputs": [],
   "source": [
    "s = Student(\"Mike\", \"Olsen\", 2019)\n",
    "s.welcome()"
   ]
  },
  {
   "cell_type": "code",
   "execution_count": null,
   "metadata": {},
   "outputs": [],
   "source": [
    "# hidden properties\n",
    "# can be accessed inside the class\n",
    "class Person:\n",
    "    def __init__(self, name, age):\n",
    "        self.name = name\n",
    "        self.__age = age\n",
    "\n",
    "    def myfunc(self):\n",
    "        print(\"Hello my name is \" + self.name, \"and I am\", self.__age)\n",
    "\n",
    "    def get_age(self):\n",
    "        return self.__age\n",
    "\n",
    "    def set_age(self, age):\n",
    "        self.__age = age\n",
    "\n",
    "\n",
    "p1 = Person(\"John\", 36)\n",
    "p1.myfunc()\n",
    "# print(p1.__age) # this will raise an error\n",
    "# p1.get_age()\n"
   ]
  },
  {
   "cell_type": "code",
   "execution_count": null,
   "metadata": {},
   "outputs": [],
   "source": [
    "# hidden methods\n",
    "class Person:\n",
    "    def __init__(self, name, age):\n",
    "        self.name = name\n",
    "        self.__age = age\n",
    "\n",
    "    def __myfunc(self):\n",
    "        print(\"Hello my name is \" + self.name, \"and I am\", self.__age)\n",
    "\n",
    "    def myfunc(self):\n",
    "        self.__myfunc()\n",
    "\n",
    "\n",
    "p1 = Person(\"John\", 36)\n",
    "# p1.__myfunc()  # this will raise an error\n",
    "p1.myfunc()"
   ]
  },
  {
   "cell_type": "code",
   "execution_count": null,
   "metadata": {},
   "outputs": [],
   "source": [
    "# Why we need classes in Python?\n",
    "# Without using classes\n",
    "\n",
    "\n",
    "def calculateGPA(gradeDict):\n",
    "    return sum(gradeDict.values()) / len(gradeDict)\n",
    "\n",
    "\n",
    "# defining students is not efficient without classes\n",
    "john = {\"age\": 12, \"gender\": \"male\", \"level\": 6, \"grades\": {\"math\": 3.3}}\n",
    "jane = {\"age\": 12, \"gender\": \"female\", \"level\": 6, \"grades\": {\"math\": 3.5}}\n",
    "students = {\"john\": john, \"jane\": jane}\n",
    "\n",
    "print(calculateGPA(students[\"john\"][\"grades\"]))\n",
    "print(calculateGPA(students[\"jane\"][\"grades\"]))\n",
    "\n",
    "# adding new grade is not easy without classes\n",
    "# to add a grade we need to update the student dictionary\n",
    "john.update({\"grades\": {\"math\": 3.3, \"science\": 3.5}})"
   ]
  },
  {
   "cell_type": "code",
   "execution_count": null,
   "metadata": {},
   "outputs": [],
   "source": [
    "# with using classes\n",
    "\n",
    "\n",
    "class Student(object):\n",
    "    def __init__(self, name, age, gender, level, grades=None):\n",
    "        self.name = name\n",
    "        self.age = age\n",
    "        self.gender = gender\n",
    "        self.level = level\n",
    "        self.grades = grades or {}\n",
    "\n",
    "    def setGrade(self, course, grade):\n",
    "        self.grades[course] = grade\n",
    "\n",
    "    def getGrade(self, course):\n",
    "        return self.grades[course]\n",
    "\n",
    "    def getGPA(self):\n",
    "        return sum(self.grades.values()) / len(self.grades)\n",
    "\n",
    "\n",
    "# Define some students\n",
    "john = Student(\"John\", 12, \"male\", 6, {\"math\": 3.3})\n",
    "jane = Student(\"Jane\", 12, \"female\", 6, {\"math\": 3.5})\n",
    "\n",
    "# Now we can get to the grades easily\n",
    "print(john.getGPA())\n",
    "print(jane.getGPA())\n",
    "\n",
    "# We can add new courses for John very easily\n",
    "john.setGrade(\"science\", 3.2)\n"
   ]
  },
  {
   "cell_type": "code",
   "execution_count": null,
   "metadata": {},
   "outputs": [],
   "source": [
    "# a class example of a basic calculator\n",
    "class Calculator:\n",
    "    def __init__(self, a, b):\n",
    "        self.a = a\n",
    "        self.b = b\n",
    "\n",
    "    def add(self):\n",
    "        return self.a + self.b\n",
    "\n",
    "    def subtract(self):\n",
    "        return self.a - self.b\n",
    "\n",
    "    def multiply(self):\n",
    "        return self.a * self.b\n",
    "\n",
    "    def divide(self):\n",
    "        return self.a / self.b\n",
    "\n",
    "\n",
    "calc = Calculator(10, 5)\n",
    "print(f\"Add: {calc.add()}\")\n",
    "print(f\"Subtract: {calc.subtract()}\")\n",
    "print(f\"Multiply: {calc.multiply()}\")\n",
    "print(f\"Divide: {calc.divide()}\")"
   ]
  },
  {
   "cell_type": "code",
   "execution_count": null,
   "metadata": {},
   "outputs": [],
   "source": [
    "# extending the calculator class\n",
    "# to add more functions to the calculator\n",
    "# with inheritance\n",
    "class AdvancedCalculator(Calculator):\n",
    "    def power(self):\n",
    "        return self.a**self.b\n",
    "\n",
    "    def square_root(self):\n",
    "        return self.a**0.5\n",
    "\n",
    "\n",
    "calc = AdvancedCalculator(10, 5)\n",
    "print(f\"Add: {calc.add()}\")\n",
    "print(f\"Subtract: {calc.subtract()}\")\n",
    "print(f\"Multiply: {calc.multiply()}\")\n",
    "print(f\"Divide: {calc.divide()}\")\n",
    "print(f\"Power: {calc.power()}\")\n",
    "print(f\"Square Root: {calc.square_root()}\")"
   ]
  },
  {
   "cell_type": "code",
   "execution_count": 7,
   "metadata": {},
   "outputs": [],
   "source": [
    "# a least sqauares polynomial regression class example\n",
    "import numpy as np\n",
    "import matplotlib.pyplot as plt\n",
    "\n",
    "\n",
    "class PolynomialRegression:\n",
    "    def __init__(self, x, y, degree, num_plot_points=100):\n",
    "        self.x = x\n",
    "        self.y = y\n",
    "        self.x_plot = np.linspace(min(self.x), max(self.x), num_plot_points)\n",
    "        self.degree = degree\n",
    "        self.coefficients = np.polyfit(self.x, self.y, self.degree)\n",
    "        self.poly = np.poly1d(self.coefficients)\n",
    "\n",
    "    def plot(self):\n",
    "        fig = plt.figure(figsize=(10, 6))\n",
    "        plt.scatter(self.x, self.y, label=\"Data\", color=\"blue\")\n",
    "        plt.plot(self.x_plot, self.poly(self.x_plot), color=\"red\", label=\"Polynomial\")\n",
    "        plt.xlabel(\"x\")\n",
    "        plt.ylabel(\"y\")\n",
    "        plt.title(\"Polynomial Regression\")\n",
    "        plt.legend()\n",
    "        plt.show()\n",
    "        plt.close(fig)\n"
   ]
  },
  {
   "cell_type": "code",
   "execution_count": null,
   "metadata": {},
   "outputs": [],
   "source": [
    "x = np.linspace(0, 5, 20)\n",
    "y = 2.9 * x**3 - 4.8 * x**2 + 3.5 * x + 2.1\n",
    "degree = 3\n",
    "poly_reg = PolynomialRegression(x, y, degree)\n",
    "print(f\"Coefficients:\\n{poly_reg.coefficients}\")\n",
    "poly_reg.plot()"
   ]
  },
  {
   "cell_type": "code",
   "execution_count": null,
   "metadata": {},
   "outputs": [],
   "source": [
    "x2 = np.linspace(0, 5, 20)\n",
    "y2 = np.sin(x2 * np.pi / 2) + np.random.normal(0, 0.1, 20)\n",
    "degree = 6\n",
    "poly_reg2 = PolynomialRegression(x2, y2, degree)\n",
    "print(f\"Coefficients:\\n{poly_reg2.coefficients}\")\n",
    "poly_reg2.plot()"
   ]
  }
 ],
 "metadata": {
  "kernelspec": {
   "display_name": ".venv",
   "language": "python",
   "name": "python3"
  },
  "language_info": {
   "codemirror_mode": {
    "name": "ipython",
    "version": 3
   },
   "file_extension": ".py",
   "mimetype": "text/x-python",
   "name": "python",
   "nbconvert_exporter": "python",
   "pygments_lexer": "ipython3",
   "version": "3.12.7"
  }
 },
 "nbformat": 4,
 "nbformat_minor": 2
}

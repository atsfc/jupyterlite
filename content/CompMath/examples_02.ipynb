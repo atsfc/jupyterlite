{
 "cells": [
  {
   "cell_type": "markdown",
   "metadata": {},
   "source": [
    "### Example 1\n",
    "\n",
    "Create a python class using `sympy` library that solves the following problem:  \n",
    "Let us consider the following equation, with unknown $z$ and parameter $\\varphi$:\n",
    "\n",
    "$$\n",
    "z^2 - \\dfrac{2}{\\cos \\varphi} z + \\dfrac{5}{\\cos^2 \\varphi} - 4 = 0\n",
    "$$\n",
    "with $ -\\dfrac{\\pi}{2} < \\varphi < \\dfrac{\\pi}{2} $. Solve this equation for $z$."
   ]
  },
  {
   "cell_type": "markdown",
   "metadata": {},
   "source": [
    "### Example 2\n",
    "\n",
    "Write a Bisection algorithm class that can be used to find the root of a function. The `__init__` method should take in the function, the tolerance, and the maximum number of iterations. The class should have a `find_root` method that takes in the lower and upper bounds of the interval to search for the root. The `find_root` method should return the root of the function if it is found within the tolerance, otherwise it should print a message saying that the root was not found within the maximum number of iterations and return `None`."
   ]
  },
  {
   "cell_type": "markdown",
   "metadata": {},
   "source": [
    "### Example 3\n",
    "\n",
    "The trapezoidal rule is a numerical method to evaluate definite integrals. It approximates the integral of a function $f(x)$ by the sum of the areas of trapezoids formed by the function and the x-axis between two points $a$ and $b$. The formula for the general case is:\n",
    "\n",
    "$$\n",
    "\\int_{a}^{b} f(x) dx \\approx \\sum_{i=1}^{n} \\dfrac{f(x_{i-1}) + f(x_i)}{2} \\Delta x,\n",
    "$$\n",
    "\n",
    "where $x_i = a + i \\Delta x$ and $\\Delta x = \\dfrac{b - a}{n}$. Or we can write it as:\n",
    "\n",
    "$$\n",
    "\\int_{a}^{b} f(x) dx \\approx \\dfrac{f(a) + f(b)}{2} \\Delta x + \\sum_{i=1}^{n-1} f(a + i \\Delta x) \\Delta x.\n",
    "$$\n",
    "\n",
    "Write a class `TrapezoidalMethod` that takes in a function $f(x)$, the exact integral of the function, and the interval $[a, b]$ as arguments. The class should have\n",
    "- a method `__init__` that initializes the function and the interval\n",
    "- a method `approximate_integral` that returns the approximate integral of the function using the trapezoidal rule\n",
    "- a method `error` that returns the error in the approximation of the integral\n",
    "- a method `relative_error` that returns the relative error in the approximation of the integral\n"
   ]
  },
  {
   "cell_type": "markdown",
   "metadata": {},
   "source": [
    "### Example 4\n",
    "\n",
    "The Lagrange multiplier method is a mathematical technique for finding the local maxima and minima of a function subject to equality constraints. The method involves forming the Lagrange function, which is the function to be optimized along with the constraints. The method of Lagrange multipliers states that the gradient of the Lagrange function at the optimal point is proportional to the gradient of the constraint function.\n",
    "\n",
    "\n",
    "Create a class `LagrangeMultiplierOptimizer` that takes in a function $f(x, y)$ and a constraints $g(x, y) = 0$ as arguments. \n",
    "* The class should calculate the Lagrange function $L(x, y, \\lambda) = f(x, y) + \\lambda g(x, y)$.\n",
    "* The class should have a method `optimize` that finds the minimum or maximum of the function $f(x, y)$ subject to the constraint $g(x, y) = 0$ using the method of Lagrange multipliers. The method should return the optimal values of $x$, $y$ and $\\lambda$ parameters that satisfy the constraint and optimize the function."
   ]
  }
 ],
 "metadata": {
  "kernelspec": {
   "display_name": ".venv",
   "language": "python",
   "name": "python3"
  },
  "language_info": {
   "name": "python",
   "version": "3.12.7"
  }
 },
 "nbformat": 4,
 "nbformat_minor": 2
}

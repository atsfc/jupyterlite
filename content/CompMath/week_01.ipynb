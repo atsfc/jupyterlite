{
 "cells": [
  {
   "cell_type": "markdown",
   "metadata": {},
   "source": [
    "# What is a Notebook?\n",
    "\n",
    "A notebook is a document that contains both **code** and **rich text elements**, such as *figures*, *links*, *equations*, and so on. with using the power of markdown language.\n",
    "\n",
    "Because of the mix of code and text elements, these documents are the ideal place to bring together an analysis description, and its results, as well as they can be executed perform the data analysis in real time."
   ]
  },
  {
   "cell_type": "markdown",
   "metadata": {},
   "source": [
    "## Numerical Computation with NumPy\n",
    "\n",
    "NumPy is a Python library used for working with arrays. It also has functions for working in domain of linear algebra, fourier transform, and matrices. NumPy was created in 2005. It is an open source project and you can use it freely. NumPy stands for Numerical Python.\n",
    "\n",
    "### Creating NumPy Arrays\n",
    "\n",
    "There are 6 general mechanisms for creating arrays:\n",
    "\n",
    "##### 1. Conversion from other Python structures (i.e. lists and tuples)"
   ]
  },
  {
   "cell_type": "code",
   "execution_count": null,
   "metadata": {},
   "outputs": [],
   "source": [
    "import numpy as np\n",
    "\n",
    "# 1D array\n",
    "a1D = np.array((1, 2, 3, 4))\n",
    "# 2D array\n",
    "a2D = np.array([[1, 2], [3, 4]])\n",
    "# 3D array\n",
    "a3D = np.array([[[1, 2], [3, 4]], [[5, 6], [7, 8]]])\n",
    "\n",
    "\n",
    "a1D\n"
   ]
  },
  {
   "cell_type": "code",
   "execution_count": null,
   "metadata": {},
   "outputs": [],
   "source": [
    "# type(a1D)\n",
    "a1D.shape"
   ]
  },
  {
   "cell_type": "code",
   "execution_count": null,
   "metadata": {},
   "outputs": [],
   "source": [
    "# reshape 1D array to 2D array\n",
    "a1D[:, np.newaxis]\n",
    "# a1D.reshape(4, 1)"
   ]
  },
  {
   "cell_type": "markdown",
   "metadata": {},
   "source": [
    "##### 2. Intrinsic NumPy array creation functions (e.g. arange, ones, zeros, etc.)"
   ]
  },
  {
   "cell_type": "code",
   "execution_count": null,
   "metadata": {},
   "outputs": [],
   "source": [
    "# range of numbers\n",
    "np.arange(10)"
   ]
  },
  {
   "cell_type": "code",
   "execution_count": null,
   "metadata": {},
   "outputs": [],
   "source": [
    "np.arange(2, 10, dtype=float)"
   ]
  },
  {
   "cell_type": "code",
   "execution_count": null,
   "metadata": {},
   "outputs": [],
   "source": [
    "np.arange(2, 3, 0.1)"
   ]
  },
  {
   "cell_type": "code",
   "execution_count": null,
   "metadata": {},
   "outputs": [],
   "source": [
    "# evenly spaced numbers\n",
    "np.linspace(1.0, 4.0, 6)"
   ]
  },
  {
   "cell_type": "code",
   "execution_count": null,
   "metadata": {},
   "outputs": [],
   "source": [
    "# identity matrix\n",
    "np.eye(3)\n",
    "# np.eye(3, 4)"
   ]
  },
  {
   "cell_type": "code",
   "execution_count": null,
   "metadata": {},
   "outputs": [],
   "source": [
    "# diagonal matrix with diagonal values\n",
    "np.diag([1, 2, 3])\n",
    "# np.diag([1, 2, 3], k=1)"
   ]
  },
  {
   "cell_type": "code",
   "execution_count": null,
   "metadata": {},
   "outputs": [],
   "source": [
    "# vandermonde matrix\n",
    "np.vander([1, 2, 3, 4], 2)"
   ]
  },
  {
   "cell_type": "code",
   "execution_count": null,
   "metadata": {},
   "outputs": [],
   "source": [
    "# zeros matrix\n",
    "# np.zeros((2, 3))\n",
    "np.zeros(3)"
   ]
  },
  {
   "cell_type": "code",
   "execution_count": null,
   "metadata": {},
   "outputs": [],
   "source": [
    "# ones matrix\n",
    "np.ones((2, 3))"
   ]
  },
  {
   "cell_type": "code",
   "execution_count": null,
   "metadata": {},
   "outputs": [],
   "source": [
    "# random numbers between 0 and 1\n",
    "np.random.rand(2, 3)"
   ]
  },
  {
   "cell_type": "code",
   "execution_count": null,
   "metadata": {},
   "outputs": [],
   "source": [
    "# random integers between 0 and 10\n",
    "np.random.randint(1, 10, (2, 3))"
   ]
  },
  {
   "cell_type": "code",
   "execution_count": null,
   "metadata": {},
   "outputs": [],
   "source": [
    "# random numbers from a normal distribution\n",
    "np.random.randn(2, 3)"
   ]
  },
  {
   "cell_type": "code",
   "execution_count": null,
   "metadata": {},
   "outputs": [],
   "source": [
    "# random numbers from a uniform distribution\n",
    "# np.random.seed(0)\n",
    "np.random.uniform(1, 10, (2, 3))"
   ]
  },
  {
   "cell_type": "markdown",
   "metadata": {},
   "source": [
    "##### 3. Replicating, joining, or mutating existing arrays"
   ]
  },
  {
   "cell_type": "code",
   "execution_count": null,
   "metadata": {},
   "outputs": [],
   "source": [
    "a = np.array([1, 2, 3, 4, 5, 6])\n",
    "b = a[:2]  # create a view of the first two elements\n",
    "b += 1\n",
    "# b.base\n",
    "b, a"
   ]
  },
  {
   "cell_type": "code",
   "execution_count": null,
   "metadata": {},
   "outputs": [],
   "source": [
    "# copy gives a new array\n",
    "a = np.array([1, 2, 3, 4, 5, 6])\n",
    "b = a[:2].copy()\n",
    "b += 1\n",
    "# b.base  # is None since it is a new array\n",
    "b, a"
   ]
  },
  {
   "cell_type": "code",
   "execution_count": null,
   "metadata": {},
   "outputs": [],
   "source": [
    "# reshape creates a view\n",
    "a = np.array([1, 2, 3, 4, 5, 6])\n",
    "b = a.reshape(2, 3)\n",
    "b.base"
   ]
  },
  {
   "cell_type": "code",
   "execution_count": null,
   "metadata": {},
   "outputs": [],
   "source": [
    "# vertical stacking\n",
    "a = np.array([1, 2, 3])\n",
    "b = np.array([4, 5, 6])\n",
    "np.vstack((a, b))\n",
    "# np.concatenate((a.reshape(1, 3), b.reshape(1, 3)))"
   ]
  },
  {
   "cell_type": "code",
   "execution_count": null,
   "metadata": {},
   "outputs": [],
   "source": [
    "# horizontal stacking\n",
    "a = np.array([1, 2, 3])\n",
    "b = np.array([4, 5, 6])\n",
    "np.hstack((a, b))\n",
    "# np.concatenate((a, b))"
   ]
  },
  {
   "cell_type": "code",
   "execution_count": null,
   "metadata": {},
   "outputs": [],
   "source": [
    "a = np.array([[1], [2], [3]])\n",
    "b = np.array([[4], [5], [6]])\n",
    "# np.vstack((a, b))\n",
    "np.concatenate((a, b))"
   ]
  },
  {
   "cell_type": "code",
   "execution_count": null,
   "metadata": {},
   "outputs": [],
   "source": [
    "a = np.array([[1], [2], [3]])\n",
    "b = np.array([[4], [5], [6]])\n",
    "np.hstack((a, b))\n",
    "# np.concatenate((a, b), axis=1)"
   ]
  },
  {
   "cell_type": "code",
   "execution_count": null,
   "metadata": {},
   "outputs": [],
   "source": [
    "# creating block matrices\n",
    "A = np.ones((2, 2))\n",
    "B = np.eye(2, 2)\n",
    "C = np.zeros((2, 2))\n",
    "D = np.diag((-3, -4))\n",
    "np.block([[A, B], [C, D]])"
   ]
  },
  {
   "cell_type": "markdown",
   "metadata": {},
   "source": [
    "##### 4. Reading arrays from disk, either from standard or custom formats"
   ]
  },
  {
   "cell_type": "code",
   "execution_count": 25,
   "metadata": {},
   "outputs": [],
   "source": [
    "# save data to a .csv file\n",
    "a = np.array([[1, 2], [3, 4], [5, 6], [7, 8]])\n",
    "np.savetxt(\"simple.csv\", a, delimiter=\",\", header=\"x, y\")"
   ]
  },
  {
   "cell_type": "code",
   "execution_count": null,
   "metadata": {},
   "outputs": [],
   "source": [
    "# load data from a .csv file\n",
    "np.loadtxt(\"simple.csv\", delimiter=\",\", skiprows=1)"
   ]
  },
  {
   "cell_type": "code",
   "execution_count": 27,
   "metadata": {},
   "outputs": [],
   "source": [
    "# save data to a .npy file\n",
    "a = np.array([1, 2, 3, 4, 5])\n",
    "np.save(\"a.npy\", a)"
   ]
  },
  {
   "cell_type": "code",
   "execution_count": null,
   "metadata": {},
   "outputs": [],
   "source": [
    "# load data from a .npy file\n",
    "\n",
    "np.load(\"a.npy\")"
   ]
  },
  {
   "cell_type": "code",
   "execution_count": 29,
   "metadata": {},
   "outputs": [],
   "source": [
    "# save data to a .npz file\n",
    "a = np.array([1, 2, 3, 4, 5])\n",
    "b = np.array([6, 7, 8, 9, 10])\n",
    "np.savez(\"ab.npz\", a=a, b=b)\n",
    "# np.savez_compressed(\"ab.npz\", a=a, b=b)  # compressed"
   ]
  },
  {
   "cell_type": "code",
   "execution_count": null,
   "metadata": {},
   "outputs": [],
   "source": [
    "# load data from a .npz file\n",
    "data = np.load(\"ab.npz\")\n",
    "data[\"a\"], data[\"b\"]"
   ]
  },
  {
   "cell_type": "code",
   "execution_count": 31,
   "metadata": {},
   "outputs": [],
   "source": [
    "# save data to a .txt file\n",
    "a = np.array([1, 2, 3, 4, 5])\n",
    "\n",
    "np.savetxt(\"a.txt\", a)"
   ]
  },
  {
   "cell_type": "code",
   "execution_count": null,
   "metadata": {},
   "outputs": [],
   "source": [
    "# load data from a .txt file\n",
    "np.loadtxt(\"a.txt\")"
   ]
  },
  {
   "cell_type": "markdown",
   "metadata": {},
   "source": [
    "### Broadcasting\n",
    "\n",
    "NumPy operations are usually done on pairs of arrays on an element-by-element basis.   \n",
    "In the simplest case, the two arrays must have exactly the same shape, as in the following example:"
   ]
  },
  {
   "cell_type": "code",
   "execution_count": null,
   "metadata": {},
   "outputs": [],
   "source": [
    "# broadcasting in vector/matrix multiplication\n",
    "a = np.array([1.0, 2.0, 3.0])\n",
    "b = np.array([2.0, 2.0, 2.0])\n",
    "\n",
    "a * b"
   ]
  },
  {
   "cell_type": "markdown",
   "metadata": {},
   "source": [
    "NumPy’s broadcasting rule relaxes this constraint when the arrays’ shapes meet certain constraints.  \n",
    "The simplest broadcasting example occurs when an array and a scalar value are combined in an operation:  "
   ]
  },
  {
   "cell_type": "code",
   "execution_count": null,
   "metadata": {},
   "outputs": [],
   "source": [
    "# broadcasting in scalar multiplication\n",
    "a = np.array([1.0, 2.0, 3.0])\n",
    "b = 2.0\n",
    "\n",
    "a * b"
   ]
  },
  {
   "cell_type": "markdown",
   "metadata": {},
   "source": [
    "![numpy](https://numpy.org/doc/stable/_images/broadcasting_1.png)"
   ]
  },
  {
   "cell_type": "code",
   "execution_count": null,
   "metadata": {},
   "outputs": [],
   "source": [
    "a = np.array([1, 2, 3])\n",
    "2**a"
   ]
  },
  {
   "cell_type": "markdown",
   "metadata": {},
   "source": [
    "##### General broadcasting rules\n",
    "\n",
    "When operating on two arrays, NumPy compares their shapes element-wise.  \n",
    "It starts with the trailing (i.e. rightmost) dimension and works its way left.  \n",
    "Two dimensions are compatible when\n",
    "\n",
    "* they are equal, or\n",
    "* one of them is 1."
   ]
  },
  {
   "cell_type": "code",
   "execution_count": null,
   "metadata": {},
   "outputs": [],
   "source": [
    "# broadcasting in vector addition with shape matching trailing dimensions\n",
    "a = np.array(\n",
    "    [\n",
    "        [0.0, 0.0, 0.0],\n",
    "        [10.0, 10.0, 10.0],\n",
    "        [20.0, 20.0, 20.0],\n",
    "        [30.0, 30.0, 30.0],\n",
    "    ]\n",
    ")\n",
    "b = np.array([1.0, 2.0, 3.0])\n",
    "print(a.shape, b.shape)\n",
    "a + b"
   ]
  },
  {
   "cell_type": "markdown",
   "metadata": {},
   "source": [
    "![numpy](https://numpy.org/doc/stable/_images/broadcasting_2.png)"
   ]
  },
  {
   "cell_type": "code",
   "execution_count": null,
   "metadata": {},
   "outputs": [],
   "source": [
    "# broadcasting in vector addition with one of the arrays having a single dimension\n",
    "a = np.array(\n",
    "    [\n",
    "        [0.0, 0.0, 0.0],\n",
    "        [10.0, 10.0, 10.0],\n",
    "        [20.0, 20.0, 20.0],\n",
    "        [30.0, 30.0, 30.0],\n",
    "    ]\n",
    ")\n",
    "b = np.array([1.0])\n",
    "\n",
    "a + b"
   ]
  },
  {
   "cell_type": "code",
   "execution_count": 38,
   "metadata": {},
   "outputs": [],
   "source": [
    "# broadcasting doesn't work in vector addition with shape mismatch\n",
    "a = np.array(\n",
    "    [\n",
    "        [0.0, 0.0, 0.0],\n",
    "        [10.0, 10.0, 10.0],\n",
    "        [20.0, 20.0, 20.0],\n",
    "        [30.0, 30.0, 30.0],\n",
    "    ]\n",
    ")\n",
    "b = np.array([1.0, 2.0, 3.0, 4.0])\n",
    "\n",
    "# a + b"
   ]
  },
  {
   "cell_type": "markdown",
   "metadata": {},
   "source": [
    "![numpy](https://numpy.org/doc/stable/_images/broadcasting_3.png)"
   ]
  },
  {
   "cell_type": "code",
   "execution_count": null,
   "metadata": {},
   "outputs": [],
   "source": [
    "# broadcasting in higher dimensions\n",
    "\n",
    "array_3d = np.array(\n",
    "    [\n",
    "        [[1, 2, 3, 4], [5, 6, 7, 8], [9, 10, 11, 12]],\n",
    "        [[13, 14, 15, 16], [17, 18, 19, 20], [21, 22, 23, 24]],\n",
    "    ]\n",
    ")\n",
    "\n",
    "print(\"3D Array shape:\", array_3d.shape)\n",
    "\n",
    "array_2d = np.array([[1, 2, 3, 4], [5, 6, 7, 8], [9, 10, 11, 12]])\n",
    "\n",
    "print(\"2D Array shape:\", array_2d.shape)\n",
    "\n",
    "result = array_3d * array_2d\n",
    "\n",
    "print(\"3D Array:\\n\", array_3d)\n",
    "print(\"\\n2D Array:\\n\", array_2d)\n",
    "print(\"\\nResult:\\n\", result)\n"
   ]
  },
  {
   "cell_type": "code",
   "execution_count": null,
   "metadata": {},
   "outputs": [],
   "source": [
    "# In some cases, broadcasting stretches both arrays to form\n",
    "# an output array larger than either of the initial arrays.\n",
    "a = np.array([0.0, 10.0, 20.0, 30.0])\n",
    "b = np.array([1.0, 2.0, 3.0])\n",
    "a[:, np.newaxis] + b"
   ]
  },
  {
   "cell_type": "markdown",
   "metadata": {},
   "source": [
    "![numpy](https://numpy.org/doc/stable/_images/broadcasting_4.png)"
   ]
  },
  {
   "cell_type": "markdown",
   "metadata": {},
   "source": [
    "##### Worked Example: Broadcasting\n",
    "\n",
    "Let’s construct an array of distances (in miles) between cities of Route 66: Chicago, Springfield, Saint-Louis, Tulsa, Oklahoma City, Amarillo, Santa Fe, Albuquerque, Flagstaff and Los Angeles.\n",
    "\n",
    "![](https://lectures.scientific-python.org/_images/route66.png)"
   ]
  },
  {
   "cell_type": "code",
   "execution_count": null,
   "metadata": {},
   "outputs": [],
   "source": [
    "# mileposts along the road shows the distance between the mileposts\n",
    "mileposts = np.array([0, 198, 303, 736, 871, 1175, 1475, 1544, 1913, 2448])\n",
    "distance_array = np.abs(mileposts - mileposts[:, np.newaxis])\n",
    "distance_array"
   ]
  },
  {
   "cell_type": "code",
   "execution_count": null,
   "metadata": {},
   "outputs": [],
   "source": [
    "import sympy as sp\n",
    "\n",
    "cities = [\n",
    "    \"Chicago\",\n",
    "    \"Springfield\",\n",
    "    \"Saint-Louis\",\n",
    "    \"Tulsa\",\n",
    "    \"Oklahoma City\",\n",
    "    \"Amarillo\",\n",
    "    \"Santa Fe\",\n",
    "    \"Albuquerque\",\n",
    "    \"Flagstaff\",\n",
    "    \"Los Angeles\",\n",
    "]\n",
    "\n",
    "table = distance_array.tolist()\n",
    "\n",
    "sp.TableForm(table, alignments=\">\", headings=(cities, cities))\n"
   ]
  },
  {
   "cell_type": "markdown",
   "metadata": {},
   "source": [
    "##### Example: Distance beween points\n",
    "If we want to compute the distance from the origin of points on a 5x5 grid, we can do"
   ]
  },
  {
   "cell_type": "code",
   "execution_count": null,
   "metadata": {},
   "outputs": [],
   "source": [
    "x, y = np.arange(5), np.arange(5)[:, np.newaxis]\n",
    "distance = np.sqrt(x**2 + y**2)\n",
    "distance"
   ]
  },
  {
   "cell_type": "code",
   "execution_count": null,
   "metadata": {},
   "outputs": [],
   "source": [
    "# assignment to a slice of an array uses broadcasting\n",
    "a = np.ones((4, 5))\n",
    "a[0] = 2\n",
    "a"
   ]
  },
  {
   "cell_type": "code",
   "execution_count": null,
   "metadata": {},
   "outputs": [],
   "source": [
    "# warning!\n",
    "# array multiplication is not matrix multiplication\n",
    "a = np.array([[1, 2], [3, 4]])\n",
    "b = np.array([[1, 2], [3, 4]])\n",
    "\n",
    "a * b"
   ]
  },
  {
   "cell_type": "code",
   "execution_count": null,
   "metadata": {},
   "outputs": [],
   "source": [
    "# matrix multiplication\n",
    "a = np.array([[1, 2], [3, 4]])\n",
    "b = np.array([[1, 2], [3, 4]])\n",
    "\n",
    "a @ b\n",
    "# np.matmul(a, b)"
   ]
  },
  {
   "cell_type": "code",
   "execution_count": null,
   "metadata": {},
   "outputs": [],
   "source": [
    "# element-wise comparison\n",
    "a = np.array([1, 2, 3, 4])\n",
    "b = np.array([4, 2, 2, 4])\n",
    "# a == b\n",
    "a > b"
   ]
  },
  {
   "cell_type": "code",
   "execution_count": null,
   "metadata": {},
   "outputs": [],
   "source": [
    "# array-wise comparison\n",
    "a = np.array([1, 2, 3, 4])\n",
    "b = np.array([4, 2, 2, 4])\n",
    "c = np.array([1, 2, 3, 4])\n",
    "np.array_equal(a, b)\n",
    "# np.array_equal(a, c)"
   ]
  },
  {
   "cell_type": "code",
   "execution_count": null,
   "metadata": {},
   "outputs": [],
   "source": [
    "# using any and all\n",
    "a = np.zeros((100, 100))\n",
    "np.any(a != 0)\n",
    "# np.all(a == a)"
   ]
  },
  {
   "cell_type": "code",
   "execution_count": null,
   "metadata": {},
   "outputs": [],
   "source": [
    "# transcendental functions\n",
    "x = np.arange(5)\n",
    "y = np.sin(x)\n",
    "# y = np.exp(x)\n",
    "# y = np.log(np.exp(x))\n",
    "y"
   ]
  },
  {
   "cell_type": "code",
   "execution_count": null,
   "metadata": {},
   "outputs": [],
   "source": [
    "# computing sums\n",
    "x = np.array([1, 2, 3, 4])\n",
    "\n",
    "np.sum(x)\n",
    "# x.sum()"
   ]
  },
  {
   "cell_type": "code",
   "execution_count": null,
   "metadata": {},
   "outputs": [],
   "source": [
    "x = np.array([[1, 1], [2, 2]])\n",
    "x.sum()"
   ]
  },
  {
   "cell_type": "code",
   "execution_count": null,
   "metadata": {},
   "outputs": [],
   "source": [
    "x.shape"
   ]
  },
  {
   "cell_type": "code",
   "execution_count": null,
   "metadata": {},
   "outputs": [],
   "source": [
    "# x.sum(axis=0)\n",
    "x.sum(axis=1)"
   ]
  },
  {
   "cell_type": "markdown",
   "metadata": {},
   "source": [
    "![](https://lectures.scientific-python.org/_images/reductions.png)"
   ]
  },
  {
   "cell_type": "code",
   "execution_count": null,
   "metadata": {},
   "outputs": [],
   "source": [
    "# computing minima and maxima\n",
    "x = np.array([1, 3, 2])\n",
    "# x.min()\n",
    "x.max()"
   ]
  },
  {
   "cell_type": "code",
   "execution_count": null,
   "metadata": {},
   "outputs": [],
   "source": [
    "# index of minimum and maximum\n",
    "# x.argmin()\n",
    "x.argmax()"
   ]
  },
  {
   "cell_type": "code",
   "execution_count": null,
   "metadata": {},
   "outputs": [],
   "source": [
    "# computing minimum and maximum along a given axis\n",
    "x = np.array([[1, 2, 3], [4, 5, 6]])\n",
    "# x.min(axis=0)\n",
    "x.max(axis=1)"
   ]
  },
  {
   "cell_type": "code",
   "execution_count": null,
   "metadata": {},
   "outputs": [],
   "source": [
    "a = np.array([[1, 2, 3], [4, 5, 6]])\n",
    "# a.ravel()\n",
    "a.flatten()"
   ]
  },
  {
   "cell_type": "code",
   "execution_count": null,
   "metadata": {},
   "outputs": [],
   "source": [
    "# a.T.flatten()\n",
    "a.T.ravel()"
   ]
  },
  {
   "cell_type": "code",
   "execution_count": null,
   "metadata": {},
   "outputs": [],
   "source": [
    "a = np.array([[4, 3, 5], [1, 2, 1]])\n",
    "b = np.sort(a, axis=0)\n",
    "b"
   ]
  },
  {
   "cell_type": "code",
   "execution_count": null,
   "metadata": {},
   "outputs": [],
   "source": [
    "a.sort(axis=1)\n",
    "a"
   ]
  },
  {
   "cell_type": "code",
   "execution_count": null,
   "metadata": {},
   "outputs": [],
   "source": [
    "# the polynomial 3x^2 + 2x - 1 is represented by the coefficients [3, 2, -1]\n",
    "p = np.poly1d([3, 2, -1])\n",
    "p(2)\n",
    "# np.polyval([3, 2, -1], 2)\n",
    "# p.roots\n",
    "# p.order"
   ]
  },
  {
   "cell_type": "code",
   "execution_count": null,
   "metadata": {},
   "outputs": [],
   "source": [
    "# graphing a polynomial using matplotlib\n",
    "import matplotlib.pyplot as plt\n",
    "\n",
    "p = np.poly1d([3, 2, -1])\n",
    "x = np.linspace(-2, 2, 100)\n",
    "y = p(x)\n",
    "\n",
    "fig = plt.figure()\n",
    "plt.plot(x, y, label=r\"$3x^2 + 2x - 1$\")\n",
    "plt.xlabel(\"x\")\n",
    "plt.ylabel(\"y\")\n",
    "plt.legend(loc=\"best\")\n",
    "plt.title(r\"Graph of $3x^2 + 2x - 1$\")\n",
    "plt.show()\n",
    "plt.close(fig)"
   ]
  },
  {
   "cell_type": "code",
   "execution_count": null,
   "metadata": {},
   "outputs": [],
   "source": [
    "# graphing scatter plots using matplotlib\n",
    "x = np.random.randn(100)\n",
    "y = np.random.randn(100)\n",
    "\n",
    "fig = plt.figure()\n",
    "plt.scatter(x, y, color=\"r\", marker=\"o\", s=60)\n",
    "plt.xlabel(\"x\")\n",
    "plt.ylabel(\"y\")\n",
    "plt.title(\"Scatter Plot\")\n",
    "plt.show()\n",
    "plt.close(fig)"
   ]
  },
  {
   "cell_type": "code",
   "execution_count": null,
   "metadata": {},
   "outputs": [],
   "source": [
    "a = np.diag(range(15))\n",
    "\n",
    "fig = plt.figure()\n",
    "plt.matshow(a)\n",
    "# plt.imshow(a, cmap=\"hot\")\n",
    "# plt.colorbar()\n",
    "plt.show()\n",
    "plt.close(fig)"
   ]
  },
  {
   "cell_type": "code",
   "execution_count": null,
   "metadata": {},
   "outputs": [],
   "source": [
    "import pyodide\n",
    "import io\n",
    "from PIL import Image\n",
    "\n",
    "url = \"https://upload.wikimedia.org/wikipedia/commons/4/46/Plac_Wilsona_Warsaw_2022_aerial.jpg\"\n",
    "fetch = await pyodide.http.pyfetch(url)\n",
    "data = await fetch.bytes()\n",
    "\n",
    "img_file = io.BytesIO(data)\n",
    "img = Image.open(img_file)\n",
    "image_array = np.array(img)\n",
    "print(image_array.shape)\n"
   ]
  },
  {
   "cell_type": "markdown",
   "metadata": {},
   "source": [
    "### Symbolic Computation with SymPy\n",
    "\n",
    "SymPy is a Python library for symbolic mathematics. It aims to become a full-featured computer algebra system (CAS) while keeping the code as simple as possible in order to be comprehensible and easily extensible. SymPy is written entirely in Python."
   ]
  },
  {
   "cell_type": "code",
   "execution_count": null,
   "metadata": {},
   "outputs": [],
   "source": [
    "import sympy as sp\n",
    "from sympy.abc import x, y, z\n",
    "\n",
    "\n",
    "# x, y, z = sp.symbols(\"x y z\")\n",
    "\n",
    "expr = sp.cos(x) + 1\n",
    "expr.subs(x, y)\n",
    "# expr.subs(x, 0)"
   ]
  },
  {
   "cell_type": "code",
   "execution_count": null,
   "metadata": {},
   "outputs": [],
   "source": [
    "# multiple substitutions\n",
    "expr = x**3 + 4 * x * y - z\n",
    "expr.subs([(x, 2), (y, 4), (z, 0)])"
   ]
  },
  {
   "cell_type": "code",
   "execution_count": null,
   "metadata": {},
   "outputs": [],
   "source": [
    "expr = x**4 - 4 * x**3 + 4 * x**2 - 2 * x + 3\n",
    "replacements = [(x**i, y**i) for i in range(5) if i % 2 == 0]\n",
    "expr.subs(replacements)"
   ]
  },
  {
   "cell_type": "code",
   "execution_count": null,
   "metadata": {},
   "outputs": [],
   "source": [
    "# converting strings to sympy expressions\n",
    "str_expr = \"x**2 + 3*x - 1/2\"\n",
    "expr = sp.sympify(str_expr)\n",
    "\n",
    "expr"
   ]
  },
  {
   "cell_type": "code",
   "execution_count": null,
   "metadata": {},
   "outputs": [],
   "source": [
    "# evaluating expressions\n",
    "expr = sp.sqrt(8)\n",
    "# expr = sp.pi\n",
    "expr\n",
    "# expr.evalf()"
   ]
  },
  {
   "cell_type": "code",
   "execution_count": null,
   "metadata": {},
   "outputs": [],
   "source": [
    "# evaluating expressions with precision\n",
    "one = sp.cos(1) ** 2 + sp.sin(1) ** 2\n",
    "# (one - 1).evalf()\n",
    "(one - 1).evalf(chop=True)"
   ]
  },
  {
   "cell_type": "code",
   "execution_count": null,
   "metadata": {},
   "outputs": [],
   "source": [
    "# using lambdify to convert sympy expressions to numerical functions\n",
    "a = np.arange(10)\n",
    "expr = sp.sin(x)\n",
    "# expr.subs(x, a)\n",
    "f = sp.lambdify(x, expr, \"numpy\")\n",
    "f(a)\n"
   ]
  },
  {
   "cell_type": "code",
   "execution_count": null,
   "metadata": {},
   "outputs": [],
   "source": [
    "# simplifying expressions\n",
    "expr = sp.sin(x) ** 2 + sp.cos(x) ** 2\n",
    "# sp.simplify(expr)\n",
    "# expr.simplify()\n",
    "expr"
   ]
  },
  {
   "cell_type": "code",
   "execution_count": null,
   "metadata": {},
   "outputs": [],
   "source": [
    "sp.simplify((x**3 + x**2 - x - 1) / (x**2 + 2 * x + 1))"
   ]
  },
  {
   "cell_type": "code",
   "execution_count": null,
   "metadata": {},
   "outputs": [],
   "source": [
    "sp.simplify(sp.gamma(x) / sp.gamma(x - 2))"
   ]
  },
  {
   "cell_type": "code",
   "execution_count": null,
   "metadata": {},
   "outputs": [],
   "source": [
    "# polynomial simplification is factoring\n",
    "sp.simplify(x**2 + 2 * x + 1)\n",
    "# sp.factor(x**2 + 2 * x + 1)\n",
    "# sp.factor(x**2 * z + 4 * x * y * z + 4 * y**2 * z)\n",
    "sp.factor_list(x**2 * z + 4 * x * y * z + 4 * y**2 * z)"
   ]
  },
  {
   "cell_type": "code",
   "execution_count": null,
   "metadata": {},
   "outputs": [],
   "source": [
    "# expanding expressions\n",
    "# sp.expand((x + 2) * (x - 3))\n",
    "sp.expand((x + 1) * (x - 2) - (x - 1) * x)"
   ]
  },
  {
   "cell_type": "code",
   "execution_count": null,
   "metadata": {},
   "outputs": [],
   "source": [
    "# expanding will also work with trigonometric functions\n",
    "sp.expand((sp.cos(x) + sp.sin(x)) ** 2)\n",
    "sp.factor(sp.cos(x) ** 2 + 2 * sp.cos(x) * sp.sin(x) + sp.sin(x) ** 2)"
   ]
  },
  {
   "cell_type": "code",
   "execution_count": null,
   "metadata": {},
   "outputs": [],
   "source": [
    "sp.trigsimp(sp.sin(x) ** 4 - 2 * sp.cos(x) ** 2 * sp.sin(x) ** 2 + sp.cos(x) ** 4)"
   ]
  },
  {
   "cell_type": "code",
   "execution_count": null,
   "metadata": {},
   "outputs": [],
   "source": [
    "sp.expand_trig(sp.tan(2 * x))"
   ]
  },
  {
   "cell_type": "code",
   "execution_count": null,
   "metadata": {},
   "outputs": [],
   "source": [
    "x, y = sp.symbols(\"x y\", positive=True)\n",
    "a, b = sp.symbols(\"a b\", real=True)\n",
    "\n",
    "# simplifying expressions with assumptions\n",
    "# sp.sqrt(x**2)\n",
    "# sp.powsimp(x**a * x**b)\n",
    "sp.powsimp(x**a * y**a)"
   ]
  },
  {
   "cell_type": "code",
   "execution_count": null,
   "metadata": {},
   "outputs": [],
   "source": [
    "x, y = sp.symbols(\"x y\", positive=True)\n",
    "n = sp.symbols(\"n\", real=True)\n",
    "\n",
    "sp.expand_log(sp.ln(x * y))\n",
    "# sp.expand_log(sp.log(x**n))\n",
    "# sp.logcombine(sp.log(x) + sp.log(y))"
   ]
  },
  {
   "cell_type": "code",
   "execution_count": null,
   "metadata": {},
   "outputs": [],
   "source": [
    "x, y, z = sp.symbols(\"x y z\")\n",
    "k, m, n = sp.symbols(\"k m n\")\n",
    "\n",
    "sp.factorial(n)\n",
    "# sp.binomial(n, k)\n",
    "# sp.gamma(z)"
   ]
  },
  {
   "cell_type": "code",
   "execution_count": null,
   "metadata": {},
   "outputs": [],
   "source": [
    "import sympy as sp\n",
    "\n",
    "n = sp.symbols(\"n\", integer=True, positive=True)\n",
    "# sp.tan(x).rewrite(sp.cos)\n",
    "# sp.factorial(x).rewrite(sp.gamma)\n",
    "# sp.gamma(x + 1).rewrite(sp.factorial)\n",
    "# sp.gamma(-n)\n",
    "sp.factorial(-n)"
   ]
  },
  {
   "cell_type": "code",
   "execution_count": null,
   "metadata": {},
   "outputs": [],
   "source": [
    "# derivatives\n",
    "f = sp.Function(\"f\")(x)\n",
    "\n",
    "f.diff(x)\n",
    "# sp.diff(f, x)\n",
    "# f.diff(x, x)\n",
    "# f.diff(x, 2)"
   ]
  },
  {
   "cell_type": "code",
   "execution_count": null,
   "metadata": {},
   "outputs": [],
   "source": [
    "expr = sp.exp(x * y * z)\n",
    "# sp.diff(expr, x, y, y, z, z, z, z)\n",
    "\n",
    "# to create an unevaluated derivative, use sp.Derivative\n",
    "deriv = sp.Derivative(expr, x, y, y, z, 4)\n",
    "# deriv\n",
    "deriv.doit()"
   ]
  },
  {
   "cell_type": "code",
   "execution_count": null,
   "metadata": {},
   "outputs": [],
   "source": [
    "# integrals\n",
    "\n",
    "# indefinite integrals\n",
    "f = sp.Function(\"f\")(x)\n",
    "\n",
    "f.integrate(x)\n",
    "# sp.integrate(f, x)"
   ]
  },
  {
   "cell_type": "code",
   "execution_count": null,
   "metadata": {},
   "outputs": [],
   "source": [
    "# definite integrals\n",
    "f = sp.exp(-x)\n",
    "\n",
    "sp.integrate(f, (x, 0, 1))\n",
    "# sp.integrate(f, (x, 0, sp.oo))"
   ]
  },
  {
   "cell_type": "code",
   "execution_count": null,
   "metadata": {},
   "outputs": [],
   "source": [
    "expr = sp.Integral(sp.log(x) ** 2, x)\n",
    "\n",
    "expr\n",
    "# expr.doit()"
   ]
  },
  {
   "cell_type": "code",
   "execution_count": null,
   "metadata": {},
   "outputs": [],
   "source": [
    "integral = sp.Integral(sp.sqrt(2) * x, (x, 0, 1))\n",
    "\n",
    "# integral\n",
    "# integral.doit()\n",
    "integral.evalf(50)"
   ]
  },
  {
   "cell_type": "code",
   "execution_count": null,
   "metadata": {},
   "outputs": [],
   "source": [
    "# limits\n",
    "sp.limit(sp.sin(x) / x, x, 0)"
   ]
  },
  {
   "cell_type": "code",
   "execution_count": null,
   "metadata": {},
   "outputs": [],
   "source": [
    "expr = x**2 / sp.exp(x)\n",
    "\n",
    "expr.subs(x, sp.oo)\n",
    "# sp.limit(expr, x, sp.oo)"
   ]
  },
  {
   "cell_type": "code",
   "execution_count": null,
   "metadata": {},
   "outputs": [],
   "source": [
    "expr = sp.Limit((sp.cos(x) - 1) / x, x, 0)\n",
    "expr\n",
    "# expr.doit()"
   ]
  },
  {
   "cell_type": "code",
   "execution_count": null,
   "metadata": {},
   "outputs": [],
   "source": [
    "# series expansion\n",
    "expr = sp.exp(sp.sin(x))\n",
    "# sp.series(expr, x, 0, 6)\n",
    "expr.series(x, 0, 6).removeO()"
   ]
  },
  {
   "cell_type": "code",
   "execution_count": null,
   "metadata": {},
   "outputs": [],
   "source": [
    "x + x**3 + x**6 + sp.O(x**4)"
   ]
  },
  {
   "cell_type": "code",
   "execution_count": null,
   "metadata": {},
   "outputs": [],
   "source": [
    "sp.exp(x - 6).series(x, x0=6)"
   ]
  }
 ],
 "metadata": {
  "kernelspec": {
   "display_name": "pytorch",
   "language": "python",
   "name": "python3"
  },
  "language_info": {
   "codemirror_mode": {
    "name": "ipython",
    "version": 3
   },
   "file_extension": ".py",
   "mimetype": "text/x-python",
   "name": "python",
   "nbconvert_exporter": "python",
   "pygments_lexer": "ipython3",
   "version": "3.11.9"
  }
 },
 "nbformat": 4,
 "nbformat_minor": 2
}

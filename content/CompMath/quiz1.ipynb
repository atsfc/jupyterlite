{
  "metadata": {
    "kernelspec": {
      "name": "python",
      "display_name": "Python (Pyodide)",
      "language": "python"
    },
    "language_info": {
      "codemirror_mode": {
        "name": "python",
        "version": 3
      },
      "file_extension": ".py",
      "mimetype": "text/x-python",
      "name": "python",
      "nbconvert_exporter": "python",
      "pygments_lexer": "ipython3",
      "version": "3.8"
    }
  },
  "nbformat_minor": 4,
  "nbformat": 4,
  "cells": [
    {
      "cell_type": "markdown",
      "source": "An arrow shot straight up from ground level with an initial velocity of $128$ feet per second will be at height $h(t)=–16t^2+128t$ feet at $t$ seconds.  \n\n![](https://math.libretexts.org/@api/deki/files/66976/clipboard_e24bcc0ba7ae69769664c5495902291bc.png)  \n\n1. What is the velocity $v(t)$ of the arrow at any time?\n2. At what time $t$ will the velocity of the arrow be $0$?\n3. What is the greatest height the arrow reaches?\n4. How long will the arrow be aloft?\n5. What is the acceleration $a(t)$ of the arrow at any time?",
      "metadata": {}
    },
    {
      "cell_type": "code",
      "source": "import sympy as sp\nfrom IPython.display import display\n\n# Define the variable\nt = sp.symbols('t')\nv = sp.symbols('v', cls=sp.Function)\na = sp.symbols('a', cls=sp.Function)\n\n# Define the height function\nh = -16*t**2 + 128*t\n\n# 1.\ndh = sp.diff(h, t)\nprint(\"1. Velocity function is:\")\ndisplay(sp.Eq(v(t),dh))\n\n# 2.\ntime_velocity_zero = sp.solve(dh, t)[0]\nprint(\"2. Time when velocity is 0:\")\ndisplay(time_velocity_zero)\n\n# 3\ngreatest_height = h.subs(t, time_velocity_zero)\nprint(\"3. Greatest height Time at which greatest height occurs\")\ndisplay(greatest_height)\n\n# 4.\ntime_alight = sp.solve(h, t)\nprint(\"4. Time aloft:\")\ndisplay(time_alight[1]-time_alight[0])\n\n# 5.\ndhh = sp.diff(dh, t)\nprint(\"5. Acceleration function is:\")\ndisplay(sp.Eq(a(t),dhh))\n",
      "metadata": {
        "trusted": true
      },
      "outputs": [
        {
          "name": "stdout",
          "text": "1. Velocity function is:\n",
          "output_type": "stream"
        },
        {
          "output_type": "display_data",
          "data": {
            "text/plain": "Eq(v(t), 128 - 32*t)",
            "text/latex": "$\\displaystyle v{\\left(t \\right)} = 128 - 32 t$"
          },
          "metadata": {}
        },
        {
          "name": "stdout",
          "text": "2. Time when velocity is 0:\n",
          "output_type": "stream"
        },
        {
          "output_type": "display_data",
          "data": {
            "text/plain": "4",
            "text/latex": "$\\displaystyle 4$"
          },
          "metadata": {}
        },
        {
          "name": "stdout",
          "text": "3. Greatest height Time at which greatest height occurs\n",
          "output_type": "stream"
        },
        {
          "output_type": "display_data",
          "data": {
            "text/plain": "256",
            "text/latex": "$\\displaystyle 256$"
          },
          "metadata": {}
        },
        {
          "name": "stdout",
          "text": "4. Time aloft:\n",
          "output_type": "stream"
        },
        {
          "output_type": "display_data",
          "data": {
            "text/plain": "8",
            "text/latex": "$\\displaystyle 8$"
          },
          "metadata": {}
        },
        {
          "name": "stdout",
          "text": "5. Acceleration function is:\n",
          "output_type": "stream"
        },
        {
          "output_type": "display_data",
          "data": {
            "text/plain": "Eq(a(t), -32)",
            "text/latex": "$\\displaystyle a{\\left(t \\right)} = -32$"
          },
          "metadata": {}
        }
      ],
      "execution_count": 7
    },
    {
      "cell_type": "code",
      "source": "",
      "metadata": {
        "trusted": true
      },
      "outputs": [],
      "execution_count": null
    }
  ]
}
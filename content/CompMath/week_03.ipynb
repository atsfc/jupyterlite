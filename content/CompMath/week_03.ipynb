{
 "cells": [
  {
   "cell_type": "markdown",
   "metadata": {},
   "source": [
    "## Piecewise Function"
   ]
  },
  {
   "cell_type": "code",
   "execution_count": null,
   "metadata": {},
   "outputs": [],
   "source": [
    "import sympy as sp\n",
    "\n",
    "x = sp.symbols(\"x\")\n",
    "p = sp.Piecewise((0, x < -1), (x**2, x <= 1), (sp.log(x), True))\n",
    "p"
   ]
  },
  {
   "cell_type": "code",
   "execution_count": null,
   "metadata": {},
   "outputs": [],
   "source": [
    "p = sp.Piecewise((0, x < 0), (1, x < 1), (2, True))\n",
    "p\n",
    "# sp.piecewise_exclusive(p)"
   ]
  },
  {
   "cell_type": "code",
   "execution_count": null,
   "metadata": {},
   "outputs": [],
   "source": [
    "p.integrate(x)  # continuous antiderivative\n"
   ]
  },
  {
   "cell_type": "code",
   "execution_count": null,
   "metadata": {},
   "outputs": [],
   "source": [
    "p.piecewise_integrate(x)  # piecewise antiderivative"
   ]
  },
  {
   "cell_type": "markdown",
   "metadata": {},
   "source": [
    "## Limit"
   ]
  },
  {
   "cell_type": "code",
   "execution_count": null,
   "metadata": {},
   "outputs": [],
   "source": [
    "x = sp.symbols(\"x\")\n",
    "\n",
    "sp.limit(sp.sin(x) / x, x, 0)"
   ]
  },
  {
   "cell_type": "code",
   "execution_count": null,
   "metadata": {},
   "outputs": [],
   "source": [
    "sp.limit(1 / x, x, 0)  # the default direction is right and can be specified with '+'\n",
    "sp.limit(1 / x, x, 0, dir=\"+\")"
   ]
  },
  {
   "cell_type": "code",
   "execution_count": null,
   "metadata": {},
   "outputs": [],
   "source": [
    "# sp.limit(1 / x, x, 0, dir=\"-\")\n",
    "sp.limit(1 / x, x, 0, dir=\"+-\")"
   ]
  },
  {
   "cell_type": "code",
   "execution_count": null,
   "metadata": {},
   "outputs": [],
   "source": [
    "print(sp.zoo.__doc__)"
   ]
  },
  {
   "cell_type": "code",
   "execution_count": null,
   "metadata": {},
   "outputs": [],
   "source": [
    "sp.Limit(sp.sin(x) / x, x, 0)"
   ]
  },
  {
   "cell_type": "code",
   "execution_count": null,
   "metadata": {},
   "outputs": [],
   "source": [
    "k, n = sp.symbols(\"k n\", integer=True)\n",
    "A = sp.Sum(sp.Integer(-1) ** (k + 1) / k, (k, 1, n))\n",
    "A\n",
    "# A.doit()"
   ]
  },
  {
   "cell_type": "code",
   "execution_count": null,
   "metadata": {},
   "outputs": [],
   "source": [
    "i, n, m = sp.symbols(\"i n m\", integer=True)\n",
    "\n",
    "sp.Sum(2 * i - 1, (i, 1, n))\n",
    "# sp.Sum(2 * i - 1, (i, 1, n)).doit()"
   ]
  },
  {
   "cell_type": "code",
   "execution_count": null,
   "metadata": {},
   "outputs": [],
   "source": [
    "i, n, m = sp.symbols(\"i n m\", integer=True)\n",
    "\n",
    "sp.summation(2 * i - 1, (i, 1, n))"
   ]
  },
  {
   "cell_type": "code",
   "execution_count": null,
   "metadata": {},
   "outputs": [],
   "source": [
    "sp.Sum(x**n / sp.factorial(n), (n, 0, sp.oo))\n",
    "# sp.summation(x**n / sp.factorial(n), (n, 0, sp.oo))"
   ]
  },
  {
   "cell_type": "code",
   "execution_count": null,
   "metadata": {},
   "outputs": [],
   "source": [
    "sp.summation(i, (i, 0, n), (n, 0, m))\n",
    "# sp.Sum(i, (i, 0, n), (n, 0, m))"
   ]
  },
  {
   "cell_type": "code",
   "execution_count": null,
   "metadata": {},
   "outputs": [],
   "source": [
    "k, n = sp.symbols(\"k n\", integer=True, positive=True)\n",
    "y = sp.symbols(\"y\")\n",
    "\n",
    "sum_result = sp.summation(sp.binomial(n, k) * x**k * y ** (n - k), (k, 0, n))\n",
    "sum_result\n",
    "\n",
    "# domain = sp.Abs(x) / sp.Abs(y) <=1\n",
    "\n",
    "# sum_result.refine(domain).simplify()"
   ]
  },
  {
   "cell_type": "code",
   "execution_count": null,
   "metadata": {},
   "outputs": [],
   "source": [
    "sp.product(i, (i, 1, k))\n",
    "# sp.Product(i, (i, 1, k))"
   ]
  },
  {
   "cell_type": "code",
   "execution_count": null,
   "metadata": {},
   "outputs": [],
   "source": [
    "sp.product(i, (i, 1, k), (k, 1, n))"
   ]
  },
  {
   "cell_type": "markdown",
   "metadata": {},
   "source": [
    "## Sequences"
   ]
  },
  {
   "cell_type": "code",
   "execution_count": null,
   "metadata": {},
   "outputs": [],
   "source": [
    "n = sp.Symbol(\"n\")\n",
    "\n",
    "s = sp.SeqFormula(n**2)\n",
    "# s = sp.SeqFormula(n**2, (n, 0, 15))\n",
    "\n",
    "s\n",
    "# s[:]\n",
    "# s.formula\n",
    "# s.coeff(3)"
   ]
  },
  {
   "cell_type": "code",
   "execution_count": null,
   "metadata": {},
   "outputs": [],
   "source": [
    "from sympy.series.sequences import RecursiveSeq\n",
    "\n",
    "y = sp.Function(\"y\")\n",
    "n = sp.symbols(\"n\")\n",
    "fib = RecursiveSeq(y(n - 1) + y(n - 2), y(n), n, initial=[0, 1])\n",
    "fib\n",
    "# fib.recurrence\n",
    "# fib.degree"
   ]
  },
  {
   "cell_type": "code",
   "execution_count": null,
   "metadata": {},
   "outputs": [],
   "source": [
    "for idx, val in zip(range(10), fib):\n",
    "    print(idx, val)"
   ]
  },
  {
   "cell_type": "markdown",
   "metadata": {},
   "source": [
    "## Series"
   ]
  },
  {
   "cell_type": "code",
   "execution_count": null,
   "metadata": {},
   "outputs": [],
   "source": [
    "f = sp.tan(x)\n",
    "sp.series(f, x, 2, 6)\n",
    "# sp.series(f, x, 2, 6, dir=\"+\")\n"
   ]
  },
  {
   "cell_type": "code",
   "execution_count": null,
   "metadata": {},
   "outputs": [],
   "source": [
    "sp.series(f, x, 2, 6, dir=\"-\")"
   ]
  },
  {
   "cell_type": "code",
   "execution_count": null,
   "metadata": {},
   "outputs": [],
   "source": [
    "# formal power series\n",
    "sp.fps(sp.tanh(x)).series(n=10)"
   ]
  },
  {
   "cell_type": "code",
   "execution_count": null,
   "metadata": {},
   "outputs": [],
   "source": [
    "sp.fps(sp.ln(1 + x)).series()\n",
    "# sp.fps(sp.ln(1 + x)).series().truncate(10)"
   ]
  },
  {
   "cell_type": "code",
   "execution_count": null,
   "metadata": {},
   "outputs": [],
   "source": [
    "n = sp.symbols(\"n\", integer=True, positive=True)\n",
    "# sp.fps(x**n * sp.sin(x**2), x)\n",
    "sp.fps(x**n * sp.sin(x**2), x).series(x)"
   ]
  },
  {
   "cell_type": "code",
   "execution_count": null,
   "metadata": {},
   "outputs": [],
   "source": [
    "sp.fps(sp.ln(1 + x)).series().truncate(10).integrate()"
   ]
  }
 ],
 "metadata": {
  "kernelspec": {
   "display_name": ".venv",
   "language": "python",
   "name": "python3"
  },
  "language_info": {
   "codemirror_mode": {
    "name": "ipython",
    "version": 3
   },
   "file_extension": ".py",
   "mimetype": "text/x-python",
   "name": "python",
   "nbconvert_exporter": "python",
   "pygments_lexer": "ipython3",
   "version": "3.12.7"
  }
 },
 "nbformat": 4,
 "nbformat_minor": 2
}

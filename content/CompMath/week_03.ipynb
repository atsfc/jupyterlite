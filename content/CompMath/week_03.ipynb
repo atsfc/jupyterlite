{
 "cells": [
  {
   "cell_type": "markdown",
   "metadata": {},
   "source": [
    "## Piecewise Function"
   ]
  },
  {
   "cell_type": "code",
   "execution_count": 7,
   "metadata": {},
   "outputs": [
    {
     "data": {
      "text/latex": [
       "$\\displaystyle \\begin{cases} 0 & \\text{for}\\: x < -1 \\\\x^{2} & \\text{for}\\: x \\leq 1 \\\\\\log{\\left(x \\right)} & \\text{otherwise} \\end{cases}$"
      ],
      "text/plain": [
       "Piecewise((0, x < -1), (x**2, x <= 1), (log(x), True))"
      ]
     },
     "execution_count": 7,
     "metadata": {},
     "output_type": "execute_result"
    }
   ],
   "source": [
    "import sympy as sp\n",
    "\n",
    "x = sp.symbols(\"x\")\n",
    "p = sp.Piecewise((0, x < -1), (x**2, x <= 1), (sp.log(x), True))\n",
    "p"
   ]
  },
  {
   "cell_type": "code",
   "execution_count": 19,
   "metadata": {},
   "outputs": [
    {
     "data": {
      "text/latex": [
       "$\\displaystyle \\begin{cases} 0 & \\text{for}\\: x < 0 \\\\1 & \\text{for}\\: x < 1 \\\\2 & \\text{otherwise} \\end{cases}$"
      ],
      "text/plain": [
       "Piecewise((0, x < 0), (1, x < 1), (2, True))"
      ]
     },
     "execution_count": 19,
     "metadata": {},
     "output_type": "execute_result"
    }
   ],
   "source": [
    "p = sp.Piecewise((0, x < 0), (1, x < 1), (2, True))\n",
    "p\n",
    "# sp.piecewise_exclusive(p)"
   ]
  },
  {
   "cell_type": "code",
   "execution_count": 12,
   "metadata": {},
   "outputs": [
    {
     "data": {
      "text/latex": [
       "$\\displaystyle \\begin{cases} 0 & \\text{for}\\: x < 0 \\\\x & \\text{for}\\: x < 1 \\\\2 x - 1 & \\text{otherwise} \\end{cases}$"
      ],
      "text/plain": [
       "Piecewise((0, x < 0), (x, x < 1), (2*x - 1, True))"
      ]
     },
     "execution_count": 12,
     "metadata": {},
     "output_type": "execute_result"
    }
   ],
   "source": [
    "p.integrate(x)  # continuous antiderivative\n"
   ]
  },
  {
   "cell_type": "code",
   "execution_count": 13,
   "metadata": {},
   "outputs": [
    {
     "data": {
      "text/latex": [
       "$\\displaystyle \\begin{cases} 0 & \\text{for}\\: x < 0 \\\\x & \\text{for}\\: x < 1 \\\\2 x & \\text{otherwise} \\end{cases}$"
      ],
      "text/plain": [
       "Piecewise((0, x < 0), (x, x < 1), (2*x, True))"
      ]
     },
     "execution_count": 13,
     "metadata": {},
     "output_type": "execute_result"
    }
   ],
   "source": [
    "p.piecewise_integrate(x)  # piecewise antiderivative"
   ]
  },
  {
   "cell_type": "markdown",
   "metadata": {},
   "source": [
    "## Limit"
   ]
  },
  {
   "cell_type": "code",
   "execution_count": 1,
   "metadata": {},
   "outputs": [
    {
     "data": {
      "text/latex": [
       "$\\displaystyle 1$"
      ],
      "text/plain": [
       "1"
      ]
     },
     "execution_count": 1,
     "metadata": {},
     "output_type": "execute_result"
    }
   ],
   "source": [
    "import sympy as sp\n",
    "\n",
    "x = sp.symbols(\"x\")\n",
    "\n",
    "sp.limit(sp.sin(x) / x, x, 0)"
   ]
  },
  {
   "cell_type": "code",
   "execution_count": 4,
   "metadata": {},
   "outputs": [
    {
     "data": {
      "text/latex": [
       "$\\displaystyle \\infty$"
      ],
      "text/plain": [
       "oo"
      ]
     },
     "execution_count": 4,
     "metadata": {},
     "output_type": "execute_result"
    }
   ],
   "source": [
    "sp.limit(1 / x, x, 0)  # the default direction is right and can be specified with '+'\n",
    "sp.limit(1 / x, x, 0, dir=\"+\")"
   ]
  },
  {
   "cell_type": "code",
   "execution_count": 6,
   "metadata": {},
   "outputs": [
    {
     "data": {
      "text/latex": [
       "$\\displaystyle \\tilde{\\infty}$"
      ],
      "text/plain": [
       "zoo"
      ]
     },
     "execution_count": 6,
     "metadata": {},
     "output_type": "execute_result"
    }
   ],
   "source": [
    "# sp.limit(1 / x, x, 0, dir=\"-\")\n",
    "sp.limit(1 / x, x, 0, dir=\"+-\")"
   ]
  },
  {
   "cell_type": "code",
   "execution_count": 10,
   "metadata": {},
   "outputs": [
    {
     "name": "stdout",
     "output_type": "stream",
     "text": [
      "Complex infinity.\n",
      "\n",
      "    Explanation\n",
      "    ===========\n",
      "\n",
      "    In complex analysis the symbol `\\tilde\\infty`, called \"complex\n",
      "    infinity\", represents a quantity with infinite magnitude, but\n",
      "    undetermined complex phase.\n",
      "\n",
      "    ComplexInfinity is a singleton, and can be accessed by\n",
      "    ``S.ComplexInfinity``, or can be imported as ``zoo``.\n",
      "\n",
      "    Examples\n",
      "    ========\n",
      "\n",
      "    >>> from sympy import zoo\n",
      "    >>> zoo + 42\n",
      "    zoo\n",
      "    >>> 42/zoo\n",
      "    0\n",
      "    >>> zoo + zoo\n",
      "    nan\n",
      "    >>> zoo*zoo\n",
      "    zoo\n",
      "\n",
      "    See Also\n",
      "    ========\n",
      "\n",
      "    Infinity\n",
      "    \n"
     ]
    }
   ],
   "source": [
    "print(sp.zoo.__doc__)"
   ]
  },
  {
   "cell_type": "code",
   "execution_count": 3,
   "metadata": {},
   "outputs": [
    {
     "data": {
      "text/latex": [
       "$\\displaystyle \\lim_{x \\to 0^+}\\left(\\frac{\\sin{\\left(x \\right)}}{x}\\right)$"
      ],
      "text/plain": [
       "Limit(sin(x)/x, x, 0, dir='+')"
      ]
     },
     "execution_count": 3,
     "metadata": {},
     "output_type": "execute_result"
    }
   ],
   "source": [
    "sp.Limit(sp.sin(x) / x, x, 0)"
   ]
  },
  {
   "cell_type": "code",
   "execution_count": 45,
   "metadata": {},
   "outputs": [
    {
     "data": {
      "text/latex": [
       "$\\displaystyle \\sum_{k=1}^{n} \\frac{\\left(-1\\right)^{k + 1}}{k}$"
      ],
      "text/plain": [
       "Sum((-1)**(k + 1)/k, (k, 1, n))"
      ]
     },
     "execution_count": 45,
     "metadata": {},
     "output_type": "execute_result"
    }
   ],
   "source": [
    "k, n = sp.symbols(\"k n\", integer=True)\n",
    "A = sp.Sum(sp.Integer(-1) ** (k + 1) / k, (k, 1, n))\n",
    "A\n",
    "# A.doit()"
   ]
  },
  {
   "cell_type": "code",
   "execution_count": 48,
   "metadata": {},
   "outputs": [
    {
     "data": {
      "text/latex": [
       "$\\displaystyle \\sum_{i=1}^{n} \\left(2 i - 1\\right)$"
      ],
      "text/plain": [
       "Sum(2*i - 1, (i, 1, n))"
      ]
     },
     "execution_count": 48,
     "metadata": {},
     "output_type": "execute_result"
    }
   ],
   "source": [
    "i, n, m = sp.symbols(\"i n m\", integer=True)\n",
    "\n",
    "sp.Sum(2 * i - 1, (i, 1, n))\n",
    "# sp.Sum(2 * i - 1, (i, 1, n)).doit()"
   ]
  },
  {
   "cell_type": "code",
   "execution_count": 12,
   "metadata": {},
   "outputs": [
    {
     "data": {
      "text/latex": [
       "$\\displaystyle n^{2}$"
      ],
      "text/plain": [
       "n**2"
      ]
     },
     "execution_count": 12,
     "metadata": {},
     "output_type": "execute_result"
    }
   ],
   "source": [
    "i, n, m = sp.symbols(\"i n m\", integer=True)\n",
    "\n",
    "sp.summation(2 * i - 1, (i, 1, n))"
   ]
  },
  {
   "cell_type": "code",
   "execution_count": 49,
   "metadata": {},
   "outputs": [
    {
     "data": {
      "text/latex": [
       "$\\displaystyle \\sum_{n=0}^{\\infty} \\frac{x^{n}}{n!}$"
      ],
      "text/plain": [
       "Sum(x**n/factorial(n), (n, 0, oo))"
      ]
     },
     "execution_count": 49,
     "metadata": {},
     "output_type": "execute_result"
    }
   ],
   "source": [
    "sp.Sum(x**n / sp.factorial(n), (n, 0, sp.oo))\n",
    "# sp.summation(x**n / sp.factorial(n), (n, 0, sp.oo))"
   ]
  },
  {
   "cell_type": "code",
   "execution_count": 22,
   "metadata": {},
   "outputs": [
    {
     "data": {
      "text/latex": [
       "$\\displaystyle \\begin{cases} y^{n} \\left(\\frac{x}{y} + 1\\right)^{n} & \\text{for}\\: \\left|{\\frac{x}{y}}\\right| \\leq 1 \\\\\\sum_{k=0}^{n} x^{k} y^{- k + n} {\\binom{n}{k}} & \\text{otherwise} \\end{cases}$"
      ],
      "text/plain": [
       "Piecewise((y**n*(x/y + 1)**n, Abs(x/y) <= 1), (Sum(x**k*y**(-k + n)*binomial(n, k), (k, 0, n)), True))"
      ]
     },
     "execution_count": 22,
     "metadata": {},
     "output_type": "execute_result"
    }
   ],
   "source": [
    "k, n = sp.symbols(\"k n\", integer=True, positive=True)\n",
    "y = sp.symbols(\"y\")\n",
    "\n",
    "sp.summation(sp.binomial(n, k) * x**k * y ** (n - k), (k, 0, n))\n"
   ]
  },
  {
   "cell_type": "markdown",
   "metadata": {},
   "source": [
    "## Sequences"
   ]
  },
  {
   "cell_type": "code",
   "execution_count": 53,
   "metadata": {},
   "outputs": [
    {
     "data": {
      "text/latex": [
       "$\\displaystyle \\left[0, 1, 4, 9, \\ldots\\right]$"
      ],
      "text/plain": [
       "SeqFormula(n**2, (n, 0, oo))"
      ]
     },
     "execution_count": 53,
     "metadata": {},
     "output_type": "execute_result"
    }
   ],
   "source": [
    "n = sp.Symbol(\"n\")\n",
    "\n",
    "s = sp.SeqFormula(n**2)\n",
    "# s = sp.SeqFormula(n**2, (n, 0, 15))\n",
    "\n",
    "s\n",
    "# s[:]\n",
    "# s.formula\n",
    "# s.coeff(3)"
   ]
  },
  {
   "cell_type": "code",
   "execution_count": 42,
   "metadata": {},
   "outputs": [
    {
     "data": {
      "text/latex": [
       "$\\displaystyle \\operatorname{RecursiveSeq}\\left(y{\\left(n - 2 \\right)} + y{\\left(n - 1 \\right)}, y{\\left(n \\right)}, n, \\left( 0, \\  1\\right), 0\\right)$"
      ],
      "text/plain": [
       "RecursiveSeq(y(n - 2) + y(n - 1), y(n), n, (0, 1), 0)"
      ]
     },
     "execution_count": 42,
     "metadata": {},
     "output_type": "execute_result"
    }
   ],
   "source": [
    "from sympy.series.sequences import RecursiveSeq\n",
    "\n",
    "y = sp.Function(\"y\")\n",
    "n = sp.symbols(\"n\")\n",
    "fib = RecursiveSeq(y(n - 1) + y(n - 2), y(n), n, initial=[0, 1])\n",
    "fib\n",
    "# fib.recurrence\n",
    "# fib.degree"
   ]
  },
  {
   "cell_type": "code",
   "execution_count": 40,
   "metadata": {},
   "outputs": [
    {
     "name": "stdout",
     "output_type": "stream",
     "text": [
      "0 0\n",
      "1 1\n",
      "2 1\n",
      "3 2\n",
      "4 3\n",
      "5 5\n",
      "6 8\n",
      "7 13\n",
      "8 21\n",
      "9 34\n"
     ]
    }
   ],
   "source": [
    "for idx, val in zip(range(10), fib):\n",
    "    print(idx, val)"
   ]
  },
  {
   "cell_type": "markdown",
   "metadata": {},
   "source": [
    "## Series"
   ]
  },
  {
   "cell_type": "code",
   "execution_count": 3,
   "metadata": {},
   "outputs": [
    {
     "data": {
      "text/latex": [
       "$\\displaystyle \\tan{\\left(2 \\right)} + \\left(1 + \\tan^{2}{\\left(2 \\right)}\\right) \\left(x - 2\\right) + \\left(x - 2\\right)^{2} \\left(\\tan^{3}{\\left(2 \\right)} + \\tan{\\left(2 \\right)}\\right) + \\left(x - 2\\right)^{3} \\left(\\frac{1}{3} + \\frac{4 \\tan^{2}{\\left(2 \\right)}}{3} + \\tan^{4}{\\left(2 \\right)}\\right) + \\left(x - 2\\right)^{4} \\left(\\tan^{5}{\\left(2 \\right)} + \\frac{5 \\tan^{3}{\\left(2 \\right)}}{3} + \\frac{2 \\tan{\\left(2 \\right)}}{3}\\right) + \\left(x - 2\\right)^{5} \\left(\\frac{2}{15} + \\frac{17 \\tan^{2}{\\left(2 \\right)}}{15} + 2 \\tan^{4}{\\left(2 \\right)} + \\tan^{6}{\\left(2 \\right)}\\right) + O\\left(\\left(x - 2\\right)^{6}; x\\rightarrow 2\\right)$"
      ],
      "text/plain": [
       "tan(2) + (1 + tan(2)**2)*(x - 2) + (x - 2)**2*(tan(2)**3 + tan(2)) + (x - 2)**3*(1/3 + 4*tan(2)**2/3 + tan(2)**4) + (x - 2)**4*(tan(2)**5 + 5*tan(2)**3/3 + 2*tan(2)/3) + (x - 2)**5*(2/15 + 17*tan(2)**2/15 + 2*tan(2)**4 + tan(2)**6) + O((x - 2)**6, (x, 2))"
      ]
     },
     "execution_count": 3,
     "metadata": {},
     "output_type": "execute_result"
    }
   ],
   "source": [
    "f = sp.tan(x)\n",
    "sp.series(f, x, 2, 6)\n",
    "# sp.series(f, x, 2, 6, dir=\"+\")\n"
   ]
  },
  {
   "cell_type": "code",
   "execution_count": 4,
   "metadata": {},
   "outputs": [
    {
     "data": {
      "text/latex": [
       "$\\displaystyle \\tan{\\left(2 \\right)} + \\left(2 - x\\right) \\left(- \\tan^{2}{\\left(2 \\right)} - 1\\right) + \\left(2 - x\\right)^{2} \\left(\\tan^{3}{\\left(2 \\right)} + \\tan{\\left(2 \\right)}\\right) + \\left(2 - x\\right)^{3} \\left(- \\tan^{4}{\\left(2 \\right)} - \\frac{4 \\tan^{2}{\\left(2 \\right)}}{3} - \\frac{1}{3}\\right) + \\left(2 - x\\right)^{4} \\left(\\tan^{5}{\\left(2 \\right)} + \\frac{5 \\tan^{3}{\\left(2 \\right)}}{3} + \\frac{2 \\tan{\\left(2 \\right)}}{3}\\right) + \\left(2 - x\\right)^{5} \\left(- \\tan^{6}{\\left(2 \\right)} - 2 \\tan^{4}{\\left(2 \\right)} - \\frac{17 \\tan^{2}{\\left(2 \\right)}}{15} - \\frac{2}{15}\\right) + O\\left(\\left(x - 2\\right)^{6}; x\\rightarrow 2\\right)$"
      ],
      "text/plain": [
       "tan(2) + (2 - x)*(-tan(2)**2 - 1) + (2 - x)**2*(tan(2)**3 + tan(2)) + (2 - x)**3*(-tan(2)**4 - 4*tan(2)**2/3 - 1/3) + (2 - x)**4*(tan(2)**5 + 5*tan(2)**3/3 + 2*tan(2)/3) + (2 - x)**5*(-tan(2)**6 - 2*tan(2)**4 - 17*tan(2)**2/15 - 2/15) + O((x - 2)**6, (x, 2))"
      ]
     },
     "execution_count": 4,
     "metadata": {},
     "output_type": "execute_result"
    }
   ],
   "source": [
    "sp.series(f, x, 2, 6, dir=\"-\")"
   ]
  },
  {
   "cell_type": "code",
   "execution_count": 2,
   "metadata": {},
   "outputs": [
    {
     "data": {
      "text/latex": [
       "$\\displaystyle x - \\frac{x^{3}}{3} + \\frac{2 x^{5}}{15} - \\frac{17 x^{7}}{315} + \\frac{62 x^{9}}{2835} + O\\left(x^{10}\\right)$"
      ],
      "text/plain": [
       "x - x**3/3 + 2*x**5/15 - 17*x**7/315 + 62*x**9/2835 + O(x**10)"
      ]
     },
     "execution_count": 2,
     "metadata": {},
     "output_type": "execute_result"
    }
   ],
   "source": [
    "# formal power series\n",
    "sp.fps(sp.tanh(x)).series(n=10)"
   ]
  },
  {
   "cell_type": "code",
   "execution_count": 44,
   "metadata": {},
   "outputs": [
    {
     "data": {
      "text/latex": [
       "$\\displaystyle \\sum_{k=1}^{\\infty} - \\frac{\\left(-1\\right)^{- k} x^{k}}{k}$"
      ],
      "text/plain": [
       "FormalPowerSeries(log(x + 1), x, 0, 1, (SeqFormula(-1/((-1)**_k*_k), (_k, 1, oo)), SeqFormula(x**_k, (_k, 0, oo)), 0))"
      ]
     },
     "execution_count": 44,
     "metadata": {},
     "output_type": "execute_result"
    }
   ],
   "source": [
    "sp.fps(sp.ln(1 + x)).series()\n",
    "# sp.fps(sp.ln(1 + x)).series().truncate(10)"
   ]
  },
  {
   "cell_type": "code",
   "execution_count": 3,
   "metadata": {},
   "outputs": [
    {
     "data": {
      "text/latex": [
       "$\\displaystyle x^{n + 2} + \\left(\\sum_{k=3}^{\\infty} \\begin{cases} \\frac{\\left(- \\frac{1}{4}\\right)^{\\frac{k}{4} - \\frac{1}{2}} x^{k + n}}{{\\left(\\frac{3}{2}\\right)}^{\\left(\\frac{k}{4} - \\frac{1}{2}\\right)} \\left(\\frac{k}{4} - \\frac{1}{2}\\right)!} & \\text{for}\\: k \\bmod 4 = 2 \\\\0 & \\text{otherwise} \\end{cases}\\right)$"
      ],
      "text/plain": [
       "FormalPowerSeries(x**n*sin(x**2), x, 0, 1, (SeqFormula(Piecewise(((-1/4)**(_k/4 - 1/2)/(RisingFactorial(3/2, _k/4 - 1/2)*factorial(_k/4 - 1/2)), Eq(Mod(_k, 4), 2)), (0, True)), (_k, 3, oo)), SeqFormula(x**(_k + n), (_k, 0, oo)), x**(n + 2)))"
      ]
     },
     "execution_count": 3,
     "metadata": {},
     "output_type": "execute_result"
    }
   ],
   "source": [
    "n = sp.symbols(\"n\", integer=True, positive=True)\n",
    "# sp.fps(x**n * sp.sin(x**2), x)\n",
    "sp.fps(x**n * sp.sin(x**2), x).series(x)"
   ]
  },
  {
   "cell_type": "code",
   "execution_count": 8,
   "metadata": {},
   "outputs": [
    {
     "data": {
      "text/latex": [
       "$\\displaystyle \\frac{x^{2}}{2} - \\frac{x^{3}}{6} + \\frac{x^{4}}{12} - \\frac{x^{5}}{20} + \\frac{x^{6}}{30} - \\frac{x^{7}}{42} + \\frac{x^{8}}{56} - \\frac{x^{9}}{72} + \\frac{x^{10}}{90} + O\\left(x^{11}\\right)$"
      ],
      "text/plain": [
       "x**2/2 - x**3/6 + x**4/12 - x**5/20 + x**6/30 - x**7/42 + x**8/56 - x**9/72 + x**10/90 + O(x**11)"
      ]
     },
     "execution_count": 8,
     "metadata": {},
     "output_type": "execute_result"
    }
   ],
   "source": [
    "sp.fps(sp.ln(1 + x)).series().truncate(10).integrate()"
   ]
  }
 ],
 "metadata": {
  "kernelspec": {
   "display_name": "pytorch",
   "language": "python",
   "name": "python3"
  },
  "language_info": {
   "codemirror_mode": {
    "name": "ipython",
    "version": 3
   },
   "file_extension": ".py",
   "mimetype": "text/x-python",
   "name": "python",
   "nbconvert_exporter": "python",
   "pygments_lexer": "ipython3",
   "version": "3.11.9"
  }
 },
 "nbformat": 4,
 "nbformat_minor": 2
}

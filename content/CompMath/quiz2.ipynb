{
 "cells": [
  {
   "cell_type": "markdown",
   "metadata": {},
   "source": [
    "Create a Python class named `FourierSeriesExpansion` that performs the following tasks:\n",
    "\n",
    "* `__init__` method should take a mathematical `sympy` function $f(x)$ and an interval $[a, b]$ as input parameters.\n",
    "\n",
    "* Implement a method called `calculate_fourier_series` that uses `sympy`'s `fourier_series` function to compute the Fourier series expansion of the function on the specified interval. The method should allow the user to specify the number of terms to which the series should be truncated.\n",
    "\n",
    "* Implement another method called `plot_function_and_series` that uses the `matplotlib` library to plot both the original function $f(x)$ and its Fourier series expansion.\n",
    "* Use $f(x) = x^2\\sin(x)$ and $[a, b] = [-1, 1]$ as a test function and interval respectively."
   ]
  },
  {
   "cell_type": "code",
   "execution_count": null,
   "metadata": {},
   "outputs": [],
   "source": [
    "import sympy as sp\n",
    "import numpy as np\n",
    "import matplotlib.pyplot as plt\n",
    "\n",
    "\n",
    "class FourierSeriesExpansion:\n",
    "    def __init__(self, f, a, b):\n",
    "        self.f = f\n",
    "        self.a = a\n",
    "        self.b = b\n",
    "        self.x = sp.symbols(\"x\")\n",
    "\n",
    "    def calculate_fourier_series(self, n_terms):\n",
    "        fourier_series = sp.fourier_series(self.f, (self.x, self.a, self.b)).truncate(\n",
    "            n=n_terms\n",
    "        )\n",
    "        return fourier_series\n",
    "\n",
    "    def plot_function_and_series(self, n_terms):\n",
    "        fourier_series = self.calculate_fourier_series(n_terms)\n",
    "\n",
    "        x_vals = np.linspace(self.a, self.b, 400)\n",
    "        f_lambda = sp.lambdify(self.x, self.f, [\"numpy\", \"sympy\"])\n",
    "        series_lambda = sp.lambdify(self.x, fourier_series, [\"numpy\", \"sympy\"])\n",
    "\n",
    "        fig = plt.figure(figsize=(10, 6))\n",
    "        plt.plot(x_vals, f_lambda(x_vals), label=\"Original Function\", color=\"blue\")\n",
    "        plt.plot(\n",
    "            x_vals,\n",
    "            series_lambda(x_vals),\n",
    "            label=f\"Fourier Series (n={n_terms})\",\n",
    "            color=\"red\",\n",
    "            linestyle=\"--\",\n",
    "        )\n",
    "        plt.title(\"Function and its Fourier Series Expansion\")\n",
    "        plt.xlabel(\"x\")\n",
    "        plt.ylabel(\"f(x)\")\n",
    "        plt.legend()\n",
    "        plt.grid()\n",
    "        plt.show()\n",
    "        plt.close(fig)\n",
    "\n",
    "\n",
    "x = sp.symbols(\"x\")\n",
    "f = x**2 * sp.sin(x)\n",
    "a = -1\n",
    "b = 1\n",
    "\n",
    "fourier_expansion = FourierSeriesExpansion(f, a, b)\n",
    "fourier_expansion.plot_function_and_series(n_terms=22)\n"
   ]
  }
 ],
 "metadata": {
  "kernelspec": {
   "display_name": ".venv",
   "language": "python",
   "name": "python3"
  },
  "language_info": {
   "codemirror_mode": {
    "name": "ipython",
    "version": 3
   },
   "file_extension": ".py",
   "mimetype": "text/x-python",
   "name": "python",
   "nbconvert_exporter": "python",
   "pygments_lexer": "ipython3",
   "version": "3.12.7"
  }
 },
 "nbformat": 4,
 "nbformat_minor": 2
}

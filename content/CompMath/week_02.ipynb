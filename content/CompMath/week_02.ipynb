{
 "cells": [
  {
   "cell_type": "markdown",
   "metadata": {},
   "source": [
    "# Solvers\n",
    "\n",
    "The solvers module in SymPy implements methods for solving equations. Here is a list of the most commonly used methods:\n",
    "\n",
    "## Algebraic equations\n",
    "\n",
    "There are two high-level functions to solve equations, `solve()` and `solveset()`."
   ]
  },
  {
   "cell_type": "code",
   "execution_count": null,
   "metadata": {},
   "outputs": [],
   "source": [
    "import sympy as sp\n",
    "from sympy.abc import x, y\n",
    "\n",
    "\n",
    "sp.solve(x**2 - y, x)"
   ]
  },
  {
   "cell_type": "code",
   "execution_count": null,
   "metadata": {},
   "outputs": [],
   "source": [
    "sp.solveset(x**2 - y, x)"
   ]
  },
  {
   "cell_type": "code",
   "execution_count": null,
   "metadata": {},
   "outputs": [],
   "source": [
    "sp.solve(x**2 - y, x, dict=True)"
   ]
  },
  {
   "cell_type": "code",
   "execution_count": null,
   "metadata": {},
   "outputs": [],
   "source": [
    "eqn = sp.Eq(x**2, y)\n",
    "eqn"
   ]
  },
  {
   "cell_type": "code",
   "execution_count": null,
   "metadata": {},
   "outputs": [],
   "source": [
    "solutions = sp.solve(eqn, x, dict=True)\n",
    "solutions\n",
    "# solutions[0][x]"
   ]
  },
  {
   "cell_type": "code",
   "execution_count": null,
   "metadata": {},
   "outputs": [],
   "source": [
    "solutions_set = sp.solveset(eqn, x)\n",
    "for sol in solutions_set:\n",
    "    print(sol)\n",
    "\n",
    "solution_list = list(solutions_set)\n",
    "solution_list[0]"
   ]
  },
  {
   "cell_type": "code",
   "execution_count": null,
   "metadata": {},
   "outputs": [],
   "source": [
    "# x = sp.Symbol(\"x\")\n",
    "x = sp.Symbol(\"x\", real=True)\n",
    "sp.solve(x**4 - 256, x, dict=True)"
   ]
  },
  {
   "cell_type": "code",
   "execution_count": null,
   "metadata": {},
   "outputs": [],
   "source": [
    "x = sp.Symbol(\"x\", real=True)\n",
    "expr = (x - 4) * (x - 3) * (x - 2) * (x - 1)\n",
    "solution = sp.solve(expr, x)\n",
    "print(solution)\n",
    "solution_outside_2_3 = [sol for sol in solution if sol < 2 or sol > 3]\n",
    "print(solution_outside_2_3)"
   ]
  },
  {
   "cell_type": "code",
   "execution_count": null,
   "metadata": {},
   "outputs": [],
   "source": [
    "from sympy.abc import x\n",
    "\n",
    "sp.solveset(x**4 - 256, x, domain=sp.S.Reals)"
   ]
  },
  {
   "cell_type": "code",
   "execution_count": null,
   "metadata": {},
   "outputs": [],
   "source": [
    "sp.solve(x**2 + 1, x)"
   ]
  },
  {
   "cell_type": "markdown",
   "metadata": {},
   "source": [
    "\n",
    "Why Solveset?\n",
    "\n",
    "* `solveset` has an alternative consistent input and output interface: `solveset` returns a set object and a set object takes care of all types of output. For cases where it does not “know” all the solutions a `ConditionSet` with a partial solution is returned. For input it only takes the equation, the variables to solve for and the optional argument `domain` over which the equation is to be solved.\n",
    "\n",
    "* `solveset` can return infinitely many solutions. For example solving for $\\sin{(x)} = 0$ returns $\\{2 n \\pi | n \\in \\mathbb{Z}\\} \\cup \\{2 n \\pi + \\pi | n \\in \\mathbb{Z}\\}$, whereas `solve` only returns $[0, \\pi]$.\n",
    "\n",
    "* There is a clear code level and interface level separation between solvers for equations in the complex domain and the real domain. For example solving $e^x = 1$ when $x$ is to be solved in the complex domain, returns the set of all solutions, that is $\\{2 n i \\pi | n \\in \\mathbb{Z}\\}$, whereas if is to be solved in the real domain then only $\\{0\\}$ is returned."
   ]
  },
  {
   "cell_type": "code",
   "execution_count": null,
   "metadata": {},
   "outputs": [],
   "source": [
    "solution = sp.solveset(sp.sin(x), x)\n",
    "solution"
   ]
  },
  {
   "cell_type": "code",
   "execution_count": null,
   "metadata": {},
   "outputs": [],
   "source": [
    "sp.solveset(x**2 + 1, x)  # Complex solution set is default\n",
    "# sp.solveset(x**2 + 1, x, domain=sp.S.Reals)"
   ]
  },
  {
   "cell_type": "code",
   "execution_count": null,
   "metadata": {},
   "outputs": [],
   "source": [
    "# system of equations\n",
    "sp.solve([x - 3, y**2 - 1])  # solve can handle system of equations\n",
    "\n",
    "# sp.solveset can handle only uni-variate equations\n",
    "# sp.solveset([x - 3, y**2 - 1]) # will raise error\n",
    "\n",
    "\n",
    "x, y, z = sp.symbols(\"x y z\")\n",
    "\n",
    "Eqns = [3 * x + 2 * y - z - 1, 2 * x - 2 * y + 4 * z + 2, -x + y / 2 - z]\n",
    "\n",
    "sp.linsolve(Eqns, x, y, z)\n"
   ]
  },
  {
   "cell_type": "code",
   "execution_count": null,
   "metadata": {},
   "outputs": [],
   "source": [
    "# Non-linear system of equations\n",
    "sp.nonlinsolve([x - 3, y**2 - 1], [x, y])"
   ]
  },
  {
   "cell_type": "code",
   "execution_count": null,
   "metadata": {},
   "outputs": [],
   "source": [
    "# If any equation does not depend on the symbol(s) given,\n",
    "# it will be eliminated from the equation set\n",
    "sp.solve(x - y, x, dict=True)\n",
    "# sp.solveset(x - y, x)\n",
    "# sp.solve([x - y, y - 3], x, dict=True)"
   ]
  },
  {
   "cell_type": "code",
   "execution_count": null,
   "metadata": {},
   "outputs": [],
   "source": [
    "# In case the system is underdetermined, the function will return a parametric solution in terms of the given symbols.\n",
    "\n",
    "A = sp.Matrix([[1, 2, 3], [4, 5, 6], [7, 8, 9]])\n",
    "b = sp.Matrix([3, 6, 9])\n",
    "\n",
    "sp.linsolve((A, b), x, y, z)\n",
    "# sp.linsolve((A, b)) # if the parametric symbols are not given, it will return the solution in terms of tau0 symbol"
   ]
  },
  {
   "cell_type": "code",
   "execution_count": null,
   "metadata": {},
   "outputs": [],
   "source": [
    "import numpy as np\n",
    "\n",
    "a = np.array([[1, 2], [3, 5]])\n",
    "b = np.array([1, 2])\n",
    "x = np.linalg.solve(a, b)\n",
    "x"
   ]
  },
  {
   "cell_type": "code",
   "execution_count": null,
   "metadata": {},
   "outputs": [],
   "source": [
    "A = np.array([[1, 2, 3], [4, 5, 6], [7, 8, 9]])\n",
    "b = np.array([3, 6, 9])\n",
    "x = np.linalg.lstsq(A, b, rcond=None)[0]\n",
    "x"
   ]
  },
  {
   "cell_type": "code",
   "execution_count": null,
   "metadata": {},
   "outputs": [],
   "source": [
    "# linsolve can accept augmented matrix as well\n",
    "aug = sp.Matrix([[2, 1, 3, 1], [2, 6, 8, 3], [6, 8, 18, 5]])\n",
    "\n",
    "sp.linsolve(aug, x, y, z)"
   ]
  },
  {
   "cell_type": "code",
   "execution_count": null,
   "metadata": {},
   "outputs": [],
   "source": [
    "a, b, c, d, e, f = sp.symbols(\"a, b, c, d, e, f\")\n",
    "\n",
    "eqns = [a * x + b * y - c, d * x + e * y - f]\n",
    "\n",
    "sp.linsolve(eqns, x, y)"
   ]
  },
  {
   "cell_type": "code",
   "execution_count": null,
   "metadata": {},
   "outputs": [],
   "source": [
    "# use sympy to reduce inequalities\n",
    "\n",
    "sp.solve(x**2 - 4 > 0, x)\n",
    "# sp.solveset(x**2 - 4 > 0, x)"
   ]
  },
  {
   "cell_type": "code",
   "execution_count": null,
   "metadata": {},
   "outputs": [],
   "source": [
    "sp.Abs(x - 5) - 3\n",
    "sp.solve(sp.Abs(x - 5) - 3 > 0, x)"
   ]
  },
  {
   "cell_type": "code",
   "execution_count": null,
   "metadata": {},
   "outputs": [],
   "source": [
    "sp.solve_univariate_inequality(sp.sin(x) > 0, x, relational=False)"
   ]
  },
  {
   "cell_type": "code",
   "execution_count": null,
   "metadata": {},
   "outputs": [],
   "source": [
    "domain = domain = sp.Interval(0, sp.oo)\n",
    "\n",
    "sp.solve_univariate_inequality(x**2 >= 4, x)\n",
    "# sp.solve_univariate_inequality(x**2 >= 4, x, relational=False)\n",
    "# sp.solve_univariate_inequality(x**2 >= 4, x, domain=domain)\n"
   ]
  },
  {
   "cell_type": "markdown",
   "metadata": {},
   "source": [
    "## Differential equations"
   ]
  },
  {
   "cell_type": "code",
   "execution_count": null,
   "metadata": {},
   "outputs": [],
   "source": [
    "# undefined functions\n",
    "\n",
    "x = sp.Symbol(\"x\")\n",
    "f = sp.Function(\"f\")\n",
    "g = sp.Function(\"g\")(x)\n",
    "# f(x)\n",
    "\n",
    "# f(0)\n",
    "# g(0) # will raise error\n",
    "g.subs(x, 0)\n"
   ]
  },
  {
   "cell_type": "code",
   "execution_count": null,
   "metadata": {},
   "outputs": [],
   "source": [
    "f = sp.symbols(\"f\", cls=sp.Function)(x)\n",
    "f"
   ]
  },
  {
   "cell_type": "code",
   "execution_count": null,
   "metadata": {},
   "outputs": [],
   "source": [
    "g.diff()\n",
    "# f(x).diff()\n",
    "# f(x).diff(x)\n",
    "# sp.Derivative(f(x), x)"
   ]
  },
  {
   "cell_type": "code",
   "execution_count": null,
   "metadata": {},
   "outputs": [],
   "source": [
    "# assumptions can be passed to the function\n",
    "\n",
    "f = sp.Function(\"f\", real=True)\n",
    "f(x).is_real"
   ]
  },
  {
   "cell_type": "code",
   "execution_count": null,
   "metadata": {},
   "outputs": [],
   "source": [
    "x.diff(x)\n",
    "\n",
    "# if y is variable\n",
    "# y.diff(x)\n",
    "\n",
    "# if y is a function of x\n",
    "# y = sp.Function(\"y\")(x)\n",
    "# y.diff(x)"
   ]
  },
  {
   "cell_type": "code",
   "execution_count": null,
   "metadata": {},
   "outputs": [],
   "source": [
    "f(x).diff(x).subs(x, 0)"
   ]
  },
  {
   "cell_type": "code",
   "execution_count": null,
   "metadata": {},
   "outputs": [],
   "source": [
    "# solve differential equations\n",
    "\n",
    "f = sp.Function(\"f\")\n",
    "sp.dsolve(f(x).diff(x) - f(x), f(x))"
   ]
  },
  {
   "cell_type": "code",
   "execution_count": null,
   "metadata": {},
   "outputs": [],
   "source": [
    "f = sp.Function(\"f\")(x)\n",
    "f_x = f.diff(x)\n",
    "f_xx = f.diff(x, x)\n",
    "\n",
    "sp.dsolve(f_xx + f, f)"
   ]
  },
  {
   "cell_type": "code",
   "execution_count": null,
   "metadata": {},
   "outputs": [],
   "source": [
    "# system of differential equations\n",
    "\n",
    "t = sp.symbols(\"t\")\n",
    "\n",
    "x, y = sp.symbols(\"x, y\", cls=sp.Function)\n",
    "\n",
    "eq = (\n",
    "    sp.Eq(sp.Derivative(x(t), t), 12 * t * x(t) + 8 * y(t)),\n",
    "    sp.Eq(sp.Derivative(y(t), t), 21 * x(t) + 7 * t * y(t)),\n",
    ")\n",
    "\n",
    "sp.dsolve(eq)\n",
    "# sp.pprint(sp.dsolve(eq))\n",
    "# sp.dsolve(eq, [x(t), y(t)])"
   ]
  },
  {
   "cell_type": "code",
   "execution_count": null,
   "metadata": {},
   "outputs": [],
   "source": [
    "# initial conditions\n",
    "\n",
    "f, g = sp.symbols(\"f g\", cls=sp.Function)\n",
    "\n",
    "x = sp.symbols(\"x\")\n",
    "\n",
    "eqs = [sp.Eq(f(x).diff(x), g(x)), sp.Eq(g(x).diff(x), f(x))]\n",
    "\n",
    "sp.dsolve(eqs, [f(x), g(x)])\n",
    "# sp.dsolve(eqs, [f(x), g(x)], ics={f(0): 1, g(2): 3})"
   ]
  },
  {
   "cell_type": "code",
   "execution_count": null,
   "metadata": {},
   "outputs": [],
   "source": [
    "# derivative conditions\n",
    "eqn = sp.Eq(f(x).diff(x), f(x))\n",
    "\n",
    "sp.dsolve(eqn, f(x), ics={f(x).diff(x).subs(x, 1): 2})"
   ]
  },
  {
   "cell_type": "code",
   "execution_count": null,
   "metadata": {},
   "outputs": [],
   "source": [
    "y = sp.Function(\"y\")\n",
    "\n",
    "result = sp.dsolve(sp.Derivative(y(x), x, x) + 9 * y(x), y(x))\n",
    "result\n",
    "# result.rhs\n",
    "# y_res = result.rhs\n",
    "# # y_res.subs(x, 0)\n",
    "# C1, C2 = sp.symbols(\"C1, C2\")\n",
    "# y_res.subs({C1: 9, C2: sp.pi})"
   ]
  },
  {
   "cell_type": "code",
   "execution_count": null,
   "metadata": {},
   "outputs": [],
   "source": [
    "# not all equations can be solved by dsolve\n",
    "\n",
    "y = sp.Function(\"y\")\n",
    "\n",
    "x, C = sp.symbols(\"x C1:2\")\n",
    "\n",
    "# NotImplementedError will be raised\n",
    "sp.dsolve(sp.Derivative(y(x), x, 3) - (y(x) ** 2), y(x)).rhs"
   ]
  },
  {
   "cell_type": "markdown",
   "metadata": {},
   "source": [
    "## Example: Seperable ODE\n",
    "\n",
    "Let the following Cauchy problem be given: \n",
    "$$\n",
    "\\begin{cases}\n",
    "    \\dfrac{d f(t)}{d t} = -2 t f(t)\n",
    "    \\\\\n",
    "    f(0) = 1\n",
    "\\end{cases}\n",
    "$$\n",
    "\n",
    "whose exact solution is $f(t) = e^{-t^2}$."
   ]
  },
  {
   "cell_type": "code",
   "execution_count": null,
   "metadata": {},
   "outputs": [],
   "source": [
    "t = sp.symbols(\"t\")\n",
    "f = sp.Function(\"f\")\n",
    "\n",
    "eq = sp.Eq(f(t).diff(t), -2 * t * f(t))\n",
    "\n",
    "print(\"ODE class:\", sp.classify_ode(eq)[0])\n",
    "\n",
    "result = sp.dsolve(eq, f(t), ics={f(0): 1})\n",
    "f = result.rhs\n",
    "f"
   ]
  },
  {
   "cell_type": "markdown",
   "metadata": {},
   "source": [
    "## Example: Linear ODE\n",
    "\n",
    "Let the following Cauchy problem be given:\n",
    "\n",
    "$$\n",
    "\\begin{cases}\n",
    "    \\dfrac{d}{d t}f(t) = \\dfrac{t f(t)}{1 + t^2} + 1\n",
    "    \\\\\n",
    "    f(0) = 0\n",
    "\\end{cases}\n",
    "$$\n",
    "\n",
    "whose exact solution is $f(t) = \\sqrt{1 + t^2} \\ln(t + \\sqrt{1 + t^2})$"
   ]
  },
  {
   "cell_type": "code",
   "execution_count": null,
   "metadata": {},
   "outputs": [],
   "source": [
    "t = sp.symbols(\"t\")\n",
    "f = sp.Function(\"f\")\n",
    "\n",
    "f_exact = sp.sqrt(1 + t**2) * sp.ln(t + sp.sqrt(1 + t**2))\n",
    "\n",
    "eq = sp.Eq(f(t).diff(t), (t / (1 + t**2)) * f(t) + 1)\n",
    "eq\n",
    "print(\"ODE class:\", sp.classify_ode(eq)[0])\n",
    "f_result = sp.dsolve(eq, ics={f(0): 0}).rhs\n",
    "# f_result = sp.dsolve(eq, hint=\"1st_linear\", ics={f(0): 0}).rhs\n",
    "f_result\n",
    "# f_result.simplify()"
   ]
  },
  {
   "cell_type": "code",
   "execution_count": null,
   "metadata": {},
   "outputs": [],
   "source": [
    "sp.checkodesol(eq, f_result)"
   ]
  },
  {
   "cell_type": "code",
   "execution_count": null,
   "metadata": {},
   "outputs": [],
   "source": [
    "import matplotlib.pyplot as plt\n",
    "import numpy as np\n",
    "\n",
    "f_exact_lambdified = sp.lambdify(t, f_exact, modules=\"numpy\")\n",
    "f_result_lambdified = sp.lambdify(t, f_result, modules=\"numpy\")\n",
    "\n",
    "t_vals = np.linspace(0.1, 10, 100)\n",
    "\n",
    "fig = plt.figure()\n",
    "plt.plot(t_vals, f_exact_lambdified(t_vals), label=\"Exact\")\n",
    "plt.plot(t_vals, f_result_lambdified(t_vals), \"--\", label=\"Sympy\")\n",
    "plt.legend()\n",
    "plt.show()\n",
    "plt.close(fig)"
   ]
  },
  {
   "cell_type": "markdown",
   "metadata": {},
   "source": [
    "## Partial Differential Equations"
   ]
  },
  {
   "cell_type": "code",
   "execution_count": 1,
   "metadata": {},
   "outputs": [],
   "source": [
    "import sympy as sp\n",
    "from sympy.abc import x, y\n",
    "\n",
    "f = sp.Function(\"f\")(x, y)  # f is a function of x and y\n",
    "\n",
    "# fx will be the partial derivative of f with respect to x\n",
    "fx = sp.Derivative(f, x)\n",
    "\n",
    "# fy will be the partial derivative of f with respect to y\n",
    "fy = sp.Derivative(f, y)"
   ]
  },
  {
   "cell_type": "code",
   "execution_count": 9,
   "metadata": {},
   "outputs": [],
   "source": [
    "f = sp.Function(\"f\")  # varibales are not passed\n",
    "\n",
    "u = f(x, y)  # now u is a function of x and y\n",
    "\n",
    "ux = u.diff(x)\n",
    "\n",
    "uy = u.diff(y)\n",
    "\n",
    "eq = sp.Eq(1 + (2 * (ux / u)) + (3 * (uy / u)), 0)\n",
    "\n",
    "sp.pdsolve(eq)\n",
    "# sp.pdsolve(eq, f(x, y))"
   ]
  },
  {
   "cell_type": "code",
   "execution_count": null,
   "metadata": {},
   "outputs": [],
   "source": [
    "result = sp.pdsolve(eq).rhs\n",
    "sp.checkpdesol(eq, result)"
   ]
  },
  {
   "cell_type": "markdown",
   "metadata": {},
   "source": [
    "### Example: Linear partial differential equation with constant coefficients\n",
    "\n",
    "The general form of this partial differential equation is\n",
    "\n",
    "$$\n",
    "a \\frac{\\partial f(x,y)}{\\partial x}\n",
    "+ b \\frac{\\partial f(x,y)}{\\partial y}\n",
    "+ c f(x,y) = G(x,y)\n",
    "$$\n",
    "\n",
    "where $a$, $b$, $c$ are constants and $G(x,y)$ is a function of $x$ and $y$.\n",
    "\n",
    "The general solution of the PDE is:\n",
    "\n",
    "$$\n",
    "\\begin{split}f(x, y) = \\left. \\left[F(\\eta) + \\frac{1}{a^2 + b^2}\n",
    "\\int\\limits^{a x + b y} G\\left(\\frac{a \\xi + b \\eta}{a^2 + b^2},\n",
    "\\frac{- a \\eta + b \\xi}{a^2 + b^2} \\right)\n",
    "e^{\\frac{c \\xi}{a^2 + b^2}}\\, d\\xi\\right]\n",
    "e^{- \\frac{c \\xi}{a^2 + b^2}}\n",
    "\\right|_{\\substack{\\eta=- a y + b x\\\\ \\xi=a x + b y }}\\, ,\\end{split}\n",
    "$$"
   ]
  },
  {
   "cell_type": "code",
   "execution_count": null,
   "metadata": {},
   "outputs": [],
   "source": [
    "x, y, a, b, c = sp.symbols(\"x y a b c\")\n",
    "f, G = sp.symbols(\"f G\", cls=sp.Function)\n",
    "\n",
    "u = f(x, y)\n",
    "ux = u.diff(x)\n",
    "uy = u.diff(y)\n",
    "\n",
    "genform = a * ux + b * uy + c * u - G(x, y)\n",
    "genform"
   ]
  },
  {
   "cell_type": "code",
   "execution_count": null,
   "metadata": {},
   "outputs": [],
   "source": [
    "# sp.pdsolve(genform)\n",
    "sp.pdsolve(genform, hint=\"1st_linear_constant_coeff_Integral\")\n"
   ]
  }
 ],
 "metadata": {
  "kernelspec": {
   "display_name": "pytorch",
   "language": "python",
   "name": "python3"
  },
  "language_info": {
   "codemirror_mode": {
    "name": "ipython",
    "version": 3
   },
   "file_extension": ".py",
   "mimetype": "text/x-python",
   "name": "python",
   "nbconvert_exporter": "python",
   "pygments_lexer": "ipython3",
   "version": "3.11.9"
  }
 },
 "nbformat": 4,
 "nbformat_minor": 2
}

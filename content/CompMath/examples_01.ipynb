{
 "cells": [
  {
   "cell_type": "markdown",
   "metadata": {},
   "source": [
    "### Example 1\n",
    "\n",
    "Let us consider the following equation, with unknown $z$ and parameter $\\varphi$:\n",
    "\n",
    "$$\n",
    "z^2 - \\dfrac{2}{\\cos \\varphi} z + \\dfrac{5}{\\cos^2 \\varphi} - 4 = 0\n",
    "$$\n",
    "with $ -\\dfrac{\\pi}{2} < \\varphi < \\dfrac{\\pi}{2} $. Solve this equation for $z$.\n"
   ]
  },
  {
   "cell_type": "code",
   "execution_count": 1,
   "metadata": {},
   "outputs": [
    {
     "data": {
      "text/latex": [
       "$\\displaystyle \\left\\{\\frac{1 - 2 \\sqrt{- \\sin^{2}{\\left(\\varphi \\right)}}}{\\cos{\\left(\\varphi \\right)}}, \\frac{2 \\sqrt{- \\sin^{2}{\\left(\\varphi \\right)}} + 1}{\\cos{\\left(\\varphi \\right)}}\\right\\}$"
      ],
      "text/plain": [
       "{(1 - 2*sqrt(-sin(varphi)**2))/cos(varphi), (2*sqrt(-sin(varphi)**2) + 1)/cos(varphi)}"
      ]
     },
     "execution_count": 1,
     "metadata": {},
     "output_type": "execute_result"
    }
   ],
   "source": [
    "# first way\n",
    "import sympy as sp\n",
    "\n",
    "# define the symbols\n",
    "z, phi = sp.symbols(\"z varphi\")\n",
    "\n",
    "# define the domain\n",
    "constrain = sp.And(-sp.pi / 2 < phi, phi < sp.pi / 2)\n",
    "\n",
    "# define the function\n",
    "eq = z**2 - 2 / sp.cos(phi) * z + 5 / (sp.cos(phi) ** 2) - 4\n",
    "\n",
    "# solve the equation\n",
    "solutions = sp.solveset(eq, z)\n",
    "\n",
    "# refine the solutions\n",
    "solutions.refine(constrain).simplify()"
   ]
  },
  {
   "cell_type": "code",
   "execution_count": 2,
   "metadata": {},
   "outputs": [
    {
     "data": {
      "text/latex": [
       "$\\displaystyle \\frac{2 \\sqrt{- \\sin^{2}{\\left(\\varphi \\right)}} + 1}{\\cos{\\left(\\varphi \\right)}}$"
      ],
      "text/plain": [
       "(2*sqrt(-sin(varphi)**2) + 1)/cos(varphi)"
      ]
     },
     "execution_count": 2,
     "metadata": {},
     "output_type": "execute_result"
    }
   ],
   "source": [
    "# second way\n",
    "import sympy as sp\n",
    "\n",
    "# define the symbols\n",
    "z, phi = sp.symbols(\"z varphi\")\n",
    "\n",
    "eq = z**2 - 2 / sp.cos(phi) * z + 5 / (sp.cos(phi) ** 2) - 4\n",
    "\n",
    "solutions = sp.nonlinsolve([eq, -sp.pi / 2 < phi, phi < sp.pi / 2], z)\n",
    "\n",
    "solutions = list(solutions)\n",
    "# solutions\n",
    "# solutions[0][0].simplify()\n",
    "solutions[1][0].simplify()"
   ]
  },
  {
   "cell_type": "code",
   "execution_count": 3,
   "metadata": {},
   "outputs": [
    {
     "name": "stdout",
     "output_type": "stream",
     "text": [
      "{(1 - 2*sqrt(-sin(varphi)**2))/cos(varphi), (2*sqrt(-sin(varphi)**2) + 1)/cos(varphi)}\n"
     ]
    }
   ],
   "source": [
    "# third way\n",
    "import sympy as sp\n",
    "\n",
    "# define the symbols\n",
    "z, phi = sp.symbols(\"z varphi\")\n",
    "\n",
    "constrain = sp.And(-sp.pi / 2 < phi, phi < sp.pi / 2)\n",
    "\n",
    "if constrain:\n",
    "    eq = z**2 - 2 / sp.cos(phi) * z + 5 / (sp.cos(phi) ** 2) - 4\n",
    "    solutions = sp.solveset(eq, z)\n",
    "    solutions = solutions.simplify()\n",
    "    print(solutions)"
   ]
  },
  {
   "cell_type": "markdown",
   "metadata": {},
   "source": [
    "### Example 2\n",
    "\n",
    "Let us consider the seqence of numbers $u_n = \\dfrac{n^{100}}{100^n}$. \n",
    "* Compute the first 10 terms of the sequence. \n",
    "* What is the limit of the sequence when $n$ goes to infinity? \n",
    "* From which value of $n$ does $u_n \\in (0, 10^{-8})$ hold?"
   ]
  },
  {
   "cell_type": "code",
   "execution_count": 4,
   "metadata": {},
   "outputs": [
    {
     "data": {
      "text/latex": [
       "$\\displaystyle \\left[0, \\frac{1}{100}, \\frac{79228162514264337593543950336}{625}, \\frac{515377520732011331036461129765621272702107522001}{1000000}, \\ldots\\right]$"
      ],
      "text/plain": [
       "SeqFormula(n**100/100**n, (n, 0, oo))"
      ]
     },
     "metadata": {},
     "output_type": "display_data"
    },
    {
     "name": "stdout",
     "output_type": "stream",
     "text": [
      "Limit: 0\n",
      "n th term: 106\n",
      "Value: 3.393e-10\n"
     ]
    }
   ],
   "source": [
    "import sympy as sp\n",
    "from IPython.display import display\n",
    "\n",
    "# define the symbols\n",
    "n = sp.symbols(\"n\", integer=True, positive=True)\n",
    "\n",
    "u = n**100 / 100**n\n",
    "s = sp.SeqFormula(u)\n",
    "display(s)\n",
    "\n",
    "# compute the limit\n",
    "limit = sp.limit(u, n, sp.oo)\n",
    "print(f\"Limit: {limit}\")\n",
    "\n",
    "# s[:10]\n",
    "num_terms = 110\n",
    "for i in range(num_terms):\n",
    "    next_term = s.coeff(i)\n",
    "    if next_term == 0:\n",
    "        continue\n",
    "    if next_term < 1e-8:\n",
    "        break\n",
    "print(f\"n th term: {i}\")\n",
    "print(f\"Value: {s.coeff(i).evalf():.3e}\")\n"
   ]
  },
  {
   "cell_type": "markdown",
   "metadata": {},
   "source": [
    "### Example 3\n",
    "\n",
    "Check the following function is harmonic:\n",
    "\n",
    "$$\n",
    "f(x, y) = \\dfrac{1}{2} \\ln\\left( x^2 + y^2 \\right)\n",
    "$$\n",
    "for all $(x, y) \\ne (0,0) $.\n",
    "\n",
    "- A function $f$ is said *harmonic* when its Laplacian $\\Delta f = \\partial_x f + \\partial_y f$ is zero. "
   ]
  },
  {
   "cell_type": "code",
   "execution_count": 5,
   "metadata": {},
   "outputs": [
    {
     "name": "stdout",
     "output_type": "stream",
     "text": [
      "laplacian of f = 0\n"
     ]
    }
   ],
   "source": [
    "import sympy as sp\n",
    "\n",
    "# define the symbols\n",
    "x, y = sp.symbols(\"x y\")\n",
    "\n",
    "# define the equation\n",
    "f = 1 / 2 * sp.ln(x**2 + y**2)\n",
    "\n",
    "grad_f = sp.diff(f, x, x) + sp.diff(f, y, y)\n",
    "\n",
    "print(f\"laplacian of f = {grad_f.simplify()}\")\n"
   ]
  },
  {
   "cell_type": "code",
   "execution_count": 6,
   "metadata": {},
   "outputs": [
    {
     "name": "stdout",
     "output_type": "stream",
     "text": [
      "laplacian of f = 0\n"
     ]
    }
   ],
   "source": [
    "# second method\n",
    "# compute the hessian\n",
    "hessian = sp.hessian(f, (x, y))\n",
    "\n",
    "sp.trace(hessian).simplify()\n",
    "print(f\"laplacian of f = {sp.trace(hessian).simplify()}\")"
   ]
  },
  {
   "cell_type": "markdown",
   "metadata": {},
   "source": [
    "### Example 4\n",
    "\n",
    "* Is the following matrix $A$ diagonalizable?\n",
    "    $$\n",
    "    A = \\begin{pmatrix}\n",
    "    2 & 4 & 3 \\\\\n",
    "    -4 & -6 & -3 \\\\\n",
    "    3 & 3 & 1\n",
    "    \\end{pmatrix}\n",
    "    $$\n",
    "* Write a Python function that prints if a given matrix is diagonalizable or not and returns True or False, respectively.\n",
    "* Write another function to compute the diagonal form of the matrix if it is diagonalizable and compute the Jordan form otherwise."
   ]
  },
  {
   "cell_type": "code",
   "execution_count": 7,
   "metadata": {},
   "outputs": [
    {
     "name": "stdout",
     "output_type": "stream",
     "text": [
      "False\n",
      "The matrix is not diagonalizable\n",
      "Calculating the Jordan form\n",
      "T = Matrix([[-1, -1, 1], [1, 0, -1], [0, 1, 1]])\n",
      "J = Matrix([[-2, 1, 0], [0, -2, 0], [0, 0, 1]])\n"
     ]
    },
    {
     "data": {
      "text/plain": [
       "(Matrix([\n",
       " [-1, -1,  1],\n",
       " [ 1,  0, -1],\n",
       " [ 0,  1,  1]]),\n",
       " Matrix([\n",
       " [-2,  1, 0],\n",
       " [ 0, -2, 0],\n",
       " [ 0,  0, 1]]))"
      ]
     },
     "execution_count": 7,
     "metadata": {},
     "output_type": "execute_result"
    }
   ],
   "source": [
    "import sympy as sp\n",
    "\n",
    "A = sp.Matrix([[2, 4, 3], [-4, -6, -3], [3, 3, 1]])\n",
    "D = sp.diag(1, 2, 3)\n",
    "\n",
    "print(A.is_diagonalizable())\n",
    "\n",
    "\n",
    "def check_diagonal(matrix):\n",
    "    status = matrix.is_diagonalizable()\n",
    "    if status:\n",
    "        print(\"The matrix is diagonalizable\")\n",
    "        return True\n",
    "    else:\n",
    "        print(\"The matrix is not diagonalizable\")\n",
    "        return False\n",
    "\n",
    "\n",
    "def diagonalize(matrix):\n",
    "    if check_diagonal(matrix):\n",
    "        print(\"Calculating the diagonal form\")\n",
    "        P, D = matrix.diagonalize()\n",
    "        print(f\"P = {P}\")\n",
    "        print(f\"D = {D}\")\n",
    "        return P, D\n",
    "    else:\n",
    "        print(\"Calculating the Jordan form\")\n",
    "        T, J = matrix.jordan_form()\n",
    "        print(f\"T = {T}\")\n",
    "        print(f\"J = {J}\")\n",
    "        return T, J\n",
    "\n",
    "\n",
    "diagonalize(A)"
   ]
  },
  {
   "cell_type": "markdown",
   "metadata": {},
   "source": [
    "### Example 5\n",
    "\n",
    "Let us compute, for $x\\in\\mathbb{R}$, the integral \n",
    "$$\n",
    "\\int_0^{+\\infty} \\dfrac{x\\cos u}{u^2 + x^2} du\n",
    "$$"
   ]
  },
  {
   "cell_type": "code",
   "execution_count": 8,
   "metadata": {},
   "outputs": [
    {
     "data": {
      "text/latex": [
       "$\\displaystyle - \\frac{\\pi e^{x}}{2}$"
      ],
      "text/plain": [
       "-pi*exp(x)/2"
      ]
     },
     "execution_count": 8,
     "metadata": {},
     "output_type": "execute_result"
    }
   ],
   "source": [
    "import sympy as sp\n",
    "\n",
    "# define the symbols\n",
    "u = sp.symbols(\"u\", positive=True)\n",
    "# if x>0\n",
    "x = sp.symbols(\"x\", positive=True)\n",
    "int_p = sp.integrate(x * sp.cos(u) / (u**2 + x**2), (u, 0, sp.oo)).simplify()\n",
    "# if x<0\n",
    "x = sp.symbols(\"x\", negative=True)\n",
    "int_n = sp.integrate(x * sp.cos(u) / (u**2 + x**2), (u, 0, sp.oo)).simplify()\n",
    "\n",
    "sp.Piecewise((int_p, x > 0), (int_n, x < 0))"
   ]
  },
  {
   "cell_type": "markdown",
   "metadata": {},
   "source": [
    "### Example 6\n",
    "\n",
    "Consider the following IVP:\n",
    "$$\n",
    "\\dfrac{dy}{dt} = -0.2t, \\quad y(0) = 50\n",
    "$$\n",
    "* Compute the exact solution of the IVP.\n",
    "* Compute the approximate solution of the IVP using the scipy function `solve_ivp`.\n",
    "* Plot the exact and approximate solutions, and error between them."
   ]
  },
  {
   "cell_type": "code",
   "execution_count": 9,
   "metadata": {},
   "outputs": [
    {
     "data": {
      "text/latex": [
       "$\\displaystyle 50 e^{- 0.2 t}$"
      ],
      "text/plain": [
       "50*exp(-0.2*t)"
      ]
     },
     "metadata": {},
     "output_type": "display_data"
    },
    {
     "data": {
      "image/png": "[encoded data removed]",
      "text/plain": [
       "<Figure size 640x480 with 1 Axes>"
      ]
     },
     "metadata": {},
     "output_type": "display_data"
    },
    {
     "data": {
      "image/png": "[encoded data removed]",
      "text/plain": [
       "<Figure size 640x480 with 1 Axes>"
      ]
     },
     "metadata": {},
     "output_type": "display_data"
    }
   ],
   "source": [
    "import sympy as sp\n",
    "from IPython.display import display\n",
    "from scipy.integrate import solve_ivp\n",
    "import numpy as np\n",
    "import matplotlib.pyplot as plt\n",
    "\n",
    "\n",
    "#### Exact solution ####\n",
    "\n",
    "\n",
    "# define the symbols\n",
    "t = sp.symbols(\"t\", positive=True)\n",
    "y = sp.Function(\"y\")(t)\n",
    "\n",
    "# define the equation\n",
    "eq = y.diff(t) + 0.2 * y\n",
    "\n",
    "solution = sp.dsolve(eq, y, ics={y.subs(t, 0): 50})\n",
    "exact_solution = solution.rhs\n",
    "\n",
    "display(exact_solution)\n",
    "\n",
    "#### Numerical solution ####\n",
    "\n",
    "\n",
    "# define the function\n",
    "def f(t, y):\n",
    "    return -0.2 * y\n",
    "\n",
    "\n",
    "# define the initial condition\n",
    "y0 = [50]\n",
    "\n",
    "# define the time span\n",
    "t_span = [0, 10]\n",
    "\n",
    "# solve the ODE\n",
    "numerical_solution = solve_ivp(f, t_span, y0, t_eval=np.linspace(0, 10, 100))\n",
    "numerical_solution\n",
    "\n",
    "\n",
    "#### Plot the solutions ####\n",
    "\n",
    "\n",
    "exact_solution = sp.lambdify(t, exact_solution, \"numpy\")\n",
    "t_values = np.linspace(0, 10, 100)\n",
    "y_values = exact_solution(t_values)\n",
    "\n",
    "fig = plt.figure()\n",
    "plt.plot(numerical_solution.t, numerical_solution.y[0], \"o\", label=\"Numerical solution\")\n",
    "plt.plot(t_values, y_values, label=\"Exact solution\")\n",
    "plt.xlabel(\"t\")\n",
    "plt.ylabel(\"y\")\n",
    "plt.legend(loc=\"best\")\n",
    "plt.title(\"Exact vs Numerical solution\")\n",
    "plt.show()\n",
    "plt.close(fig)\n",
    "\n",
    "abs_error = np.abs(numerical_solution.y[0] - exact_solution(numerical_solution.t))\n",
    "relative_error = abs_error / np.abs(exact_solution(numerical_solution.t))\n",
    "fig = plt.figure()\n",
    "# plt.plot(numerical_solution.t, abs_error, label=\"Absolute error\")\n",
    "plt.plot(numerical_solution.t, relative_error, label=\"Relative error\")\n",
    "plt.xlabel(\"t\")\n",
    "plt.ylabel(\"Errors\")\n",
    "# plt.yscale(\"log\")\n",
    "plt.legend(loc=\"best\")\n",
    "plt.title(\"Errors\")\n",
    "plt.show()\n",
    "plt.close(fig)\n"
   ]
  },
  {
   "cell_type": "markdown",
   "metadata": {},
   "source": [
    "### Example 7\n",
    "\n",
    "Solve the differential equation $y'' - 3y' - 4y = sin(x)$ using the Laplace transform with initial conditions $y(0) = 1$ and $y'(0) = -1$."
   ]
  },
  {
   "cell_type": "code",
   "execution_count": 10,
   "metadata": {},
   "outputs": [
    {
     "data": {
      "text/latex": [
       "$\\displaystyle \\left(- \\frac{5 \\sin{\\left(x \\right)}}{34} + \\frac{3 \\cos{\\left(x \\right)}}{34}\\right) \\theta\\left(x\\right) + \\frac{e^{4 x} \\theta\\left(x\\right)}{85} + \\frac{9 e^{- x} \\theta\\left(x\\right)}{10}$"
      ],
      "text/plain": [
       "(-5*sin(x)/34 + 3*cos(x)/34)*Heaviside(x) + exp(4*x)*Heaviside(x)/85 + 9*exp(-x)*Heaviside(x)/10"
      ]
     },
     "execution_count": 10,
     "metadata": {},
     "output_type": "execute_result"
    }
   ],
   "source": [
    "import sympy as sp\n",
    "\n",
    "x = sp.symbols(\"x\")\n",
    "s = sp.symbols(\"s\")\n",
    "y = sp.Function(\"y\")\n",
    "Y = sp.Function(\"Y\")\n",
    "\n",
    "lhs = y(x).diff(x, x) - 3 * y(x).diff(x) - 4 * y(x)\n",
    "rhs = sp.sin(x)\n",
    "\n",
    "f = sp.laplace_transform(lhs, x, s, noconds=True)\n",
    "g = sp.laplace_correspondence(f, {y: Y})\n",
    "laplace_lhs = sp.laplace_initial_conds(g, x, {y: [1, -1]})\n",
    "\n",
    "laplace_rhs = sp.laplace_transform(rhs, x, s, noconds=True)\n",
    "\n",
    "solution = sp.solve(laplace_lhs - laplace_rhs, Y(s))\n",
    "\n",
    "sp.inverse_laplace_transform(solution[0], s, x)"
   ]
  }
 ],
 "metadata": {
  "kernelspec": {
   "display_name": ".venv",
   "language": "python",
   "name": "python3"
  },
  "language_info": {
   "codemirror_mode": {
    "name": "ipython",
    "version": 3
   },
   "file_extension": ".py",
   "mimetype": "text/x-python",
   "name": "python",
   "nbconvert_exporter": "python",
   "pygments_lexer": "ipython3",
   "version": "3.12.7"
  }
 },
 "nbformat": 4,
 "nbformat_minor": 2
}

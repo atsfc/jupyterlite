{
 "cells": [
  {
   "cell_type": "markdown",
   "metadata": {},
   "source": [
    "### Example 1\n",
    "\n",
    "Let us consider the following equation, with unknown $z$ and parameter $\\varphi$:\n",
    "\n",
    "$$\n",
    "z^2 - \\dfrac{2}{\\cos \\varphi} z + \\dfrac{5}{\\cos^2 \\varphi} - 4 = 0\n",
    "$$\n",
    "with $ -\\dfrac{\\pi}{2} < \\varphi < \\dfrac{\\pi}{2} $. Solve this equation for $z$.\n"
   ]
  },
  {
   "cell_type": "code",
   "execution_count": null,
   "metadata": {},
   "outputs": [],
   "source": [
    "# first way\n",
    "import sympy as sp\n",
    "\n",
    "# define the symbols\n",
    "z, phi = sp.symbols(\"z varphi\")\n",
    "\n",
    "# define the domain\n",
    "constrain = sp.And(-sp.pi / 2 < phi, phi < sp.pi / 2)\n",
    "\n",
    "# define the function\n",
    "eq = z**2 - 2 / sp.cos(phi) * z + 5 / (sp.cos(phi) ** 2) - 4\n",
    "\n",
    "# solve the equation\n",
    "solutions = sp.solveset(eq, z)\n",
    "\n",
    "# refine the solutions\n",
    "solutions.refine(constrain).simplify()"
   ]
  },
  {
   "cell_type": "code",
   "execution_count": null,
   "metadata": {},
   "outputs": [],
   "source": [
    "# second way\n",
    "import sympy as sp\n",
    "\n",
    "# define the symbols\n",
    "z, phi = sp.symbols(\"z varphi\")\n",
    "\n",
    "eq = z**2 - 2 / sp.cos(phi) * z + 5 / (sp.cos(phi) ** 2) - 4\n",
    "\n",
    "solutions = sp.nonlinsolve([eq, -sp.pi / 2 < phi, phi < sp.pi / 2], z)\n",
    "\n",
    "solutions = list(solutions)\n",
    "# solutions\n",
    "# solutions[0][0].simplify()\n",
    "solutions[1][0].simplify()"
   ]
  },
  {
   "cell_type": "code",
   "execution_count": null,
   "metadata": {},
   "outputs": [],
   "source": [
    "# third way\n",
    "import sympy as sp\n",
    "\n",
    "# define the symbols\n",
    "z, phi = sp.symbols(\"z varphi\")\n",
    "\n",
    "constrain = sp.And(-sp.pi / 2 < phi, phi < sp.pi / 2)\n",
    "\n",
    "if constrain:\n",
    "    eq = z**2 - 2 / sp.cos(phi) * z + 5 / (sp.cos(phi) ** 2) - 4\n",
    "    solutions = sp.solveset(eq, z)\n",
    "    solutions = solutions.simplify()\n",
    "    print(solutions)"
   ]
  },
  {
   "cell_type": "markdown",
   "metadata": {},
   "source": [
    "### Example 2\n",
    "\n",
    "Let us consider the seqence of numbers $u_n = \\dfrac{n^{100}}{100^n}$. \n",
    "* Compute the first 10 terms of the sequence. \n",
    "* What is the limit of the sequence when $n$ goes to infinity? \n",
    "* From which value of $n$ does $u_n \\in (0, 10^{-8})$ hold?"
   ]
  },
  {
   "cell_type": "code",
   "execution_count": null,
   "metadata": {},
   "outputs": [],
   "source": [
    "import sympy as sp\n",
    "from IPython.display import display\n",
    "\n",
    "# define the symbols\n",
    "n = sp.symbols(\"n\", integer=True, positive=True)\n",
    "\n",
    "u = n**100 / 100**n\n",
    "s = sp.SeqFormula(u)\n",
    "display(s)\n",
    "\n",
    "# compute the limit\n",
    "limit = sp.limit(u, n, sp.oo)\n",
    "print(f\"Limit: {limit}\")\n",
    "\n",
    "# s[:10]\n",
    "num_terms = 110\n",
    "for i in range(num_terms):\n",
    "    next_term = s.coeff(i)\n",
    "    if next_term == 0:\n",
    "        continue\n",
    "    if next_term < 1e-8:\n",
    "        break\n",
    "print(f\"n th term: {i}\")\n",
    "print(f\"Value: {s.coeff(i).evalf():.3e}\")\n"
   ]
  },
  {
   "cell_type": "markdown",
   "metadata": {},
   "source": [
    "### Example 3\n",
    "\n",
    "Check the following function is harmonic:\n",
    "\n",
    "$$\n",
    "f(x, y) = \\dfrac{1}{2} \\ln\\left( x^2 + y^2 \\right)\n",
    "$$\n",
    "for all $(x, y) \\ne (0,0) $.\n",
    "\n",
    "- Hint: A function $f$ is said *harmonic* when its Laplacian $\\Delta f = \\partial_x f + \\partial_y f$ is zero. "
   ]
  },
  {
   "cell_type": "code",
   "execution_count": null,
   "metadata": {},
   "outputs": [],
   "source": [
    "import sympy as sp\n",
    "\n",
    "# define the symbols\n",
    "x, y = sp.symbols(\"x y\")\n",
    "\n",
    "# define the equation\n",
    "f = 1 / 2 * sp.ln(x**2 + y**2)\n",
    "\n",
    "grad_f = sp.diff(f, x, x) + sp.diff(f, y, y)\n",
    "\n",
    "print(f\"laplacian of f = {grad_f.simplify()}\")\n"
   ]
  },
  {
   "cell_type": "code",
   "execution_count": null,
   "metadata": {},
   "outputs": [],
   "source": [
    "# second method\n",
    "# compute the hessian\n",
    "hessian = sp.hessian(f, (x, y))\n",
    "\n",
    "sp.trace(hessian).simplify()\n",
    "print(f\"laplacian of f = {sp.trace(hessian).simplify()}\")"
   ]
  },
  {
   "cell_type": "markdown",
   "metadata": {},
   "source": [
    "### Example 4\n",
    "\n",
    "* Is the following matrix $A$ diagonalizable?\n",
    "    $$\n",
    "    A = \\begin{pmatrix}\n",
    "    2 & 4 & 3 \\\\\n",
    "    -4 & -6 & -3 \\\\\n",
    "    3 & 3 & 1\n",
    "    \\end{pmatrix}\n",
    "    $$\n",
    "* Write a Python function that prints if a given matrix is diagonalizable or not and returns True or False, respectively.\n",
    "* Write another function to compute the diagonal form of the matrix if it is diagonalizable and compute the Jordan form otherwise."
   ]
  },
  {
   "cell_type": "code",
   "execution_count": null,
   "metadata": {},
   "outputs": [],
   "source": [
    "import sympy as sp\n",
    "\n",
    "A = sp.Matrix([[2, 4, 3], [-4, -6, -3], [3, 3, 1]])\n",
    "D = sp.diag(1, 2, 3)\n",
    "\n",
    "print(A.is_diagonalizable())\n",
    "\n",
    "\n",
    "def check_diagonal(matrix):\n",
    "    status = matrix.is_diagonalizable()\n",
    "    if status:\n",
    "        print(\"The matrix is diagonalizable\")\n",
    "        return True\n",
    "    else:\n",
    "        print(\"The matrix is not diagonalizable\")\n",
    "        return False\n",
    "\n",
    "\n",
    "def diagonalize(matrix):\n",
    "    if check_diagonal(matrix):\n",
    "        print(\"Calculating the diagonal form\")\n",
    "        P, D = matrix.diagonalize()\n",
    "        print(f\"P = {P}\")\n",
    "        print(f\"D = {D}\")\n",
    "        return P, D\n",
    "    else:\n",
    "        print(\"Calculating the Jordan form\")\n",
    "        T, J = matrix.jordan_form()\n",
    "        print(f\"T = {T}\")\n",
    "        print(f\"J = {J}\")\n",
    "        return T, J\n",
    "\n",
    "\n",
    "diagonalize(A)"
   ]
  },
  {
   "cell_type": "markdown",
   "metadata": {},
   "source": [
    "### Example 5\n",
    "\n",
    "Let us compute, for $x\\in\\mathbb{R}$, the integral \n",
    "$$\n",
    "\\int_0^{+\\infty} \\dfrac{x\\cos u}{u^2 + x^2} du\n",
    "$$"
   ]
  },
  {
   "cell_type": "code",
   "execution_count": null,
   "metadata": {},
   "outputs": [],
   "source": [
    "import sympy as sp\n",
    "\n",
    "# define the symbols\n",
    "u = sp.symbols(\"u\", positive=True)\n",
    "# if x>0\n",
    "x = sp.symbols(\"x\", positive=True)\n",
    "int_p = sp.integrate(x * sp.cos(u) / (u**2 + x**2), (u, 0, sp.oo)).simplify()\n",
    "# if x<0\n",
    "x = sp.symbols(\"x\", negative=True)\n",
    "int_n = sp.integrate(x * sp.cos(u) / (u**2 + x**2), (u, 0, sp.oo)).simplify()\n",
    "\n",
    "sp.Piecewise((int_p, x > 0), (int_n, x < 0))"
   ]
  },
  {
   "cell_type": "markdown",
   "metadata": {},
   "source": [
    "### Example 6\n",
    "\n",
    "Consider the following IVP:\n",
    "$$\n",
    "\\dfrac{dy}{dt} = -0.2y, \\quad y(0) = 50\n",
    "$$\n",
    "* Compute the exact solution of the IVP.\n",
    "* Compute the approximate solution of the IVP using the scipy function `solve_ivp`.\n",
    "* Plot the exact and approximate solutions, and error between them."
   ]
  },
  {
   "cell_type": "code",
   "execution_count": null,
   "metadata": {},
   "outputs": [],
   "source": [
    "import sympy as sp\n",
    "from IPython.display import display\n",
    "from scipy.integrate import solve_ivp\n",
    "import numpy as np\n",
    "import matplotlib.pyplot as plt\n",
    "\n",
    "\n",
    "#### Exact solution ####\n",
    "\n",
    "\n",
    "# define the symbols\n",
    "t = sp.symbols(\"t\", positive=True)\n",
    "y = sp.Function(\"y\")(t)\n",
    "\n",
    "\n",
    "# define the rhs function\n",
    "def f(t, y):\n",
    "    return -0.2 * y\n",
    "\n",
    "\n",
    "# define the equation\n",
    "eq = y.diff(t) - f(t, y)\n",
    "\n",
    "solution = sp.dsolve(eq, y, ics={y.subs(t, 0): 50})\n",
    "exact_solution = solution.rhs\n",
    "\n",
    "display(exact_solution)\n",
    "\n",
    "#### Numerical solution ####\n",
    "\n",
    "# define the initial condition\n",
    "y0 = [50]\n",
    "\n",
    "# define the time interval\n",
    "t_inter = [0, 10]\n",
    "\n",
    "# solve the ODE\n",
    "numerical_solution = solve_ivp(\n",
    "    f, t_inter, y0, t_eval=np.linspace(t_inter[0], t_inter[1], 100)\n",
    ")\n",
    "numerical_solution\n",
    "\n",
    "\n",
    "#### Plot the solutions ####\n",
    "\n",
    "\n",
    "exact_solution = sp.lambdify(t, exact_solution, \"numpy\")\n",
    "t_values = np.linspace(t_inter[0], t_inter[1], 100)\n",
    "y_values = exact_solution(t_values)\n",
    "\n",
    "fig = plt.figure()\n",
    "plt.plot(numerical_solution.t, numerical_solution.y[0], \"o\", label=\"Numerical solution\")\n",
    "plt.plot(t_values, y_values, label=\"Exact solution\")\n",
    "plt.xlabel(\"t\")\n",
    "plt.ylabel(\"y\")\n",
    "plt.legend(loc=\"best\")\n",
    "plt.title(\"Exact vs Numerical solution\")\n",
    "plt.show()\n",
    "plt.close(fig)\n",
    "\n",
    "abs_error = np.abs(numerical_solution.y[0] - exact_solution(numerical_solution.t))\n",
    "relative_error = abs_error / np.abs(exact_solution(numerical_solution.t))\n",
    "fig = plt.figure()\n",
    "# plt.plot(numerical_solution.t, abs_error, label=\"Absolute error\")\n",
    "plt.plot(numerical_solution.t, relative_error, label=\"Relative error\")\n",
    "plt.xlabel(\"t\")\n",
    "plt.ylabel(\"Errors\")\n",
    "# plt.yscale(\"log\")\n",
    "plt.legend(loc=\"best\")\n",
    "plt.title(\"Errors\")\n",
    "plt.show()\n",
    "plt.close(fig)\n"
   ]
  },
  {
   "cell_type": "markdown",
   "metadata": {},
   "source": [
    "### Example 7\n",
    "\n",
    "Solve the differential equation $y'' - 3y' - 4y = sin(x)$ using the Laplace transform with initial conditions $y(0) = 1$ and $y'(0) = -1$."
   ]
  },
  {
   "cell_type": "code",
   "execution_count": 1,
   "metadata": {},
   "outputs": [
    {
     "name": "stdout",
     "output_type": "stream",
     "text": [
      "The solution of the ODE by Laplace transform is:\n"
     ]
    },
    {
     "data": {
      "text/latex": [
       "$\\displaystyle y{\\left(x \\right)} = \\frac{\\left(\\left(2 e^{4 x} - 25 \\sin{\\left(x \\right)} + 15 \\cos{\\left(x \\right)}\\right) e^{x} + 153\\right) e^{- x} \\theta\\left(x\\right)}{170}$"
      ],
      "text/plain": [
       "Eq(y(x), ((2*exp(4*x) - 25*sin(x) + 15*cos(x))*exp(x) + 153)*exp(-x)*Heaviside(x)/170)"
      ]
     },
     "metadata": {},
     "output_type": "display_data"
    },
    {
     "name": "stdout",
     "output_type": "stream",
     "text": [
      "The exact solution of the ODE is:\n"
     ]
    },
    {
     "data": {
      "text/latex": [
       "$\\displaystyle y{\\left(x \\right)} = \\frac{e^{4 x}}{85} - \\frac{5 \\sin{\\left(x \\right)}}{34} + \\frac{3 \\cos{\\left(x \\right)}}{34} + \\frac{9 e^{- x}}{10}$"
      ],
      "text/plain": [
       "Eq(y(x), exp(4*x)/85 - 5*sin(x)/34 + 3*cos(x)/34 + 9*exp(-x)/10)"
      ]
     },
     "metadata": {},
     "output_type": "display_data"
    },
    {
     "data": {
      "image/png": "[encoded data removed]",
      "text/plain": [
       "<Figure size 640x480 with 1 Axes>"
      ]
     },
     "metadata": {},
     "output_type": "display_data"
    }
   ],
   "source": [
    "import sympy as sp\n",
    "import matplotlib.pyplot as plt\n",
    "import numpy as np\n",
    "\n",
    "x = sp.symbols(\"x\")\n",
    "s = sp.symbols(\"s\")\n",
    "y = sp.Function(\"y\")\n",
    "Y = sp.Function(\"Y\")\n",
    "\n",
    "lhs = y(x).diff(x, x) - 3 * y(x).diff(x) - 4 * y(x)\n",
    "rhs = sp.sin(x)\n",
    "\n",
    "### Laplace transform ###\n",
    "\n",
    "f = sp.laplace_transform(lhs, x, s, noconds=True)\n",
    "g = sp.laplace_correspondence(f, {y: Y})\n",
    "laplace_lhs = sp.laplace_initial_conds(g, x, {y: [1, -1]})\n",
    "\n",
    "laplace_rhs = sp.laplace_transform(rhs, x, s, noconds=True)\n",
    "\n",
    "laplace_solution = sp.solve(laplace_lhs - laplace_rhs, Y(s))\n",
    "\n",
    "solution = sp.inverse_laplace_transform(laplace_solution[0], s, x).simplify()\n",
    "\n",
    "print(\"The solution of the ODE by Laplace transform is:\")\n",
    "display(sp.Eq(y(x), solution))\n",
    "\n",
    "exaxt_lambda = sp.lambdify(x, solution, \"numpy\")\n",
    "\n",
    "\n",
    "### Exact solution ###\n",
    "\n",
    "exact_solution = sp.dsolve(lhs - rhs, y(x), ics={y(0): 1, y(x).diff(x).subs(x, 0): -1})\n",
    "print(\"The exact solution of the ODE is:\")\n",
    "display(exact_solution)\n",
    "\n",
    "### Plot the solution ###\n",
    "\n",
    "solution = sp.lambdify(x, solution, \"numpy\")\n",
    "x_values = np.linspace(-1.5, 1.5, 100)\n",
    "y_values = solution(x_values)\n",
    "\n",
    "fig = plt.figure()\n",
    "plt.plot(x_values, y_values, label=\"Laplace Solution\")\n",
    "plt.plot(x_values, exaxt_lambda(x_values), \"--\", label=\"Exact Solution\")\n",
    "\n",
    "plt.xlabel(\"x\")\n",
    "plt.ylabel(\"y\")\n",
    "plt.title(\"Solution of the ODE\")\n",
    "plt.show()\n",
    "plt.close(fig)\n"
   ]
  },
  {
   "cell_type": "markdown",
   "metadata": {},
   "source": [
    "### Example 8\n",
    "Consider a stone tossed into the air from ground level with an initial velocity of $15$ m/sec. Its height in meters at time $t$ seconds is given by\n",
    "$$\n",
    "h(t) = 15t - 4.9t^2.\n",
    "$$\n",
    "Compute the average velocity of the stone over the given time interval $[1, 1.005]$."
   ]
  },
  {
   "cell_type": "code",
   "execution_count": null,
   "metadata": {},
   "outputs": [],
   "source": [
    "import sympy as sp\n",
    "\n",
    "# define the symbols\n",
    "t = sp.symbols(\"t\", positive=True)\n",
    "h = 15 * t - 4.9 * t**2\n",
    "\n",
    "# the average velocity in an interval [a, b] is given by\n",
    "t0 = 1\n",
    "t1 = 1.005\n",
    "v_avg = (h.subs(t, t1) - h.subs(t, t0)) / (t1 - t0)\n",
    "\n",
    "print(f\"The average velocity is {v_avg.round(1)} m/s\")\n"
   ]
  },
  {
   "cell_type": "markdown",
   "metadata": {},
   "source": [
    "### Example 9\n",
    "According to Newton’s law of universal gravitation, the force $F$ between two bodies of constant mass $m_1$ and $m_2$ is given by the formula \n",
    "$$F=\\frac{Gm_1m_2}{d^2},$$\n",
    "where $G$ is the gravitational constant and $d$ is the distance between the bodies.\n",
    "* Suppose that $G$, $m1$, and $m2$ are constants. Find the rate of change of force $F$ with respect to distance $d$.\n",
    "* Find the rate of change of force $F$ with gravitational constant $G=6.67×10^{−11} Nm^2/kg^2$, on two bodies $10$ meters apart, each with a mass of $1000$ kilograms."
   ]
  },
  {
   "cell_type": "code",
   "execution_count": null,
   "metadata": {},
   "outputs": [],
   "source": [
    "import sympy as sp\n",
    "from IPython.display import display\n",
    "\n",
    "# define the symbols\n",
    "m1, m2 = sp.symbols(\"m_1:3\")\n",
    "G = sp.symbols(\"G\")\n",
    "d = sp.symbols(\"d\")\n",
    "\n",
    "# define the force\n",
    "F = G * m1 * m2 / d**2\n",
    "\n",
    "# compute the derivative\n",
    "dF = F.diff(d)\n",
    "\n",
    "print(\"The rate of change of the force is:\")\n",
    "display(dF)\n",
    "\n",
    "result = dF.subs({G: 6.67e-11, d: 10, m1: 1000, m2: 1000})\n",
    "print(\"The rate of change of the force at given values is:\")\n",
    "display(result)"
   ]
  },
  {
   "cell_type": "markdown",
   "metadata": {},
   "source": [
    "### Example 10\n",
    "\n",
    "The price $p$ (in dollars) and the demand $x$ for a certain digital clock radio is given by the price–demand function \n",
    "$$\n",
    "p=10−0.001x.\n",
    "$$\n",
    "* Find the revenue function $R(x)$.\n",
    "* Find the marginal revenue function $MR(x)$.\n",
    "* Find the price that maximizes the revenue.\n"
   ]
  },
  {
   "cell_type": "code",
   "execution_count": null,
   "metadata": {},
   "outputs": [],
   "source": [
    "import sympy as sp\n",
    "from IPython.display import display\n",
    "\n",
    "# define the symbols\n",
    "x = sp.symbols(\"x\")\n",
    "\n",
    "# define the price-demand function\n",
    "p = 10 - 0.001 * x\n",
    "\n",
    "# define the revenue function\n",
    "R = p * x\n",
    "\n",
    "# compute the derivative\n",
    "dR = R.diff(x)\n",
    "\n",
    "# compute the maximum revenue\n",
    "x_max = sp.solve(dR, x)[0]\n",
    "R_max = R.subs(x, x_max)\n",
    "\n",
    "print(\"The revenue function is:\")\n",
    "display(R)\n",
    "print(\"The marginal revenue function is:\")\n",
    "display(dR)\n",
    "print(f\"The maximum revenue is at\\nx = {x_max:.0f} and R({x_max:.0f}) = {R_max:.0f}\")"
   ]
  }
 ],
 "metadata": {
  "kernelspec": {
   "display_name": ".venv",
   "language": "python",
   "name": "python3"
  },
  "language_info": {
   "codemirror_mode": {
    "name": "ipython",
    "version": 3
   },
   "file_extension": ".py",
   "mimetype": "text/x-python",
   "name": "python",
   "nbconvert_exporter": "python",
   "pygments_lexer": "ipython3",
   "version": "3.12.7"
  }
 },
 "nbformat": 4,
 "nbformat_minor": 2
}
